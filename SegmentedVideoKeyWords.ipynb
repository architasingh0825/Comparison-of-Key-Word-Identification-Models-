{
 "cells": [
  {
   "cell_type": "markdown",
   "id": "b31a4719",
   "metadata": {},
   "source": [
    "from __future__ import unicode_literals\n",
    "from PIL import Image\n",
    "import pytesseract\n",
    "from keybert import KeyBERT\n",
    "\n",
    "import os\n",
    "import cv2\n",
    "import shutil"
   ]
  },
  {
   "cell_type": "code",
   "execution_count": 2,
   "id": "4795b177",
   "metadata": {},
   "outputs": [],
   "source": [
    "model = KeyBERT(model = \"distilbert-base-nli-mean-tokens\")"
   ]
  },
  {
   "cell_type": "code",
   "execution_count": 3,
   "id": "8b74fe5c",
   "metadata": {},
   "outputs": [],
   "source": [
    "#path for image files\n",
    "image_frames = 'Section14/image_frames'\n",
    "trimmed = 'Section14/image_frames/trimmed'\n",
    "untrimmed = 'Section14/image_frames/untrimmed'\n",
    "\n",
    "op = []"
   ]
  },
  {
   "cell_type": "code",
   "execution_count": 4,
   "id": "d847fb3c",
   "metadata": {},
   "outputs": [],
   "source": [
    "def files():\n",
    "    try:\n",
    "        shutil.rmtree(image_frames)\n",
    "    except OSError:\n",
    "        pass\n",
    "    if not os.path.exists(image_frames):\n",
    "        os.makedirs(image_frames)\n",
    "        os.makedirs(trimmed)\n",
    "        os.makedirs(untrimmed)\n",
    "        \n",
    "    #specify source video path\n",
    "    src_vid = cv2.VideoCapture('Section14/section14.mp4')\n",
    "    return(src_vid)"
   ]
  },
  {
   "cell_type": "code",
   "execution_count": 5,
   "id": "75e4d301",
   "metadata": {},
   "outputs": [],
   "source": [
    "def process(src_vid):\n",
    "    #Use an index to integer-name the files\n",
    "    index = 0\n",
    "    while src_vid.isOpened():\n",
    "        ret, frame = src_vid.read()\n",
    "        if not ret:\n",
    "            break\n",
    "        #name each frame and save as png\n",
    "        name = untrimmed + \"/\" + str(index) + '.png'\n",
    "        \n",
    "        #save every 100th frame\n",
    "        if index % 875 == 0:\n",
    "            print('Extracting frames...' + name)\n",
    "            cv2.imwrite(name, frame)\n",
    "        index= index + 1\n",
    "        if cv2.waitKey(10) & 0xFF == ord('q'):\n",
    "            break\n",
    "    src_vid.release()\n",
    "    cv2.destroyAllWindows()"
   ]
  },
  {
   "cell_type": "code",
   "execution_count": 6,
   "id": "810bf008",
   "metadata": {},
   "outputs": [],
   "source": [
    "def get_text():\n",
    "    print(\"getting text from images\")\n",
    "    #do image to text on each png and save text to file\n",
    "    for i in os.listdir(untrimmed):\n",
    "        #print(str(i))\n",
    "        my_example = Image.open(untrimmed + \"/\" + i)\n",
    "        txt = pytesseract.image_to_string(my_example, lang = 'eng')\n",
    "        with open(\"Section14/output.txt\",\"a\") as f:\n",
    "            f.write(txt)"
   ]
  },
  {
   "cell_type": "code",
   "execution_count": 7,
   "id": "c8b3a525",
   "metadata": {},
   "outputs": [],
   "source": [
    "def crop_images():\n",
    "    #crop the images with PIL to keep for reference/remove empty space\n",
    "    for i in os.listdir(untrimmed):\n",
    "        im = Image.open(untrimmed + \"/\" + i)\n",
    "        new_path = (trimmed + \"/\" + i + \"_.png\")\n",
    "        box = (400, 0, 900, 720)\n",
    "        region = im.crop(box)\n",
    "        region.save(new_path, \"PNG\")"
   ]
  },
  {
   "cell_type": "code",
   "execution_count": 8,
   "id": "66baf0a3",
   "metadata": {},
   "outputs": [
    {
     "name": "stdout",
     "output_type": "stream",
     "text": [
      "Extracting frames...Section14/image_frames/untrimmed/0.png\n",
      "Extracting frames...Section14/image_frames/untrimmed/875.png\n",
      "Extracting frames...Section14/image_frames/untrimmed/1750.png\n",
      "Extracting frames...Section14/image_frames/untrimmed/2625.png\n",
      "getting text from images\n"
     ]
    }
   ],
   "source": [
    "if __name__ == '__main__':\n",
    "    vid = files()\n",
    "    process(vid)\n",
    "    get_text()\n",
    "    crop_images()\n"
   ]
  }
 ],
 "metadata": {
  "kernelspec": {
   "display_name": "Python 3 (ipykernel)",
   "language": "python",
   "name": "python3"
  },
  "language_info": {
   "codemirror_mode": {
    "name": "ipython",
    "version": 3
   },
   "file_extension": ".py",
   "mimetype": "text/x-python",
   "name": "python",
   "nbconvert_exporter": "python",
   "pygments_lexer": "ipython3",
   "version": "3.9.7"
  }
 },
 "nbformat": 4,
 "nbformat_minor": 5
}
