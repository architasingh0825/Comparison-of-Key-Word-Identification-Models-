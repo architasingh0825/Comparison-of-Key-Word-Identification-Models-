{
 "cells": [
  {
   "cell_type": "code",
   "execution_count": 1,
   "id": "98d5e551",
   "metadata": {},
   "outputs": [],
   "source": [
    "import spacy\n",
    "import re\n",
    "import pandas as pd\n",
    "from sklearn import datasets\n",
    "import numpy as np"
   ]
  },
  {
   "cell_type": "code",
   "execution_count": 2,
   "id": "28b5d55b",
   "metadata": {},
   "outputs": [],
   "source": [
    "nlp = spacy.load(\"en_core_web_lg\")\n",
    "totalGT = 0"
   ]
  },
  {
   "cell_type": "code",
   "execution_count": 3,
   "id": "0850a640",
   "metadata": {},
   "outputs": [],
   "source": [
    "myAlg=[]\n",
    "trueGT=[]"
   ]
  },
  {
   "cell_type": "markdown",
   "id": "c5060c5e",
   "metadata": {},
   "source": [
    "# Section 1"
   ]
  },
  {
   "cell_type": "code",
   "execution_count": 4,
   "id": "00c48e40",
   "metadata": {
    "scrolled": true
   },
   "outputs": [
    {
     "data": {
      "text/plain": [
       "['quizzes', 'class', 'online', 'quizzes', 'student', 'lecture']"
      ]
     },
     "execution_count": 4,
     "metadata": {},
     "output_type": "execute_result"
    }
   ],
   "source": [
    "st = \"quizzes class online quizzes student lecture\"\n",
    "str1n = nlp(st)\n",
    "myAlg += st.split(\" \")\n",
    "myAlg"
   ]
  },
  {
   "cell_type": "code",
   "execution_count": 5,
   "id": "1c2ff9de",
   "metadata": {},
   "outputs": [
    {
     "data": {
      "text/plain": [
       "['quizzes', 'class', 'online', 'quizzes', 'student', 'lecture']"
      ]
     },
     "execution_count": 5,
     "metadata": {},
     "output_type": "execute_result"
    }
   ],
   "source": [
    "myAlg"
   ]
  },
  {
   "cell_type": "code",
   "execution_count": 6,
   "id": "eb73cf41",
   "metadata": {
    "scrolled": true
   },
   "outputs": [
    {
     "data": {
      "text/plain": [
       "introduction human body physical functions human body circulatory system physiology biology chemical"
      ]
     },
     "execution_count": 6,
     "metadata": {},
     "output_type": "execute_result"
    }
   ],
   "source": [
    "str1 = \"introduction,human body,physical functions,human body,circulatory system,physiology,biology,chemical\".replace(\",\",\" \")\n",
    "trueGT += st.split(\",\")\n",
    "str2n = nlp(str1)\n",
    "totalGT += len(str1.split(\" \"))\n",
    "str2n"
   ]
  },
  {
   "cell_type": "code",
   "execution_count": 7,
   "id": "1985d2e6",
   "metadata": {},
   "outputs": [
    {
     "data": {
      "text/plain": [
       "[]"
      ]
     },
     "execution_count": 7,
     "metadata": {},
     "output_type": "execute_result"
    }
   ],
   "source": [
    "a=[]\n",
    "a += list(set(st.split(' ')) & set(str1.split(' ')))\n",
    "a"
   ]
  },
  {
   "cell_type": "code",
   "execution_count": 8,
   "id": "f6c1132c",
   "metadata": {},
   "outputs": [
    {
     "data": {
      "text/plain": [
       "0.46256099171567894"
      ]
     },
     "execution_count": 8,
     "metadata": {},
     "output_type": "execute_result"
    }
   ],
   "source": [
    "str2n.similarity(str1n)"
   ]
  },
  {
   "cell_type": "markdown",
   "id": "b06608ee",
   "metadata": {},
   "source": [
    "# Section 2"
   ]
  },
  {
   "cell_type": "code",
   "execution_count": 9,
   "id": "77f4cbaa",
   "metadata": {
    "scrolled": true
   },
   "outputs": [
    {
     "data": {
      "text/plain": [
       "'homeostasis metabolism excretion food lungs heat exhaling homeostasis constant metabolism catabolic heat materials intake food exchanges heat open exchanges food drink po excretion feces exhaling balance law homeostasis mass balance principle mass skin lungs oo excretion'"
      ]
     },
     "execution_count": 9,
     "metadata": {},
     "output_type": "execute_result"
    }
   ],
   "source": [
    "st = \"homeostasis metabolism excretion food lungs heat exhaling homeostasis constant metabolism catabolic heat materials intake food exchanges heat open exchanges food drink po excretion feces exhaling balance law homeostasis mass balance principle mass skin lungs oo excretion\"\n",
    "\n",
    "str1n = nlp(st)\n",
    "myAlg += st.split(\" \")\n",
    "\n",
    "st"
   ]
  },
  {
   "cell_type": "code",
   "execution_count": 10,
   "id": "c0d0cb82",
   "metadata": {},
   "outputs": [
    {
     "data": {
      "text/plain": [
       "law mass balance balance intake food constant balance body"
      ]
     },
     "execution_count": 10,
     "metadata": {},
     "output_type": "execute_result"
    }
   ],
   "source": [
    "str1 = \"law,mass balance,balance intake,food,constant,balance body\".replace(\",\",\" \")\n",
    "totalGT += len(str1.split(\" \"))\n",
    "str2n = nlp(str1)\n",
    "trueGT += st.split(\",\")\n",
    "\n",
    "str2n"
   ]
  },
  {
   "cell_type": "code",
   "execution_count": 11,
   "id": "62e1f400",
   "metadata": {},
   "outputs": [
    {
     "data": {
      "text/plain": [
       "['balance', 'law', 'food', 'constant', 'mass', 'intake']"
      ]
     },
     "execution_count": 11,
     "metadata": {},
     "output_type": "execute_result"
    }
   ],
   "source": [
    "a += list(set(st.split(' ')) & set(str1.split(' ')))\n",
    "a"
   ]
  },
  {
   "cell_type": "code",
   "execution_count": 12,
   "id": "842e602c",
   "metadata": {},
   "outputs": [
    {
     "data": {
      "text/plain": [
       "0.8740130599273628"
      ]
     },
     "execution_count": 12,
     "metadata": {},
     "output_type": "execute_result"
    }
   ],
   "source": [
    "str2n.similarity(str1n)"
   ]
  },
  {
   "cell_type": "markdown",
   "id": "f216614c",
   "metadata": {},
   "source": [
    "# Section 3"
   ]
  },
  {
   "cell_type": "code",
   "execution_count": 13,
   "id": "3127e208",
   "metadata": {
    "scrolled": true
   },
   "outputs": [
    {
     "data": {
      "text/plain": [
       "'transcellular intracellular extracellular plasma fluid membrane cells compartments water blood inside plasma transcellular cells plasma ecf extracellular _icf intracellular transcellular fluid cells intracellular blood plasma plasma membrane cells fluid extracellular intracellular icf intracellular extracellular fluid plasma fluid intracellular fluid intracellular intracellular'"
      ]
     },
     "execution_count": 13,
     "metadata": {},
     "output_type": "execute_result"
    }
   ],
   "source": [
    "st = \"transcellular intracellular extracellular plasma fluid membrane cells compartments water blood inside plasma transcellular cells plasma ecf extracellular _icf intracellular transcellular fluid cells intracellular blood plasma plasma membrane cells fluid extracellular intracellular icf intracellular extracellular fluid plasma fluid intracellular fluid intracellular intracellular\"\n",
    "\n",
    "str1n = nlp(st)\n",
    "myAlg += st.split(\" \")\n",
    "\n",
    "st"
   ]
  },
  {
   "cell_type": "code",
   "execution_count": 14,
   "id": "ae14a2bb",
   "metadata": {},
   "outputs": [
    {
     "data": {
      "text/plain": [
       "fluid blood body extracellular intracellular plasma compartments ecf extracellular fluid cells plasma total body water plasma fluid blood divided"
      ]
     },
     "execution_count": 14,
     "metadata": {},
     "output_type": "execute_result"
    }
   ],
   "source": [
    "str1 = \"fluid,blood,body extracellular,intracellular plasma,compartments,ecf extracellular fluid cells plasma,total body water,plasma fluid,blood,divided\".replace(\",\",\" \")\n",
    "totalGT += len(str1.split(\" \"))\n",
    "\n",
    "str2n = nlp(str1)\n",
    "trueGT += st.split(\",\")\n",
    "\n",
    "str2n"
   ]
  },
  {
   "cell_type": "code",
   "execution_count": 15,
   "id": "4dbd1d5b",
   "metadata": {},
   "outputs": [
    {
     "data": {
      "text/plain": [
       "['balance',\n",
       " 'law',\n",
       " 'food',\n",
       " 'constant',\n",
       " 'mass',\n",
       " 'intake',\n",
       " 'ecf',\n",
       " 'blood',\n",
       " 'plasma',\n",
       " 'fluid',\n",
       " 'cells',\n",
       " 'compartments',\n",
       " 'intracellular',\n",
       " 'extracellular',\n",
       " 'water']"
      ]
     },
     "execution_count": 15,
     "metadata": {},
     "output_type": "execute_result"
    }
   ],
   "source": [
    "a += list(set(st.split(' ')) & set(str1.split(' ')))\n",
    "a"
   ]
  },
  {
   "cell_type": "code",
   "execution_count": 16,
   "id": "c4de4502",
   "metadata": {},
   "outputs": [
    {
     "data": {
      "text/plain": [
       "0.9484730859272311"
      ]
     },
     "execution_count": 16,
     "metadata": {},
     "output_type": "execute_result"
    }
   ],
   "source": [
    "str2n.similarity(str1n)"
   ]
  },
  {
   "cell_type": "markdown",
   "id": "c7000077",
   "metadata": {},
   "source": [
    "# Section 4"
   ]
  },
  {
   "cell_type": "code",
   "execution_count": 17,
   "id": "09a145f6",
   "metadata": {
    "scrolled": true
   },
   "outputs": [
    {
     "data": {
      "text/plain": [
       "intracellular solute ionic plasma proteins proteins homeostasis equilibrium extracellular fluid cell equilibrium membrane fluid intracellular concentrations solutes membrane intracellular equilibrium osmotic permeability membrane osmotic equilibrium fluid chemical compartments steady ionic imbalances homeostasis equilibrium plasma volume"
      ]
     },
     "execution_count": 17,
     "metadata": {},
     "output_type": "execute_result"
    }
   ],
   "source": [
    "st = \"intracellular solute ionic plasma proteins proteins homeostasis equilibrium extracellular fluid cell equilibrium membrane fluid intracellular concentrations solutes membrane intracellular equilibrium osmotic permeability membrane osmotic equilibrium fluid chemical compartments steady ionic imbalances homeostasis equilibrium plasma volume\"\n",
    "\n",
    "str1n = nlp(st)\n",
    "myAlg += st.split(\" \")\n",
    "\n",
    "str1n"
   ]
  },
  {
   "cell_type": "code",
   "execution_count": 18,
   "id": "071ac4d6",
   "metadata": {},
   "outputs": [
    {
     "data": {
      "text/plain": [
       "homeostasis osmotic equilibrium electrically neutral homeostasis refers osmotic equilibrium composition total amount concentration gradients body"
      ]
     },
     "execution_count": 18,
     "metadata": {},
     "output_type": "execute_result"
    }
   ],
   "source": [
    "str1 = \"homeostasis,osmotic equilibrium,electrically neutral homeostasis refers,osmotic equilibrium,composition,total amount,concentration gradients,body\".replace(\",\",\" \")\n",
    "totalGT += len(str1.split(\" \"))\n",
    "trueGT += st.split(\",\")\n",
    "\n",
    "str2n = nlp(str1)\n",
    "str2n"
   ]
  },
  {
   "cell_type": "code",
   "execution_count": 19,
   "id": "56f1aaa4",
   "metadata": {},
   "outputs": [
    {
     "data": {
      "text/plain": [
       "['balance',\n",
       " 'law',\n",
       " 'food',\n",
       " 'constant',\n",
       " 'mass',\n",
       " 'intake',\n",
       " 'ecf',\n",
       " 'blood',\n",
       " 'plasma',\n",
       " 'fluid',\n",
       " 'cells',\n",
       " 'compartments',\n",
       " 'intracellular',\n",
       " 'extracellular',\n",
       " 'water',\n",
       " 'homeostasis',\n",
       " 'osmotic',\n",
       " 'equilibrium']"
      ]
     },
     "execution_count": 19,
     "metadata": {},
     "output_type": "execute_result"
    }
   ],
   "source": [
    "a += list(set(st.split(' ')) & set(str1.split(' ')))\n",
    "a"
   ]
  },
  {
   "cell_type": "code",
   "execution_count": 20,
   "id": "3b70835b",
   "metadata": {},
   "outputs": [
    {
     "data": {
      "text/plain": [
       "0.8956806592016139"
      ]
     },
     "execution_count": 20,
     "metadata": {},
     "output_type": "execute_result"
    }
   ],
   "source": [
    "str2n.similarity(str1n)"
   ]
  },
  {
   "cell_type": "markdown",
   "id": "fd6db4d8",
   "metadata": {},
   "source": [
    "# Section 5"
   ]
  },
  {
   "cell_type": "code",
   "execution_count": 21,
   "id": "4700c261",
   "metadata": {
    "scrolled": true
   },
   "outputs": [],
   "source": [
    "\n",
    "\n",
    "st = \"plasmalemma extracellular proteins cytoskeleton plasma membrane glycoprotein phosphatidylcholine inositol4 intracellular ions membranes cellular cells lipids phosphocholine cell matrix phosphatidylinositol phospholipids membrane plasmalemma plasma membrane plasmalemma functionally cell membrane membrane proteins extracellular matrix proteins membrane membrane sphingolipids membrane lipid membrane membrane cells extracellular extracellular compartments proteins intracellular proteins lipid cell tissues\"\n",
    "\n",
    "str1n = nlp(st)\n",
    "str1n\n",
    "myAlg += st.split(\" \")\n"
   ]
  },
  {
   "cell_type": "code",
   "execution_count": 22,
   "id": "c47b3a1d",
   "metadata": {},
   "outputs": [
    {
     "data": {
      "text/plain": [
       "plasma fluid mosaic model physical barrier environment proteins hydrophilic head cell membrane sugar monomer membrane enable extracellular matrix lipids membrane specialized junctions plasma hydrophilic head physical isolation glycerol fatty acid membrane membranes fluid mosaic model plasma membrane maintaining cell shape stabilizing cells proteins"
      ]
     },
     "execution_count": 22,
     "metadata": {},
     "output_type": "execute_result"
    }
   ],
   "source": [
    "str1 = \"plasma,fluid mosaic model,physical barrier,environment proteins,hydrophilic,head,cell membrane,sugar monomer membrane enable,extracellular matrix,lipids membrane,specialized junctions,plasma,hydrophilic head,physical isolation,glycerol fatty acid,membrane membranes,fluid mosaic model,plasma membrane,maintaining cell shape,stabilizing cells,proteins\".replace(\",\",\" \")\n",
    "totalGT += len(str1.split(\" \"))\n",
    "trueGT += st.split(\",\")\n",
    "\n",
    "str2n = nlp(str1)\n",
    "str2n"
   ]
  },
  {
   "cell_type": "code",
   "execution_count": 23,
   "id": "27980262",
   "metadata": {},
   "outputs": [
    {
     "data": {
      "text/plain": [
       "['balance',\n",
       " 'law',\n",
       " 'food',\n",
       " 'constant',\n",
       " 'mass',\n",
       " 'intake',\n",
       " 'ecf',\n",
       " 'blood',\n",
       " 'plasma',\n",
       " 'fluid',\n",
       " 'cells',\n",
       " 'compartments',\n",
       " 'intracellular',\n",
       " 'extracellular',\n",
       " 'water',\n",
       " 'homeostasis',\n",
       " 'osmotic',\n",
       " 'equilibrium',\n",
       " 'membranes',\n",
       " 'plasma',\n",
       " 'cell',\n",
       " 'cells',\n",
       " 'membrane',\n",
       " 'extracellular',\n",
       " 'lipids',\n",
       " 'proteins',\n",
       " 'matrix']"
      ]
     },
     "execution_count": 23,
     "metadata": {},
     "output_type": "execute_result"
    }
   ],
   "source": [
    "a += list(set(st.split(' ')) & set(str1.split(' ')))\n",
    "a"
   ]
  },
  {
   "cell_type": "code",
   "execution_count": 24,
   "id": "70d27220",
   "metadata": {},
   "outputs": [
    {
     "data": {
      "text/plain": [
       "0.9492951026657321"
      ]
     },
     "execution_count": 24,
     "metadata": {},
     "output_type": "execute_result"
    }
   ],
   "source": [
    "str2n.similarity(str1n)"
   ]
  },
  {
   "cell_type": "markdown",
   "id": "779b256a",
   "metadata": {},
   "source": [
    "# Section 6"
   ]
  },
  {
   "cell_type": "code",
   "execution_count": 25,
   "id": "bcc6a581",
   "metadata": {
    "scrolled": true
   },
   "outputs": [],
   "source": [
    "st = \"membrane cholesterol lipids plasma lipids include easily hydrophobic improves membrane cholesterol aids lipid rafts membrane flexibility ll cholesterol proteins extracellular\"\n",
    "\n",
    "\n",
    "str1n = nlp(st)\n",
    "str1n\n",
    "myAlg += st.split(\" \")\n"
   ]
  },
  {
   "cell_type": "code",
   "execution_count": 26,
   "id": "6cf08ce4",
   "metadata": {},
   "outputs": [
    {
     "data": {
      "text/plain": [
       "lipids found membrane flexibility membrane impermeable phospholipid interaction plasma membrane hydrophobic lipids found membrane flexibility cholesterol plasma membrane cholesterol phospholipids plasma membrane cholesterol"
      ]
     },
     "execution_count": 26,
     "metadata": {},
     "output_type": "execute_result"
    }
   ],
   "source": [
    "str1 = \"lipids found,membrane flexibility,membrane impermeable,phospholipid interaction,plasma membrane hydrophobic,lipids found,membrane flexibility,cholesterol,plasma membrane,cholesterol phospholipids,plasma membrane cholesterol\".replace(\",\",\" \")\n",
    "totalGT += len(str1.split(\" \"))\n",
    "trueGT += st.split(\",\")\n",
    "\n",
    "str2n = nlp(str1)\n",
    "str2n"
   ]
  },
  {
   "cell_type": "code",
   "execution_count": 27,
   "id": "a54e6213",
   "metadata": {},
   "outputs": [
    {
     "data": {
      "text/plain": [
       "['balance',\n",
       " 'law',\n",
       " 'food',\n",
       " 'constant',\n",
       " 'mass',\n",
       " 'intake',\n",
       " 'ecf',\n",
       " 'blood',\n",
       " 'plasma',\n",
       " 'fluid',\n",
       " 'cells',\n",
       " 'compartments',\n",
       " 'intracellular',\n",
       " 'extracellular',\n",
       " 'water',\n",
       " 'homeostasis',\n",
       " 'osmotic',\n",
       " 'equilibrium',\n",
       " 'membranes',\n",
       " 'plasma',\n",
       " 'cell',\n",
       " 'cells',\n",
       " 'membrane',\n",
       " 'extracellular',\n",
       " 'lipids',\n",
       " 'proteins',\n",
       " 'matrix',\n",
       " 'plasma',\n",
       " 'flexibility',\n",
       " 'membrane',\n",
       " 'hydrophobic',\n",
       " 'lipids',\n",
       " 'cholesterol']"
      ]
     },
     "execution_count": 27,
     "metadata": {},
     "output_type": "execute_result"
    }
   ],
   "source": [
    "a += list(set(st.split(' ')) & set(str1.split(' ')))\n",
    "a"
   ]
  },
  {
   "cell_type": "code",
   "execution_count": 28,
   "id": "7a98d102",
   "metadata": {},
   "outputs": [
    {
     "data": {
      "text/plain": [
       "0.9376272433666633"
      ]
     },
     "execution_count": 28,
     "metadata": {},
     "output_type": "execute_result"
    }
   ],
   "source": [
    "str2n.similarity(str1n)"
   ]
  },
  {
   "cell_type": "markdown",
   "id": "af22f4e5",
   "metadata": {},
   "source": [
    "# Section 7"
   ]
  },
  {
   "cell_type": "code",
   "execution_count": 29,
   "id": "948f98b7",
   "metadata": {
    "scrolled": true
   },
   "outputs": [],
   "source": [
    "st = \"proteins lipids lipid cytoplasmic protein transmembrane cytoskeletal extracellular intracellular enzymes receptor hydrophobic membrane sphingolipids receptors ligand cytosol molecules cytoskeletal proteins membrane proteins binding proteins anchored proteins proteins extracellular proteins molecules transmembrane proteins proteins covalently hydrophobic transmembrane lipids include proteins integral lipid rafts gnfracellular proteins integral proteins proteins attached\"\n",
    "\n",
    "str1n = nlp(st)\n",
    "str1n\n",
    "myAlg += st.split(\" \")\n"
   ]
  },
  {
   "cell_type": "code",
   "execution_count": 30,
   "id": "0da64e49",
   "metadata": {},
   "outputs": [],
   "source": [
    "str1 = \"membrane,membrane proteins,ligand binding domain,protein depending,adhesion,interaction,anchor,adhesion molecules,adhesion,extracellular intracellular,ligand binding,interaction,extracellular ligand binding,ligand binding domain,molecules,membrane,adhesion molecules,domain,membrane possess,structural binding,hydrophobic segments\".replace(\",\",\" \")\n",
    "totalGT += len(str1.split(\" \"))\n",
    "\n",
    "str2n = nlp(str1)\n",
    "str2n\n",
    "trueGT += st.split(\",\")\n"
   ]
  },
  {
   "cell_type": "code",
   "execution_count": 31,
   "id": "428c8287",
   "metadata": {},
   "outputs": [],
   "source": [
    "a += list(set(st.split(' ')) & set(str1.split(' ')))"
   ]
  },
  {
   "cell_type": "code",
   "execution_count": 32,
   "id": "529b5551",
   "metadata": {},
   "outputs": [
    {
     "data": {
      "text/plain": [
       "0.9306463980469541"
      ]
     },
     "execution_count": 32,
     "metadata": {},
     "output_type": "execute_result"
    }
   ],
   "source": [
    "str2n.similarity(str1n)"
   ]
  },
  {
   "cell_type": "markdown",
   "id": "59f93164",
   "metadata": {},
   "source": [
    "# Section 8"
   ]
  },
  {
   "cell_type": "code",
   "execution_count": 33,
   "id": "d6e59a12",
   "metadata": {
    "scrolled": true
   },
   "outputs": [],
   "source": [
    "st = \"hydrolysis pumps hydrolysis atp atp solutes energy hydrolysis channel proteins solute pumps membrane pores molecules membranes hydrolysis transport membrane membrane concentration molecule membrane transporter molecules membrane direct pumps\"\n",
    "\n",
    "str1n = nlp(st)\n",
    "str1n\n",
    "myAlg += st.split(\" \")\n"
   ]
  },
  {
   "cell_type": "code",
   "execution_count": 34,
   "id": "2f6b5535",
   "metadata": {},
   "outputs": [
    {
     "data": {
      "text/plain": [
       "carrier proteins bind molecules move transporter molecules channels move solutes filled passages solute pumps concentration gradient molecules move carrier proteins bind move molecules proteins create membrane carriers facilitate"
      ]
     },
     "execution_count": 34,
     "metadata": {},
     "output_type": "execute_result"
    }
   ],
   "source": [
    "str1 = \"carrier proteins bind,molecules move,transporter molecules,channels,move solutes,filled passages,solute pumps,concentration gradient,molecules move,carrier proteins bind,move molecules,proteins create,membrane,carriers facilitate\".replace(\",\",\" \")\n",
    "totalGT += len(str1.split(\" \"))\n",
    "trueGT += st.split(\",\")\n",
    "\n",
    "str2n = nlp(str1)\n",
    "str2n"
   ]
  },
  {
   "cell_type": "code",
   "execution_count": 35,
   "id": "8f525aab",
   "metadata": {},
   "outputs": [
    {
     "data": {
      "text/plain": [
       "['balance',\n",
       " 'law',\n",
       " 'food',\n",
       " 'constant',\n",
       " 'mass',\n",
       " 'intake',\n",
       " 'ecf',\n",
       " 'blood',\n",
       " 'plasma',\n",
       " 'fluid',\n",
       " 'cells',\n",
       " 'compartments',\n",
       " 'intracellular',\n",
       " 'extracellular',\n",
       " 'water',\n",
       " 'homeostasis',\n",
       " 'osmotic',\n",
       " 'equilibrium',\n",
       " 'membranes',\n",
       " 'plasma',\n",
       " 'cell',\n",
       " 'cells',\n",
       " 'membrane',\n",
       " 'extracellular',\n",
       " 'lipids',\n",
       " 'proteins',\n",
       " 'matrix',\n",
       " 'plasma',\n",
       " 'flexibility',\n",
       " 'membrane',\n",
       " 'hydrophobic',\n",
       " 'lipids',\n",
       " 'cholesterol',\n",
       " 'protein',\n",
       " 'membrane',\n",
       " 'binding',\n",
       " 'hydrophobic',\n",
       " 'intracellular',\n",
       " 'ligand',\n",
       " 'extracellular',\n",
       " 'proteins',\n",
       " 'molecules',\n",
       " 'proteins',\n",
       " 'membrane',\n",
       " 'pumps',\n",
       " 'solutes',\n",
       " 'solute',\n",
       " 'transporter',\n",
       " 'concentration',\n",
       " 'molecules']"
      ]
     },
     "execution_count": 35,
     "metadata": {},
     "output_type": "execute_result"
    }
   ],
   "source": [
    "a += list(set(st.split(' ')) & set(str1.split(' ')))\n",
    "a"
   ]
  },
  {
   "cell_type": "code",
   "execution_count": 36,
   "id": "f6c25159",
   "metadata": {},
   "outputs": [
    {
     "data": {
      "text/plain": [
       "0.8914671654149164"
      ]
     },
     "execution_count": 36,
     "metadata": {},
     "output_type": "execute_result"
    }
   ],
   "source": [
    "str2n.similarity(str1n)"
   ]
  },
  {
   "cell_type": "markdown",
   "id": "c17ab935",
   "metadata": {},
   "source": [
    "# Section 9"
   ]
  },
  {
   "cell_type": "code",
   "execution_count": 37,
   "id": "844d6868",
   "metadata": {
    "scrolled": true
   },
   "outputs": [],
   "source": [
    "st = \"glycoprotein extracellular proteins enzymes cytoskeleton kinases carbohydrates phospholipase carbohydrat glycolipid protein intracellular lipid cytoplas glycocalyx phospholipids catalyze plasma membrane glycoprotein glycolipid kinases enzymes phospholipase intracellular membrane carbohydrates proteins kinases proteins cytoskeleton protein glycoprotein containing proteins carbohydrates extracellular intracellular signaling proteins helps membrane protein lipid glycolipid cells glycocalyx cytoskeleton molecules \" \n",
    "\n",
    "str1n = nlp(st)\n",
    "str1n\n",
    "myAlg += st.split(\" \")\n"
   ]
  },
  {
   "cell_type": "code",
   "execution_count": 38,
   "id": "ddcfbdcf",
   "metadata": {},
   "outputs": [
    {
     "data": {
      "text/plain": [
       "signals received plasma membrane functions protein peripheral proteins proteins kinases membrane bound membrane molecule membrane carbohydrates membrane bound fatty acid cytoskeleton includes peripheral proteins molecule functions phospholipid protein membrane protein"
      ]
     },
     "execution_count": 38,
     "metadata": {},
     "output_type": "execute_result"
    }
   ],
   "source": [
    "str1 = \"signals received,plasma membrane,functions protein,peripheral proteins,proteins kinases,membrane bound,membrane molecule,membrane carbohydrates,membrane bound,fatty acid,cytoskeleton includes,peripheral proteins,molecule functions,phospholipid protein,membrane protein\".replace(\",\",\" \")\n",
    "totalGT += len(str1.split(\" \"))\n",
    "trueGT += st.split(\",\")\n",
    "\n",
    "str2n = nlp(str1)\n",
    "str2n"
   ]
  },
  {
   "cell_type": "code",
   "execution_count": 39,
   "id": "0f8a0c2c",
   "metadata": {},
   "outputs": [
    {
     "data": {
      "text/plain": [
       "['balance',\n",
       " 'law',\n",
       " 'food',\n",
       " 'constant',\n",
       " 'mass',\n",
       " 'intake',\n",
       " 'ecf',\n",
       " 'blood',\n",
       " 'plasma',\n",
       " 'fluid',\n",
       " 'cells',\n",
       " 'compartments',\n",
       " 'intracellular',\n",
       " 'extracellular',\n",
       " 'water',\n",
       " 'homeostasis',\n",
       " 'osmotic',\n",
       " 'equilibrium',\n",
       " 'membranes',\n",
       " 'plasma',\n",
       " 'cell',\n",
       " 'cells',\n",
       " 'membrane',\n",
       " 'extracellular',\n",
       " 'lipids',\n",
       " 'proteins',\n",
       " 'matrix',\n",
       " 'plasma',\n",
       " 'flexibility',\n",
       " 'membrane',\n",
       " 'hydrophobic',\n",
       " 'lipids',\n",
       " 'cholesterol',\n",
       " 'protein',\n",
       " 'membrane',\n",
       " 'binding',\n",
       " 'hydrophobic',\n",
       " 'intracellular',\n",
       " 'ligand',\n",
       " 'extracellular',\n",
       " 'proteins',\n",
       " 'molecules',\n",
       " 'proteins',\n",
       " 'membrane',\n",
       " 'pumps',\n",
       " 'solutes',\n",
       " 'solute',\n",
       " 'transporter',\n",
       " 'concentration',\n",
       " 'molecules',\n",
       " 'plasma',\n",
       " 'protein',\n",
       " 'kinases',\n",
       " 'membrane',\n",
       " 'carbohydrates',\n",
       " 'cytoskeleton',\n",
       " 'proteins']"
      ]
     },
     "execution_count": 39,
     "metadata": {},
     "output_type": "execute_result"
    }
   ],
   "source": [
    "a += list(set(st.split(' ')) & set(str1.split(' ')))\n",
    "a"
   ]
  },
  {
   "cell_type": "code",
   "execution_count": 40,
   "id": "a70bc2df",
   "metadata": {},
   "outputs": [
    {
     "data": {
      "text/plain": [
       "0.9634911332910912"
      ]
     },
     "execution_count": 40,
     "metadata": {},
     "output_type": "execute_result"
    }
   ],
   "source": [
    "str2n.similarity(str1n)"
   ]
  },
  {
   "cell_type": "markdown",
   "id": "3b31d719",
   "metadata": {},
   "source": [
    "# Section 10"
   ]
  },
  {
   "cell_type": "code",
   "execution_count": 41,
   "id": "eade1c57",
   "metadata": {
    "scrolled": true
   },
   "outputs": [],
   "source": [
    "st = \"fluids circulatory fluid gradients masse flow pressure respiratory bulk moves components pressure gradients fluids flow flow pressure pressure components causes fluids circulatory respiratory pressure region gradients causes bulk flow components fluid fluids examples circulatory circulatory respiratory bulk flow region \"\n",
    "str1n = nlp(st)\n",
    "str1n\n",
    "myAlg += st.split(\" \")\n",
    "\n"
   ]
  },
  {
   "cell_type": "code",
   "execution_count": 42,
   "id": "dbea7a07",
   "metadata": {},
   "outputs": [
    {
     "data": {
      "text/plain": [
       "flow pressure gradients fluid moves bulk flow fluids bulk flow lower pressure flow pressure gradients components pressure"
      ]
     },
     "execution_count": 42,
     "metadata": {},
     "output_type": "execute_result"
    }
   ],
   "source": [
    "str1 = \"flow pressure gradients,fluid moves,bulk flow,fluids,bulk flow,lower pressure,flow pressure gradients,components,pressure\".replace(\",\",\" \")\n",
    "totalGT += len(str1.split(\" \"))\n",
    "trueGT += st.split(\",\")\n",
    "str2n = nlp(str1)\n",
    "str2n"
   ]
  },
  {
   "cell_type": "code",
   "execution_count": 43,
   "id": "079962ea",
   "metadata": {},
   "outputs": [
    {
     "data": {
      "text/plain": [
       "['balance',\n",
       " 'law',\n",
       " 'food',\n",
       " 'constant',\n",
       " 'mass',\n",
       " 'intake',\n",
       " 'ecf',\n",
       " 'blood',\n",
       " 'plasma',\n",
       " 'fluid',\n",
       " 'cells',\n",
       " 'compartments',\n",
       " 'intracellular',\n",
       " 'extracellular',\n",
       " 'water',\n",
       " 'homeostasis',\n",
       " 'osmotic',\n",
       " 'equilibrium',\n",
       " 'membranes',\n",
       " 'plasma',\n",
       " 'cell',\n",
       " 'cells',\n",
       " 'membrane',\n",
       " 'extracellular',\n",
       " 'lipids',\n",
       " 'proteins',\n",
       " 'matrix',\n",
       " 'plasma',\n",
       " 'flexibility',\n",
       " 'membrane',\n",
       " 'hydrophobic',\n",
       " 'lipids',\n",
       " 'cholesterol',\n",
       " 'protein',\n",
       " 'membrane',\n",
       " 'binding',\n",
       " 'hydrophobic',\n",
       " 'intracellular',\n",
       " 'ligand',\n",
       " 'extracellular',\n",
       " 'proteins',\n",
       " 'molecules',\n",
       " 'proteins',\n",
       " 'membrane',\n",
       " 'pumps',\n",
       " 'solutes',\n",
       " 'solute',\n",
       " 'transporter',\n",
       " 'concentration',\n",
       " 'molecules',\n",
       " 'plasma',\n",
       " 'protein',\n",
       " 'kinases',\n",
       " 'membrane',\n",
       " 'carbohydrates',\n",
       " 'cytoskeleton',\n",
       " 'proteins',\n",
       " 'fluid',\n",
       " 'moves',\n",
       " 'components',\n",
       " 'flow',\n",
       " 'pressure',\n",
       " 'fluids',\n",
       " 'gradients',\n",
       " 'bulk']"
      ]
     },
     "execution_count": 43,
     "metadata": {},
     "output_type": "execute_result"
    }
   ],
   "source": [
    "a += list(set(st.split(' ')) & set(str1.split(' ')))\n",
    "a"
   ]
  },
  {
   "cell_type": "code",
   "execution_count": 44,
   "id": "875a6a15",
   "metadata": {},
   "outputs": [
    {
     "data": {
      "text/plain": [
       "0.9643403933236151"
      ]
     },
     "execution_count": 44,
     "metadata": {},
     "output_type": "execute_result"
    }
   ],
   "source": [
    "str2n.similarity(str1n)"
   ]
  },
  {
   "cell_type": "markdown",
   "id": "66dbc377",
   "metadata": {},
   "source": [
    "# Section 11"
   ]
  },
  {
   "cell_type": "code",
   "execution_count": 45,
   "id": "2de65481",
   "metadata": {
    "scrolled": true
   },
   "outputs": [],
   "source": [
    "st = \"plasma lipid protein membrane membranes solubility molecules molecular permeability glucose permeable acids barriers energy molecule soluble atp permeability plasma plasma membranes membrane selectively plasma membrane membrane properties membrane permeability substance plasma lipid protein determined lipid lipid highly molecule lipid particle membrane solubility molecule composition plasma membrane force \"\n",
    "str1n = nlp(st)\n",
    "str1n\n",
    "myAlg += st.split(\" \")\n"
   ]
  },
  {
   "cell_type": "code",
   "execution_count": 46,
   "id": "7dc4692f",
   "metadata": {},
   "outputs": [
    {
     "data": {
      "text/plain": [
       "membrane permeability permeable plasma membrane produce movement require energy produce movement particles lipid permeable soluble uncharged membrane drive molecules glucose molecules plasma membrane soluble charged soluble water"
      ]
     },
     "execution_count": 46,
     "metadata": {},
     "output_type": "execute_result"
    }
   ],
   "source": [
    "str1 = \"membrane permeability,permeable,plasma membrane,produce movement,require energy,produce movement,particles,lipid,permeable,soluble uncharged,membrane,drive,molecules glucose,molecules,plasma membrane,soluble charged,soluble water\".replace(\",\",\" \")\n",
    "totalGT += len(str1.split(\" \"))\n",
    "trueGT += st.split(\",\")\n",
    "\n",
    "str2n = nlp(str1)\n",
    "str2n"
   ]
  },
  {
   "cell_type": "code",
   "execution_count": 47,
   "id": "ffa6b316",
   "metadata": {},
   "outputs": [
    {
     "data": {
      "text/plain": [
       "['balance',\n",
       " 'law',\n",
       " 'food',\n",
       " 'constant',\n",
       " 'mass',\n",
       " 'intake',\n",
       " 'ecf',\n",
       " 'blood',\n",
       " 'plasma',\n",
       " 'fluid',\n",
       " 'cells',\n",
       " 'compartments',\n",
       " 'intracellular',\n",
       " 'extracellular',\n",
       " 'water',\n",
       " 'homeostasis',\n",
       " 'osmotic',\n",
       " 'equilibrium',\n",
       " 'membranes',\n",
       " 'plasma',\n",
       " 'cell',\n",
       " 'cells',\n",
       " 'membrane',\n",
       " 'extracellular',\n",
       " 'lipids',\n",
       " 'proteins',\n",
       " 'matrix',\n",
       " 'plasma',\n",
       " 'flexibility',\n",
       " 'membrane',\n",
       " 'hydrophobic',\n",
       " 'lipids',\n",
       " 'cholesterol',\n",
       " 'protein',\n",
       " 'membrane',\n",
       " 'binding',\n",
       " 'hydrophobic',\n",
       " 'intracellular',\n",
       " 'ligand',\n",
       " 'extracellular',\n",
       " 'proteins',\n",
       " 'molecules',\n",
       " 'proteins',\n",
       " 'membrane',\n",
       " 'pumps',\n",
       " 'solutes',\n",
       " 'solute',\n",
       " 'transporter',\n",
       " 'concentration',\n",
       " 'molecules',\n",
       " 'plasma',\n",
       " 'protein',\n",
       " 'kinases',\n",
       " 'membrane',\n",
       " 'carbohydrates',\n",
       " 'cytoskeleton',\n",
       " 'proteins',\n",
       " 'fluid',\n",
       " 'moves',\n",
       " 'components',\n",
       " 'flow',\n",
       " 'pressure',\n",
       " 'fluids',\n",
       " 'gradients',\n",
       " 'bulk',\n",
       " 'plasma',\n",
       " 'permeable',\n",
       " 'membrane',\n",
       " 'glucose',\n",
       " 'lipid',\n",
       " 'soluble',\n",
       " 'energy',\n",
       " 'permeability',\n",
       " 'molecules']"
      ]
     },
     "execution_count": 47,
     "metadata": {},
     "output_type": "execute_result"
    }
   ],
   "source": [
    "a += list(set(st.split(' ')) & set(str1.split(' ')))\n",
    "a"
   ]
  },
  {
   "cell_type": "code",
   "execution_count": 48,
   "id": "78e27578",
   "metadata": {},
   "outputs": [
    {
     "data": {
      "text/plain": [
       "0.9561183037945632"
      ]
     },
     "execution_count": 48,
     "metadata": {},
     "output_type": "execute_result"
    }
   ],
   "source": [
    "str2n.similarity(str1n)"
   ]
  },
  {
   "cell_type": "markdown",
   "id": "e87cccea",
   "metadata": {},
   "source": [
    "# Section 12"
   ]
  },
  {
   "cell_type": "code",
   "execution_count": 49,
   "id": "581b0dd0",
   "metadata": {
    "scrolled": true
   },
   "outputs": [],
   "source": [
    "st = \"diffusion membrane diffusion diffusion protein gradient molecules diffusion dye gradients diffusion properties diffusion diffusion properties transport diffusion membrane transport dye molecules diffusion diffusion transport membrane molecules equilibrium net diffusion osmosis diffusion\"\n",
    "str1n = nlp(st)\n",
    "str1n\n",
    "myAlg += st.split(\" \")\n"
   ]
  },
  {
   "cell_type": "code",
   "execution_count": 50,
   "id": "25d8921f",
   "metadata": {},
   "outputs": [
    {
     "data": {
      "text/plain": [
       "diffusion concentration diffusion movement diffusion molecules diffusion concentration gradient properties equilibrium difference diffusion diffusion concentration molecules diffusion concentration movement diffusion"
      ]
     },
     "execution_count": 50,
     "metadata": {},
     "output_type": "execute_result"
    }
   ],
   "source": [
    "str1 = \"diffusion concentration,diffusion,movement diffusion,molecules diffusion concentration gradient,properties,equilibrium,difference,diffusion,diffusion concentration,molecules diffusion,concentration,movement diffusion\".replace(\",\",\" \")\n",
    "totalGT += len(str1.split(\" \"))\n",
    "trueGT += st.split(\",\")\n",
    "\n",
    "str2n = nlp(str1)\n",
    "str2n"
   ]
  },
  {
   "cell_type": "code",
   "execution_count": 51,
   "id": "aca9bf75",
   "metadata": {},
   "outputs": [
    {
     "data": {
      "text/plain": [
       "['balance',\n",
       " 'law',\n",
       " 'food',\n",
       " 'constant',\n",
       " 'mass',\n",
       " 'intake',\n",
       " 'ecf',\n",
       " 'blood',\n",
       " 'plasma',\n",
       " 'fluid',\n",
       " 'cells',\n",
       " 'compartments',\n",
       " 'intracellular',\n",
       " 'extracellular',\n",
       " 'water',\n",
       " 'homeostasis',\n",
       " 'osmotic',\n",
       " 'equilibrium',\n",
       " 'membranes',\n",
       " 'plasma',\n",
       " 'cell',\n",
       " 'cells',\n",
       " 'membrane',\n",
       " 'extracellular',\n",
       " 'lipids',\n",
       " 'proteins',\n",
       " 'matrix',\n",
       " 'plasma',\n",
       " 'flexibility',\n",
       " 'membrane',\n",
       " 'hydrophobic',\n",
       " 'lipids',\n",
       " 'cholesterol',\n",
       " 'protein',\n",
       " 'membrane',\n",
       " 'binding',\n",
       " 'hydrophobic',\n",
       " 'intracellular',\n",
       " 'ligand',\n",
       " 'extracellular',\n",
       " 'proteins',\n",
       " 'molecules',\n",
       " 'proteins',\n",
       " 'membrane',\n",
       " 'pumps',\n",
       " 'solutes',\n",
       " 'solute',\n",
       " 'transporter',\n",
       " 'concentration',\n",
       " 'molecules',\n",
       " 'plasma',\n",
       " 'protein',\n",
       " 'kinases',\n",
       " 'membrane',\n",
       " 'carbohydrates',\n",
       " 'cytoskeleton',\n",
       " 'proteins',\n",
       " 'fluid',\n",
       " 'moves',\n",
       " 'components',\n",
       " 'flow',\n",
       " 'pressure',\n",
       " 'fluids',\n",
       " 'gradients',\n",
       " 'bulk',\n",
       " 'plasma',\n",
       " 'permeable',\n",
       " 'membrane',\n",
       " 'glucose',\n",
       " 'lipid',\n",
       " 'soluble',\n",
       " 'energy',\n",
       " 'permeability',\n",
       " 'molecules',\n",
       " 'properties',\n",
       " 'equilibrium',\n",
       " 'gradient',\n",
       " 'diffusion',\n",
       " 'molecules']"
      ]
     },
     "execution_count": 51,
     "metadata": {},
     "output_type": "execute_result"
    }
   ],
   "source": [
    "a += list(set(st.split(' ')) & set(str1.split(' ')))\n",
    "a"
   ]
  },
  {
   "cell_type": "code",
   "execution_count": 52,
   "id": "066dcfcc",
   "metadata": {},
   "outputs": [
    {
     "data": {
      "text/plain": [
       "0.9437124540463754"
      ]
     },
     "execution_count": 52,
     "metadata": {},
     "output_type": "execute_result"
    }
   ],
   "source": [
    "str2n.similarity(str1n)"
   ]
  },
  {
   "cell_type": "markdown",
   "id": "fead3361",
   "metadata": {},
   "source": [
    "# Section 13"
   ]
  },
  {
   "cell_type": "code",
   "execution_count": 53,
   "id": "11452388",
   "metadata": {
    "scrolled": true
   },
   "outputs": [],
   "source": [
    "st = \"ion equilibrium solute solutes membrane membranes gradients proportional membrane equilibrium membranes solutes membrane equal equilibrium chemical gradient solute solutes concentration solute transport equilibrium potential proportional concentration diffusion flux valence ion given solute concentration gradients concentration gradient ion insimple \"\n",
    "str1n = nlp(st)\n",
    "str1n\n",
    "myAlg += st.split(\" \")\n",
    "\n"
   ]
  },
  {
   "cell_type": "code",
   "execution_count": 54,
   "id": "523e62c5",
   "metadata": {},
   "outputs": [
    {
     "data": {
      "text/plain": [
       "concentration gradient potential energy difference equilibrium potential net solute permeable membrane membrane simple diffusion ion nernst equation potential energy difference electrical potential energy solute transport solutes move"
      ]
     },
     "execution_count": 54,
     "metadata": {},
     "output_type": "execute_result"
    }
   ],
   "source": [
    "str1 = \"concentration gradient,potential energy difference,equilibrium potential net solute,permeable membrane,membrane,simple diffusion,ion,nernst equation,potential energy difference,electrical potential energy,solute transport,solutes move\".replace(\",\",\" \")\n",
    "totalGT += len(str1.split(\" \"))\n",
    "trueGT += st.split(\",\")\n",
    "\n",
    "str2n = nlp(str1)\n",
    "str2n"
   ]
  },
  {
   "cell_type": "code",
   "execution_count": 55,
   "id": "03c16b10",
   "metadata": {},
   "outputs": [
    {
     "data": {
      "text/plain": [
       "['balance',\n",
       " 'law',\n",
       " 'food',\n",
       " 'constant',\n",
       " 'mass',\n",
       " 'intake',\n",
       " 'ecf',\n",
       " 'blood',\n",
       " 'plasma',\n",
       " 'fluid',\n",
       " 'cells',\n",
       " 'compartments',\n",
       " 'intracellular',\n",
       " 'extracellular',\n",
       " 'water',\n",
       " 'homeostasis',\n",
       " 'osmotic',\n",
       " 'equilibrium',\n",
       " 'membranes',\n",
       " 'plasma',\n",
       " 'cell',\n",
       " 'cells',\n",
       " 'membrane',\n",
       " 'extracellular',\n",
       " 'lipids',\n",
       " 'proteins',\n",
       " 'matrix',\n",
       " 'plasma',\n",
       " 'flexibility',\n",
       " 'membrane',\n",
       " 'hydrophobic',\n",
       " 'lipids',\n",
       " 'cholesterol',\n",
       " 'protein',\n",
       " 'membrane',\n",
       " 'binding',\n",
       " 'hydrophobic',\n",
       " 'intracellular',\n",
       " 'ligand',\n",
       " 'extracellular',\n",
       " 'proteins',\n",
       " 'molecules',\n",
       " 'proteins',\n",
       " 'membrane',\n",
       " 'pumps',\n",
       " 'solutes',\n",
       " 'solute',\n",
       " 'transporter',\n",
       " 'concentration',\n",
       " 'molecules',\n",
       " 'plasma',\n",
       " 'protein',\n",
       " 'kinases',\n",
       " 'membrane',\n",
       " 'carbohydrates',\n",
       " 'cytoskeleton',\n",
       " 'proteins',\n",
       " 'fluid',\n",
       " 'moves',\n",
       " 'components',\n",
       " 'flow',\n",
       " 'pressure',\n",
       " 'fluids',\n",
       " 'gradients',\n",
       " 'bulk',\n",
       " 'plasma',\n",
       " 'permeable',\n",
       " 'membrane',\n",
       " 'glucose',\n",
       " 'lipid',\n",
       " 'soluble',\n",
       " 'energy',\n",
       " 'permeability',\n",
       " 'molecules',\n",
       " 'properties',\n",
       " 'equilibrium',\n",
       " 'gradient',\n",
       " 'diffusion',\n",
       " 'molecules',\n",
       " 'transport',\n",
       " 'equilibrium',\n",
       " 'potential',\n",
       " 'ion',\n",
       " 'gradient',\n",
       " 'membrane',\n",
       " 'solutes',\n",
       " 'solute',\n",
       " 'diffusion',\n",
       " 'concentration']"
      ]
     },
     "execution_count": 55,
     "metadata": {},
     "output_type": "execute_result"
    }
   ],
   "source": [
    "a += list(set(st.split(' ')) & set(str1.split(' ')))\n",
    "a"
   ]
  },
  {
   "cell_type": "code",
   "execution_count": 56,
   "id": "ec84231a",
   "metadata": {},
   "outputs": [
    {
     "data": {
      "text/plain": [
       "0.9400100857155692"
      ]
     },
     "execution_count": 56,
     "metadata": {},
     "output_type": "execute_result"
    }
   ],
   "source": [
    "str2n.similarity(str1n)"
   ]
  },
  {
   "cell_type": "markdown",
   "id": "ece72df8",
   "metadata": {},
   "source": [
    "# Section 14"
   ]
  },
  {
   "cell_type": "code",
   "execution_count": 57,
   "id": "7ca67f0c",
   "metadata": {
    "scrolled": true
   },
   "outputs": [],
   "source": [
    "st = \"glucose intracellular extracellular open channels extracellular mac pore open channels intracellular conduits open mechanically gated open gate molecules glucose channels electrical intracellular message message extracellular case water voltage gated gated channels extracellular aes \"\n",
    "str1n = nlp(st)\n",
    "str1n\n",
    "myAlg += st.split(\" \")\n"
   ]
  },
  {
   "cell_type": "code",
   "execution_count": 58,
   "id": "23573489",
   "metadata": {},
   "outputs": [
    {
     "data": {
      "text/plain": [
       "water channels channel gated types channels regulate gate forms membrane carrier channels spend water channels organic molecules closes selectivity pore region channels physical channel gated electrical charge shape conformation move molecules pore channels forms direct ions leak channels glucose amino acids cell mechanically intrace..."
      ]
     },
     "execution_count": 58,
     "metadata": {},
     "output_type": "execute_result"
    }
   ],
   "source": [
    "str1 = \"water channels,channel gated,types,channels regulate,gate forms,membrane carrier channels spend,water channels,organic molecules,closes,selectivity,pore,region,channels physical,channel gated,electrical charge,shape conformation,move molecules,pore channels,forms direct,ions,leak channels,glucose amino acids,cell mechanically,intrace...\".replace(\",\",\" \")\n",
    "totalGT += len(str1.split(\" \"))\n",
    "trueGT += st.split(\",\")\n",
    "\n",
    "str2n = nlp(str1)\n",
    "str2n"
   ]
  },
  {
   "cell_type": "code",
   "execution_count": 59,
   "id": "d45b80d2",
   "metadata": {},
   "outputs": [
    {
     "data": {
      "text/plain": [
       "['balance',\n",
       " 'law',\n",
       " 'food',\n",
       " 'constant',\n",
       " 'mass',\n",
       " 'intake',\n",
       " 'ecf',\n",
       " 'blood',\n",
       " 'plasma',\n",
       " 'fluid',\n",
       " 'cells',\n",
       " 'compartments',\n",
       " 'intracellular',\n",
       " 'extracellular',\n",
       " 'water',\n",
       " 'homeostasis',\n",
       " 'osmotic',\n",
       " 'equilibrium',\n",
       " 'membranes',\n",
       " 'plasma',\n",
       " 'cell',\n",
       " 'cells',\n",
       " 'membrane',\n",
       " 'extracellular',\n",
       " 'lipids',\n",
       " 'proteins',\n",
       " 'matrix',\n",
       " 'plasma',\n",
       " 'flexibility',\n",
       " 'membrane',\n",
       " 'hydrophobic',\n",
       " 'lipids',\n",
       " 'cholesterol',\n",
       " 'protein',\n",
       " 'membrane',\n",
       " 'binding',\n",
       " 'hydrophobic',\n",
       " 'intracellular',\n",
       " 'ligand',\n",
       " 'extracellular',\n",
       " 'proteins',\n",
       " 'molecules',\n",
       " 'proteins',\n",
       " 'membrane',\n",
       " 'pumps',\n",
       " 'solutes',\n",
       " 'solute',\n",
       " 'transporter',\n",
       " 'concentration',\n",
       " 'molecules',\n",
       " 'plasma',\n",
       " 'protein',\n",
       " 'kinases',\n",
       " 'membrane',\n",
       " 'carbohydrates',\n",
       " 'cytoskeleton',\n",
       " 'proteins',\n",
       " 'fluid',\n",
       " 'moves',\n",
       " 'components',\n",
       " 'flow',\n",
       " 'pressure',\n",
       " 'fluids',\n",
       " 'gradients',\n",
       " 'bulk',\n",
       " 'plasma',\n",
       " 'permeable',\n",
       " 'membrane',\n",
       " 'glucose',\n",
       " 'lipid',\n",
       " 'soluble',\n",
       " 'energy',\n",
       " 'permeability',\n",
       " 'molecules',\n",
       " 'properties',\n",
       " 'equilibrium',\n",
       " 'gradient',\n",
       " 'diffusion',\n",
       " 'molecules',\n",
       " 'transport',\n",
       " 'equilibrium',\n",
       " 'potential',\n",
       " 'ion',\n",
       " 'gradient',\n",
       " 'membrane',\n",
       " 'solutes',\n",
       " 'solute',\n",
       " 'diffusion',\n",
       " 'concentration',\n",
       " 'mechanically',\n",
       " 'gate',\n",
       " 'pore',\n",
       " 'glucose',\n",
       " 'channels',\n",
       " 'water',\n",
       " 'electrical',\n",
       " 'gated',\n",
       " 'molecules']"
      ]
     },
     "execution_count": 59,
     "metadata": {},
     "output_type": "execute_result"
    }
   ],
   "source": [
    "a += list(set(st.split(' ')) & set(str1.split(' ')))\n",
    "a"
   ]
  },
  {
   "cell_type": "code",
   "execution_count": 60,
   "id": "b07efccc",
   "metadata": {},
   "outputs": [
    {
     "data": {
      "text/plain": [
       "0.9290677319540479"
      ]
     },
     "execution_count": 60,
     "metadata": {},
     "output_type": "execute_result"
    }
   ],
   "source": [
    "str2n.similarity(str1n)"
   ]
  },
  {
   "cell_type": "markdown",
   "id": "4c3d1580",
   "metadata": {},
   "source": [
    "# Section 15"
   ]
  },
  {
   "cell_type": "code",
   "execution_count": 61,
   "id": "296124ab",
   "metadata": {
    "scrolled": true
   },
   "outputs": [],
   "source": [
    "st = \"glucose atpases glucose transporter binding glucose glucose binding affinity glucose transport glucose glucose transport carrier glucose transported glucose cotransport glucose glucose glucose glucose concentration glucose _splectose glucose amino transporters atpases glucose results\"\n",
    "str1n = nlp(st)\n",
    "str1n\n",
    "myAlg += st.split(\" \")\n"
   ]
  },
  {
   "cell_type": "code",
   "execution_count": 62,
   "id": "c2bd998b",
   "metadata": {},
   "outputs": [
    {
     "data": {
      "text/plain": [
       "transport transport molecule active transport active transport energy carrier conformation primary active transport substrate concentration binding site affinity secondary active transport active transport energy concentration gradient gradients created lower concentration"
      ]
     },
     "execution_count": 62,
     "metadata": {},
     "output_type": "execute_result"
    }
   ],
   "source": [
    "str1 = \"transport,transport molecule,active transport,active transport energy carrier conformation,primary active transport,substrate concentration,binding site affinity,secondary active transport,active transport energy,concentration gradient,gradients created,lower concentration\".replace(\",\",\" \")\n",
    "totalGT += len(str1.split(\" \"))\n",
    "trueGT += st.split(\",\")\n",
    "\n",
    "str2n = nlp(str1)\n",
    "str2n"
   ]
  },
  {
   "cell_type": "code",
   "execution_count": 63,
   "id": "8042dd9d",
   "metadata": {},
   "outputs": [
    {
     "data": {
      "text/plain": [
       "['balance',\n",
       " 'law',\n",
       " 'food',\n",
       " 'constant',\n",
       " 'mass',\n",
       " 'intake',\n",
       " 'ecf',\n",
       " 'blood',\n",
       " 'plasma',\n",
       " 'fluid',\n",
       " 'cells',\n",
       " 'compartments',\n",
       " 'intracellular',\n",
       " 'extracellular',\n",
       " 'water',\n",
       " 'homeostasis',\n",
       " 'osmotic',\n",
       " 'equilibrium',\n",
       " 'membranes',\n",
       " 'plasma',\n",
       " 'cell',\n",
       " 'cells',\n",
       " 'membrane',\n",
       " 'extracellular',\n",
       " 'lipids',\n",
       " 'proteins',\n",
       " 'matrix',\n",
       " 'plasma',\n",
       " 'flexibility',\n",
       " 'membrane',\n",
       " 'hydrophobic',\n",
       " 'lipids',\n",
       " 'cholesterol',\n",
       " 'protein',\n",
       " 'membrane',\n",
       " 'binding',\n",
       " 'hydrophobic',\n",
       " 'intracellular',\n",
       " 'ligand',\n",
       " 'extracellular',\n",
       " 'proteins',\n",
       " 'molecules',\n",
       " 'proteins',\n",
       " 'membrane',\n",
       " 'pumps',\n",
       " 'solutes',\n",
       " 'solute',\n",
       " 'transporter',\n",
       " 'concentration',\n",
       " 'molecules',\n",
       " 'plasma',\n",
       " 'protein',\n",
       " 'kinases',\n",
       " 'membrane',\n",
       " 'carbohydrates',\n",
       " 'cytoskeleton',\n",
       " 'proteins',\n",
       " 'fluid',\n",
       " 'moves',\n",
       " 'components',\n",
       " 'flow',\n",
       " 'pressure',\n",
       " 'fluids',\n",
       " 'gradients',\n",
       " 'bulk',\n",
       " 'plasma',\n",
       " 'permeable',\n",
       " 'membrane',\n",
       " 'glucose',\n",
       " 'lipid',\n",
       " 'soluble',\n",
       " 'energy',\n",
       " 'permeability',\n",
       " 'molecules',\n",
       " 'properties',\n",
       " 'equilibrium',\n",
       " 'gradient',\n",
       " 'diffusion',\n",
       " 'molecules',\n",
       " 'transport',\n",
       " 'equilibrium',\n",
       " 'potential',\n",
       " 'ion',\n",
       " 'gradient',\n",
       " 'membrane',\n",
       " 'solutes',\n",
       " 'solute',\n",
       " 'diffusion',\n",
       " 'concentration',\n",
       " 'mechanically',\n",
       " 'gate',\n",
       " 'pore',\n",
       " 'glucose',\n",
       " 'channels',\n",
       " 'water',\n",
       " 'electrical',\n",
       " 'gated',\n",
       " 'molecules',\n",
       " 'transport',\n",
       " 'affinity',\n",
       " 'binding',\n",
       " 'carrier',\n",
       " 'concentration']"
      ]
     },
     "execution_count": 63,
     "metadata": {},
     "output_type": "execute_result"
    }
   ],
   "source": [
    "a += list(set(st.split(' ')) & set(str1.split(' ')))\n",
    "a"
   ]
  },
  {
   "cell_type": "code",
   "execution_count": 64,
   "id": "7f781da9",
   "metadata": {},
   "outputs": [
    {
     "data": {
      "text/plain": [
       "0.7159949250269534"
      ]
     },
     "execution_count": 64,
     "metadata": {},
     "output_type": "execute_result"
    }
   ],
   "source": [
    "str2n.similarity(str1n)"
   ]
  },
  {
   "cell_type": "code",
   "execution_count": 65,
   "id": "88910aba",
   "metadata": {},
   "outputs": [
    {
     "data": {
      "text/plain": [
       "['balance',\n",
       " 'law',\n",
       " 'food',\n",
       " 'constant',\n",
       " 'mass',\n",
       " 'intake',\n",
       " 'ecf',\n",
       " 'blood',\n",
       " 'plasma',\n",
       " 'fluid',\n",
       " 'cells',\n",
       " 'compartments',\n",
       " 'intracellular',\n",
       " 'extracellular',\n",
       " 'water',\n",
       " 'homeostasis',\n",
       " 'osmotic',\n",
       " 'equilibrium',\n",
       " 'membranes',\n",
       " 'plasma',\n",
       " 'cell',\n",
       " 'cells',\n",
       " 'membrane',\n",
       " 'extracellular',\n",
       " 'lipids',\n",
       " 'proteins',\n",
       " 'matrix',\n",
       " 'plasma',\n",
       " 'flexibility',\n",
       " 'membrane',\n",
       " 'hydrophobic',\n",
       " 'lipids',\n",
       " 'cholesterol',\n",
       " 'protein',\n",
       " 'membrane',\n",
       " 'binding',\n",
       " 'hydrophobic',\n",
       " 'intracellular',\n",
       " 'ligand',\n",
       " 'extracellular',\n",
       " 'proteins',\n",
       " 'molecules',\n",
       " 'proteins',\n",
       " 'membrane',\n",
       " 'pumps',\n",
       " 'solutes',\n",
       " 'solute',\n",
       " 'transporter',\n",
       " 'concentration',\n",
       " 'molecules',\n",
       " 'plasma',\n",
       " 'protein',\n",
       " 'kinases',\n",
       " 'membrane',\n",
       " 'carbohydrates',\n",
       " 'cytoskeleton',\n",
       " 'proteins',\n",
       " 'fluid',\n",
       " 'moves',\n",
       " 'components',\n",
       " 'flow',\n",
       " 'pressure',\n",
       " 'fluids',\n",
       " 'gradients',\n",
       " 'bulk',\n",
       " 'plasma',\n",
       " 'permeable',\n",
       " 'membrane',\n",
       " 'glucose',\n",
       " 'lipid',\n",
       " 'soluble',\n",
       " 'energy',\n",
       " 'permeability',\n",
       " 'molecules',\n",
       " 'properties',\n",
       " 'equilibrium',\n",
       " 'gradient',\n",
       " 'diffusion',\n",
       " 'molecules',\n",
       " 'transport',\n",
       " 'equilibrium',\n",
       " 'potential',\n",
       " 'ion',\n",
       " 'gradient',\n",
       " 'membrane',\n",
       " 'solutes',\n",
       " 'solute',\n",
       " 'diffusion',\n",
       " 'concentration',\n",
       " 'mechanically',\n",
       " 'gate',\n",
       " 'pore',\n",
       " 'glucose',\n",
       " 'channels',\n",
       " 'water',\n",
       " 'electrical',\n",
       " 'gated',\n",
       " 'molecules',\n",
       " 'transport',\n",
       " 'affinity',\n",
       " 'binding',\n",
       " 'carrier',\n",
       " 'concentration']"
      ]
     },
     "execution_count": 65,
     "metadata": {},
     "output_type": "execute_result"
    }
   ],
   "source": [
    "a"
   ]
  },
  {
   "cell_type": "code",
   "execution_count": 66,
   "id": "b0248ce8",
   "metadata": {},
   "outputs": [
    {
     "data": {
      "text/plain": [
       "0.2710526315789474"
      ]
     },
     "execution_count": 66,
     "metadata": {},
     "output_type": "execute_result"
    }
   ],
   "source": [
    "len(a)/totalGT"
   ]
  },
  {
   "cell_type": "code",
   "execution_count": 67,
   "id": "cbab2303",
   "metadata": {},
   "outputs": [
    {
     "data": {
      "text/plain": [
       "['quizzes',\n",
       " 'class',\n",
       " 'online',\n",
       " 'quizzes',\n",
       " 'student',\n",
       " 'lecture',\n",
       " 'homeostasis',\n",
       " 'metabolism',\n",
       " 'excretion',\n",
       " 'food',\n",
       " 'lungs',\n",
       " 'heat',\n",
       " 'exhaling',\n",
       " 'homeostasis',\n",
       " 'constant',\n",
       " 'metabolism',\n",
       " 'catabolic',\n",
       " 'heat',\n",
       " 'materials',\n",
       " 'intake',\n",
       " 'food',\n",
       " 'exchanges',\n",
       " 'heat',\n",
       " 'open',\n",
       " 'exchanges',\n",
       " 'food',\n",
       " 'drink',\n",
       " 'po',\n",
       " 'excretion',\n",
       " 'feces',\n",
       " 'exhaling',\n",
       " 'balance',\n",
       " 'law',\n",
       " 'homeostasis',\n",
       " 'mass',\n",
       " 'balance',\n",
       " 'principle',\n",
       " 'mass',\n",
       " 'skin',\n",
       " 'lungs',\n",
       " 'oo',\n",
       " 'excretion',\n",
       " 'transcellular',\n",
       " 'intracellular',\n",
       " 'extracellular',\n",
       " 'plasma',\n",
       " 'fluid',\n",
       " 'membrane',\n",
       " 'cells',\n",
       " 'compartments',\n",
       " 'water',\n",
       " 'blood',\n",
       " 'inside',\n",
       " 'plasma',\n",
       " 'transcellular',\n",
       " 'cells',\n",
       " 'plasma',\n",
       " 'ecf',\n",
       " 'extracellular',\n",
       " '_icf',\n",
       " 'intracellular',\n",
       " 'transcellular',\n",
       " 'fluid',\n",
       " 'cells',\n",
       " 'intracellular',\n",
       " 'blood',\n",
       " 'plasma',\n",
       " 'plasma',\n",
       " 'membrane',\n",
       " 'cells',\n",
       " 'fluid',\n",
       " 'extracellular',\n",
       " 'intracellular',\n",
       " 'icf',\n",
       " 'intracellular',\n",
       " 'extracellular',\n",
       " 'fluid',\n",
       " 'plasma',\n",
       " 'fluid',\n",
       " 'intracellular',\n",
       " 'fluid',\n",
       " 'intracellular',\n",
       " 'intracellular',\n",
       " 'intracellular',\n",
       " 'solute',\n",
       " 'ionic',\n",
       " 'plasma',\n",
       " 'proteins',\n",
       " 'proteins',\n",
       " 'homeostasis',\n",
       " 'equilibrium',\n",
       " 'extracellular',\n",
       " 'fluid',\n",
       " 'cell',\n",
       " 'equilibrium',\n",
       " 'membrane',\n",
       " 'fluid',\n",
       " 'intracellular',\n",
       " 'concentrations',\n",
       " 'solutes',\n",
       " 'membrane',\n",
       " 'intracellular',\n",
       " 'equilibrium',\n",
       " 'osmotic',\n",
       " 'permeability',\n",
       " 'membrane',\n",
       " 'osmotic',\n",
       " 'equilibrium',\n",
       " 'fluid',\n",
       " 'chemical',\n",
       " 'compartments',\n",
       " 'steady',\n",
       " 'ionic',\n",
       " 'imbalances',\n",
       " 'homeostasis',\n",
       " 'equilibrium',\n",
       " 'plasma',\n",
       " 'volume',\n",
       " 'plasmalemma',\n",
       " 'extracellular',\n",
       " 'proteins',\n",
       " 'cytoskeleton',\n",
       " 'plasma',\n",
       " 'membrane',\n",
       " 'glycoprotein',\n",
       " 'phosphatidylcholine',\n",
       " 'inositol4',\n",
       " 'intracellular',\n",
       " 'ions',\n",
       " 'membranes',\n",
       " 'cellular',\n",
       " 'cells',\n",
       " 'lipids',\n",
       " 'phosphocholine',\n",
       " 'cell',\n",
       " 'matrix',\n",
       " 'phosphatidylinositol',\n",
       " 'phospholipids',\n",
       " 'membrane',\n",
       " 'plasmalemma',\n",
       " 'plasma',\n",
       " 'membrane',\n",
       " 'plasmalemma',\n",
       " 'functionally',\n",
       " 'cell',\n",
       " 'membrane',\n",
       " 'membrane',\n",
       " 'proteins',\n",
       " 'extracellular',\n",
       " 'matrix',\n",
       " 'proteins',\n",
       " 'membrane',\n",
       " 'membrane',\n",
       " 'sphingolipids',\n",
       " 'membrane',\n",
       " 'lipid',\n",
       " 'membrane',\n",
       " 'membrane',\n",
       " 'cells',\n",
       " 'extracellular',\n",
       " 'extracellular',\n",
       " 'compartments',\n",
       " 'proteins',\n",
       " 'intracellular',\n",
       " 'proteins',\n",
       " 'lipid',\n",
       " 'cell',\n",
       " 'tissues',\n",
       " 'membrane',\n",
       " 'cholesterol',\n",
       " 'lipids',\n",
       " 'plasma',\n",
       " 'lipids',\n",
       " 'include',\n",
       " 'easily',\n",
       " 'hydrophobic',\n",
       " 'improves',\n",
       " 'membrane',\n",
       " 'cholesterol',\n",
       " 'aids',\n",
       " 'lipid',\n",
       " 'rafts',\n",
       " 'membrane',\n",
       " 'flexibility',\n",
       " 'll',\n",
       " 'cholesterol',\n",
       " 'proteins',\n",
       " 'extracellular',\n",
       " 'proteins',\n",
       " 'lipids',\n",
       " 'lipid',\n",
       " 'cytoplasmic',\n",
       " 'protein',\n",
       " 'transmembrane',\n",
       " 'cytoskeletal',\n",
       " 'extracellular',\n",
       " 'intracellular',\n",
       " 'enzymes',\n",
       " 'receptor',\n",
       " 'hydrophobic',\n",
       " 'membrane',\n",
       " 'sphingolipids',\n",
       " 'receptors',\n",
       " 'ligand',\n",
       " 'cytosol',\n",
       " 'molecules',\n",
       " 'cytoskeletal',\n",
       " 'proteins',\n",
       " 'membrane',\n",
       " 'proteins',\n",
       " 'binding',\n",
       " 'proteins',\n",
       " 'anchored',\n",
       " 'proteins',\n",
       " 'proteins',\n",
       " 'extracellular',\n",
       " 'proteins',\n",
       " 'molecules',\n",
       " 'transmembrane',\n",
       " 'proteins',\n",
       " 'proteins',\n",
       " 'covalently',\n",
       " 'hydrophobic',\n",
       " 'transmembrane',\n",
       " 'lipids',\n",
       " 'include',\n",
       " 'proteins',\n",
       " 'integral',\n",
       " 'lipid',\n",
       " 'rafts',\n",
       " 'gnfracellular',\n",
       " 'proteins',\n",
       " 'integral',\n",
       " 'proteins',\n",
       " 'proteins',\n",
       " 'attached',\n",
       " 'hydrolysis',\n",
       " 'pumps',\n",
       " 'hydrolysis',\n",
       " 'atp',\n",
       " 'atp',\n",
       " 'solutes',\n",
       " 'energy',\n",
       " 'hydrolysis',\n",
       " 'channel',\n",
       " 'proteins',\n",
       " 'solute',\n",
       " 'pumps',\n",
       " 'membrane',\n",
       " 'pores',\n",
       " 'molecules',\n",
       " 'membranes',\n",
       " 'hydrolysis',\n",
       " 'transport',\n",
       " 'membrane',\n",
       " 'membrane',\n",
       " 'concentration',\n",
       " 'molecule',\n",
       " 'membrane',\n",
       " 'transporter',\n",
       " 'molecules',\n",
       " 'membrane',\n",
       " 'direct',\n",
       " 'pumps',\n",
       " 'glycoprotein',\n",
       " 'extracellular',\n",
       " 'proteins',\n",
       " 'enzymes',\n",
       " 'cytoskeleton',\n",
       " 'kinases',\n",
       " 'carbohydrates',\n",
       " 'phospholipase',\n",
       " 'carbohydrat',\n",
       " 'glycolipid',\n",
       " 'protein',\n",
       " 'intracellular',\n",
       " 'lipid',\n",
       " 'cytoplas',\n",
       " 'glycocalyx',\n",
       " 'phospholipids',\n",
       " 'catalyze',\n",
       " 'plasma',\n",
       " 'membrane',\n",
       " 'glycoprotein',\n",
       " 'glycolipid',\n",
       " 'kinases',\n",
       " 'enzymes',\n",
       " 'phospholipase',\n",
       " 'intracellular',\n",
       " 'membrane',\n",
       " 'carbohydrates',\n",
       " 'proteins',\n",
       " 'kinases',\n",
       " 'proteins',\n",
       " 'cytoskeleton',\n",
       " 'protein',\n",
       " 'glycoprotein',\n",
       " 'containing',\n",
       " 'proteins',\n",
       " 'carbohydrates',\n",
       " 'extracellular',\n",
       " 'intracellular',\n",
       " 'signaling',\n",
       " 'proteins',\n",
       " 'helps',\n",
       " 'membrane',\n",
       " 'protein',\n",
       " 'lipid',\n",
       " 'glycolipid',\n",
       " 'cells',\n",
       " 'glycocalyx',\n",
       " 'cytoskeleton',\n",
       " 'molecules',\n",
       " '',\n",
       " 'fluids',\n",
       " 'circulatory',\n",
       " 'fluid',\n",
       " 'gradients',\n",
       " 'masse',\n",
       " 'flow',\n",
       " 'pressure',\n",
       " 'respiratory',\n",
       " 'bulk',\n",
       " 'moves',\n",
       " 'components',\n",
       " 'pressure',\n",
       " 'gradients',\n",
       " 'fluids',\n",
       " 'flow',\n",
       " 'flow',\n",
       " 'pressure',\n",
       " 'pressure',\n",
       " 'components',\n",
       " 'causes',\n",
       " 'fluids',\n",
       " 'circulatory',\n",
       " 'respiratory',\n",
       " 'pressure',\n",
       " 'region',\n",
       " 'gradients',\n",
       " 'causes',\n",
       " 'bulk',\n",
       " 'flow',\n",
       " 'components',\n",
       " 'fluid',\n",
       " 'fluids',\n",
       " 'examples',\n",
       " 'circulatory',\n",
       " 'circulatory',\n",
       " 'respiratory',\n",
       " 'bulk',\n",
       " 'flow',\n",
       " 'region',\n",
       " '',\n",
       " 'plasma',\n",
       " 'lipid',\n",
       " 'protein',\n",
       " 'membrane',\n",
       " 'membranes',\n",
       " 'solubility',\n",
       " 'molecules',\n",
       " 'molecular',\n",
       " 'permeability',\n",
       " 'glucose',\n",
       " 'permeable',\n",
       " 'acids',\n",
       " 'barriers',\n",
       " 'energy',\n",
       " 'molecule',\n",
       " 'soluble',\n",
       " 'atp',\n",
       " 'permeability',\n",
       " 'plasma',\n",
       " 'plasma',\n",
       " 'membranes',\n",
       " 'membrane',\n",
       " 'selectively',\n",
       " 'plasma',\n",
       " 'membrane',\n",
       " 'membrane',\n",
       " 'properties',\n",
       " 'membrane',\n",
       " 'permeability',\n",
       " 'substance',\n",
       " 'plasma',\n",
       " 'lipid',\n",
       " 'protein',\n",
       " 'determined',\n",
       " 'lipid',\n",
       " 'lipid',\n",
       " 'highly',\n",
       " 'molecule',\n",
       " 'lipid',\n",
       " 'particle',\n",
       " 'membrane',\n",
       " 'solubility',\n",
       " 'molecule',\n",
       " 'composition',\n",
       " 'plasma',\n",
       " 'membrane',\n",
       " 'force',\n",
       " '',\n",
       " 'diffusion',\n",
       " 'membrane',\n",
       " 'diffusion',\n",
       " 'diffusion',\n",
       " 'protein',\n",
       " 'gradient',\n",
       " 'molecules',\n",
       " 'diffusion',\n",
       " 'dye',\n",
       " 'gradients',\n",
       " 'diffusion',\n",
       " 'properties',\n",
       " 'diffusion',\n",
       " 'diffusion',\n",
       " 'properties',\n",
       " 'transport',\n",
       " 'diffusion',\n",
       " 'membrane',\n",
       " 'transport',\n",
       " 'dye',\n",
       " 'molecules',\n",
       " 'diffusion',\n",
       " 'diffusion',\n",
       " 'transport',\n",
       " 'membrane',\n",
       " 'molecules',\n",
       " 'equilibrium',\n",
       " 'net',\n",
       " 'diffusion',\n",
       " 'osmosis',\n",
       " 'diffusion',\n",
       " 'ion',\n",
       " 'equilibrium',\n",
       " 'solute',\n",
       " 'solutes',\n",
       " 'membrane',\n",
       " 'membranes',\n",
       " 'gradients',\n",
       " 'proportional',\n",
       " 'membrane',\n",
       " 'equilibrium',\n",
       " 'membranes',\n",
       " 'solutes',\n",
       " 'membrane',\n",
       " 'equal',\n",
       " 'equilibrium',\n",
       " 'chemical',\n",
       " 'gradient',\n",
       " 'solute',\n",
       " 'solutes',\n",
       " 'concentration',\n",
       " 'solute',\n",
       " 'transport',\n",
       " 'equilibrium',\n",
       " 'potential',\n",
       " 'proportional',\n",
       " 'concentration',\n",
       " 'diffusion',\n",
       " 'flux',\n",
       " 'valence',\n",
       " 'ion',\n",
       " 'given',\n",
       " 'solute',\n",
       " 'concentration',\n",
       " 'gradients',\n",
       " 'concentration',\n",
       " 'gradient',\n",
       " 'ion',\n",
       " 'insimple',\n",
       " '',\n",
       " 'glucose',\n",
       " 'intracellular',\n",
       " 'extracellular',\n",
       " 'open',\n",
       " 'channels',\n",
       " 'extracellular',\n",
       " 'mac',\n",
       " 'pore',\n",
       " 'open',\n",
       " 'channels',\n",
       " 'intracellular',\n",
       " 'conduits',\n",
       " 'open',\n",
       " 'mechanically',\n",
       " 'gated',\n",
       " 'open',\n",
       " 'gate',\n",
       " 'molecules',\n",
       " 'glucose',\n",
       " 'channels',\n",
       " 'electrical',\n",
       " 'intracellular',\n",
       " 'message',\n",
       " 'message',\n",
       " 'extracellular',\n",
       " 'case',\n",
       " 'water',\n",
       " 'voltage',\n",
       " 'gated',\n",
       " 'gated',\n",
       " 'channels',\n",
       " 'extracellular',\n",
       " 'aes',\n",
       " '',\n",
       " 'glucose',\n",
       " 'atpases',\n",
       " 'glucose',\n",
       " 'transporter',\n",
       " 'binding',\n",
       " 'glucose',\n",
       " 'glucose',\n",
       " 'binding',\n",
       " 'affinity',\n",
       " 'glucose',\n",
       " 'transport',\n",
       " 'glucose',\n",
       " 'glucose',\n",
       " 'transport',\n",
       " 'carrier',\n",
       " 'glucose',\n",
       " 'transported',\n",
       " 'glucose',\n",
       " 'cotransport',\n",
       " 'glucose',\n",
       " 'glucose',\n",
       " 'glucose',\n",
       " 'glucose',\n",
       " 'concentration',\n",
       " 'glucose',\n",
       " '_splectose',\n",
       " 'glucose',\n",
       " 'amino',\n",
       " 'transporters',\n",
       " 'atpases',\n",
       " 'glucose',\n",
       " 'results']"
      ]
     },
     "execution_count": 67,
     "metadata": {},
     "output_type": "execute_result"
    }
   ],
   "source": [
    "trueGT += st.split(\",\")\n",
    "myAlg"
   ]
  }
 ],
 "metadata": {
  "kernelspec": {
   "display_name": "Python 3 (ipykernel)",
   "language": "python",
   "name": "python3"
  },
  "language_info": {
   "codemirror_mode": {
    "name": "ipython",
    "version": 3
   },
   "file_extension": ".py",
   "mimetype": "text/x-python",
   "name": "python",
   "nbconvert_exporter": "python",
   "pygments_lexer": "ipython3",
   "version": "3.9.7"
  }
 },
 "nbformat": 4,
 "nbformat_minor": 5
}
