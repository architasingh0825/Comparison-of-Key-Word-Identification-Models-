{
 "cells": [
  {
   "cell_type": "code",
   "execution_count": 1,
   "id": "98d5e551",
   "metadata": {},
   "outputs": [],
   "source": [
    "import spacy\n",
    "import re\n",
    "import pandas as pd"
   ]
  },
  {
   "cell_type": "code",
   "execution_count": 2,
   "id": "28b5d55b",
   "metadata": {},
   "outputs": [],
   "source": [
    "nlp = spacy.load(\"en_core_web_lg\")"
   ]
  },
  {
   "cell_type": "markdown",
   "id": "c5060c5e",
   "metadata": {},
   "source": [
    "# Section 1"
   ]
  },
  {
   "cell_type": "code",
   "execution_count": 3,
   "id": "00c48e40",
   "metadata": {
    "scrolled": true
   },
   "outputs": [
    {
     "data": {
      "text/plain": [
       "online email quizzes 30am lecture website monday class biology pathology pm quiz student reading biomolecules organ homeostasis study book new quizzes class online quizzes student lecture assignments online reading quiz quiz opens orientation quiz reading assignments quiz orientation new student website read pm monday 100 email class orientation email info "
      ]
     },
     "execution_count": 3,
     "metadata": {},
     "output_type": "execute_result"
    }
   ],
   "source": [
    "s = [('online', 0.1653),\n",
    " ('email', 0.1256),\n",
    " ('quizzes', 0.1123),\n",
    " ('30am', 0.11),\n",
    " ('lecture', 0.1092),\n",
    " ('website', 0.0904),\n",
    " ('monday', 0.0883),\n",
    " ('class', 0.0865),\n",
    " ('biology', 0.0689),\n",
    " ('pathology', 0.0462),\n",
    " ('pm', 0.0417),\n",
    " ('quiz', 0.0142),\n",
    " ('student', 0.0122),\n",
    " ('reading', -0.0096),\n",
    " ('biomolecules', -0.0129),\n",
    " ('organ', -0.0201),\n",
    " ('homeostasis', -0.0419),\n",
    " ('study', -0.0423),\n",
    " ('book', -0.0487),\n",
    " ('new', -0.0569),\n",
    " ('quizzes class', 0.4262),\n",
    " ('online quizzes', 0.4214),\n",
    " ('student lecture', 0.4087),\n",
    " ('assignments online', 0.3598),\n",
    " ('reading quiz', 0.3148),\n",
    " ('quiz opens', 0.2914),\n",
    " ('orientation quiz', 0.2575),\n",
    " ('reading assignments', 0.2562),\n",
    " ('quiz orientation', 0.2432),\n",
    " ('new student', 0.2428),\n",
    " ('website read', 0.2342),\n",
    " ('pm monday', 0.2206),\n",
    " ('100 email', 0.2175),\n",
    " ('class orientation', 0.2158),\n",
    " ('email info', 0.197)]\n",
    "\n",
    "str1 = \"\"\n",
    "for x in s:\n",
    "    str1 += (x[0] + \" \") \n",
    "\n",
    "str1n = nlp(str1)\n",
    "str1n"
   ]
  },
  {
   "cell_type": "code",
   "execution_count": 4,
   "id": "256e511f",
   "metadata": {},
   "outputs": [
    {
     "data": {
      "text/plain": [
       "'system physiology living orientation scientific study subdiscipline biology pathology normal function homeostasis physical functions field subdivided multiple categories focus biomolecules exist organs cells chemical living system carry organ systems organs human body quiz organization system reproductive circulatory system orientation summary integumentary system muscular skeletal nervous endocrine digestive urinary respiratory system blackboard website familiarize orientation assignment orientation lecture questions start reading website read reading assignments reading quiz online quizzes recorded video fri buy class watch email info resort attempt due student required monday categories central huge field book start lecture reading assignment due system lymphatic reproductive system system muscular system digestive urinary system skeletal nervous '"
      ]
     },
     "execution_count": 4,
     "metadata": {},
     "output_type": "execute_result"
    }
   ],
   "source": [
    "with open('sec1') as f:\n",
    "    lines = f.readlines()\n",
    "    \n",
    "linesStr = \" \".join(lines)\n",
    "linesStr = ''.join([i for i in linesStr if not i.isdigit()])\n",
    "linesStr = re.sub(r'\\W+', ' ', linesStr)\n",
    "str2n = nlp(linesStr)\n",
    "linesStr"
   ]
  },
  {
   "cell_type": "code",
   "execution_count": 5,
   "id": "f6c1132c",
   "metadata": {},
   "outputs": [
    {
     "data": {
      "text/plain": [
       "0.7507480888771261"
      ]
     },
     "execution_count": 5,
     "metadata": {},
     "output_type": "execute_result"
    }
   ],
   "source": [
    "str2n.similarity(str1n)"
   ]
  },
  {
   "cell_type": "markdown",
   "id": "b06608ee",
   "metadata": {},
   "source": [
    "# Section 2"
   ]
  },
  {
   "cell_type": "code",
   "execution_count": 6,
   "id": "77f4cbaa",
   "metadata": {
    "scrolled": true
   },
   "outputs": [
    {
     "data": {
      "text/plain": [
       "homeostasis metabolism excretion food lungs heat exhaling intake intestine open drink balance aprimary sweating mass catabolic equal constant feces environment homeostasis constant metabolism catabolic heat materials intake food exchanges heat open exchanges food drink po excretion feces exhaling balance law homeostasis mass balance principle mass skin lungs oo excretion "
      ]
     },
     "execution_count": 6,
     "metadata": {},
     "output_type": "execute_result"
    }
   ],
   "source": [
    "s = [('homeostasis', 0.4721),\n",
    " ('metabolism', 0.4655),\n",
    " ('excretion', 0.4149),\n",
    " ('food', 0.4121),\n",
    " ('lungs', 0.4121),\n",
    " ('heat', 0.4104),\n",
    " ('exhaling', 0.4022),\n",
    " ('intake', 0.3925),\n",
    " ('intestine', 0.3897),\n",
    " ('open', 0.387),\n",
    " ('drink', 0.3854),\n",
    " ('balance', 0.3712),\n",
    " ('aprimary', 0.3624),\n",
    " ('sweating', 0.3509),\n",
    " ('mass', 0.349),\n",
    " ('catabolic', 0.3432),\n",
    " ('equal', 0.3426),\n",
    " ('constant', 0.3418),\n",
    " ('feces', 0.3382),\n",
    " ('environment', 0.3355),\n",
    " ('homeostasis constant', 0.5367),\n",
    " ('metabolism catabolic', 0.5253),\n",
    " ('heat materials', 0.516),\n",
    " ('intake food', 0.5045),\n",
    " ('exchanges heat', 0.5042),\n",
    " ('open exchanges', 0.4951),\n",
    " ('food drink', 0.4935),\n",
    " ('po excretion', 0.48),\n",
    " ('feces exhaling', 0.4737),\n",
    " ('balance law', 0.4723),\n",
    " ('homeostasis', 0.4721),\n",
    " ('mass balance', 0.4693),\n",
    " ('principle mass', 0.469),\n",
    " ('skin lungs', 0.4682),\n",
    " ('oo excretion', 0.468)]\n",
    "\n",
    "str1 = \"\"\n",
    "for x in s:\n",
    "    str1 += (x[0] + \" \") \n",
    "\n",
    "str1n = nlp(str1)\n",
    "str1n"
   ]
  },
  {
   "cell_type": "code",
   "execution_count": 7,
   "id": "c0d0cb82",
   "metadata": {},
   "outputs": [
    {
     "data": {
      "text/plain": [
       "'mass balance law body excretion intake materials gain constant internal environment exchanges heat primary function remain constant materials produced urine feces catabolic activity maintenance principle offset food drink exhaling sweating break anabolic body load balance intake metabolism amount homeostasis balance input equal loss substance system environment output equal input metabolic production metabolic removal kidneys liver lungs intestine lungs load production accomplished constant production law balance body environment functions loss gain produced loss lungs skin input primary '"
      ]
     },
     "execution_count": 7,
     "metadata": {},
     "output_type": "execute_result"
    }
   ],
   "source": [
    "with open('sec2') as f:\n",
    "    lines = f.readlines()\n",
    "    \n",
    "linesStr = \" \".join(lines)\n",
    "linesStr = ''.join([i for i in linesStr if not i.isdigit()])\n",
    "linesStr = re.sub(r'\\W+', ' ', linesStr)\n",
    "str2n = nlp(linesStr)\n",
    "linesStr"
   ]
  },
  {
   "cell_type": "code",
   "execution_count": 8,
   "id": "842e602c",
   "metadata": {},
   "outputs": [
    {
     "data": {
      "text/plain": [
       "0.9271039190935169"
      ]
     },
     "execution_count": 8,
     "metadata": {},
     "output_type": "execute_result"
    }
   ],
   "source": [
    "str2n.similarity(str1n)"
   ]
  },
  {
   "cell_type": "markdown",
   "id": "f216614c",
   "metadata": {},
   "source": [
    "# Section 3"
   ]
  },
  {
   "cell_type": "code",
   "execution_count": 9,
   "id": "3127e208",
   "metadata": {
    "scrolled": true
   },
   "outputs": [
    {
     "data": {
      "text/plain": [
       "transcellular intracellular extracellular plasma fluid membrane cells compartments water blood inside ecf interstitial circulates wall body zeomen pasa nara _icf plasma transcellular cells plasma ecf extracellular _icf intracellular transcellular fluid cells intracellular blood plasma plasma membrane cells fluid extracellular intracellular icf intracellular extracellular fluid plasma fluid intracellular fluid intracellular intracellular "
      ]
     },
     "execution_count": 9,
     "metadata": {},
     "output_type": "execute_result"
    }
   ],
   "source": [
    "s = [('transcellular', 0.5928),\n",
    " ('intracellular', 0.5733),\n",
    " ('extracellular', 0.5631),\n",
    " ('plasma', 0.5028),\n",
    " ('fluid', 0.4956),\n",
    " ('membrane', 0.4818),\n",
    " ('cells', 0.466),\n",
    " ('compartments', 0.4543),\n",
    " ('water', 0.445),\n",
    " ('blood', 0.4195),\n",
    " ('inside', 0.4087),\n",
    " ('ecf', 0.3939),\n",
    " ('interstitial', 0.382),\n",
    " ('circulates', 0.3814),\n",
    " ('wall', 0.377),\n",
    " ('body', 0.3745),\n",
    " ('zeomen', 0.3491),\n",
    " ('pasa', 0.348),\n",
    " ('nara', 0.3469),\n",
    " ('_icf', 0.3399),\n",
    "('plasma transcellular', 0.7025),\n",
    " ('cells plasma', 0.6508),\n",
    " ('ecf extracellular', 0.6506),\n",
    " ('_icf intracellular', 0.6465),\n",
    " ('transcellular fluid', 0.646),\n",
    " ('cells intracellular', 0.6407),\n",
    " ('blood plasma', 0.6371),\n",
    " ('plasma membrane', 0.6333),\n",
    " ('cells fluid', 0.6319),\n",
    " ('extracellular intracellular', 0.631),\n",
    " ('icf intracellular', 0.6294),\n",
    " ('extracellular fluid', 0.6274),\n",
    " ('plasma fluid', 0.6229),\n",
    " ('intracellular fluid', 0.6136),\n",
    " ('intracellular intracellular', 0.6112)]\n",
    "     \n",
    "\n",
    "str1 = \"\"\n",
    "for x in s:\n",
    "    str1 += (x[0] + \" \") \n",
    "\n",
    "str1n = nlp(str1)\n",
    "str1n"
   ]
  },
  {
   "cell_type": "code",
   "execution_count": 10,
   "id": "ae14a2bb",
   "metadata": {},
   "outputs": [
    {
     "data": {
      "text/plain": [
       "'fluid compartments cells fluid compartments primary compartments divided found surrounds body extracellular cells fluid separates fluid fluid portion interstitial fluid nose body found inside directly surrounds separated barrier wall circulates blood ecf ecf extracellular fluid icf intracellular fluid cells plasma total body water intracellular plasma plasma membrane body extracellular plasma fluid cells intracellular fund total '"
      ]
     },
     "execution_count": 10,
     "metadata": {},
     "output_type": "execute_result"
    }
   ],
   "source": [
    "with open('sec3') as f:\n",
    "    lines = f.readlines()\n",
    "    \n",
    "linesStr = \" \".join(lines)\n",
    "linesStr = ''.join([i for i in linesStr if not i.isdigit()])\n",
    "linesStr = re.sub(r'\\W+', ' ', linesStr)\n",
    "str2n = nlp(linesStr)\n",
    "linesStr"
   ]
  },
  {
   "cell_type": "code",
   "execution_count": 11,
   "id": "c4de4502",
   "metadata": {},
   "outputs": [
    {
     "data": {
      "text/plain": [
       "0.9554716784795063"
      ]
     },
     "execution_count": 11,
     "metadata": {},
     "output_type": "execute_result"
    }
   ],
   "source": [
    "str2n.similarity(str1n)"
   ]
  },
  {
   "cell_type": "markdown",
   "id": "c7000077",
   "metadata": {},
   "source": [
    "# Section 4"
   ]
  },
  {
   "cell_type": "code",
   "execution_count": 12,
   "id": "09a145f6",
   "metadata": {
    "scrolled": true
   },
   "outputs": [
    {
     "data": {
      "text/plain": [
       "intracellular solute ionic plasma proteins fluid solutes homeostasis extracellular membrane stability permeability 200 osmotic equilibrium stable anions intracettutar electrical compartments proteins homeostasis equilibrium extracellular fluid cell equilibrium membrane fluid intracellular concentrations solutes membrane intracellular equilibrium osmotic permeability membrane osmotic equilibrium fluid chemical compartments steady ionic imbalances homeostasis equilibrium plasma volume "
      ]
     },
     "execution_count": 12,
     "metadata": {},
     "output_type": "execute_result"
    }
   ],
   "source": [
    "s = [('intracellular', 0.4121),\n",
    " ('solute', 0.4113),\n",
    " ('ionic', 0.4057),\n",
    " ('plasma', 0.4017),\n",
    " ('proteins', 0.4012),\n",
    " ('fluid', 0.3967),\n",
    " ('solutes', 0.3727),\n",
    " ('homeostasis', 0.3721),\n",
    " ('extracellular', 0.3697),\n",
    " ('membrane', 0.3607),\n",
    " ('stability', 0.3543),\n",
    " ('permeability', 0.3449),\n",
    " ('200', 0.3422),\n",
    " ('osmotic', 0.3386),\n",
    " ('equilibrium', 0.3331),\n",
    " ('stable', 0.3262),\n",
    " ('anions', 0.323),\n",
    " ('intracettutar', 0.3128),\n",
    " ('electrical', 0.3089),\n",
    " ('compartments', 0.3057),\n",
    "     ('proteins homeostasis', 0.5615),\n",
    " ('equilibrium extracellular', 0.5258),\n",
    " ('fluid cell', 0.5185),\n",
    " ('equilibrium membrane', 0.5129),\n",
    " ('fluid intracellular', 0.5129),\n",
    " ('concentrations solutes', 0.5007),\n",
    " ('membrane intracellular', 0.4943),\n",
    " ('equilibrium osmotic', 0.4929),\n",
    " ('permeability membrane', 0.4833),\n",
    " ('osmotic equilibrium', 0.4815),\n",
    " ('fluid chemical', 0.4803),\n",
    " ('compartments steady', 0.4769),\n",
    " ('ionic imbalances', 0.4732),\n",
    " ('homeostasis equilibrium', 0.4703),\n",
    " ('plasma volume', 0.4697)]\n",
    "     \n",
    "\n",
    "str1 = \"\"\n",
    "for x in s:\n",
    "    str1 += (x[0] + \" \") \n",
    "\n",
    "str1n = nlp(str1)\n",
    "str1n"
   ]
  },
  {
   "cell_type": "code",
   "execution_count": 13,
   "id": "071ac4d6",
   "metadata": {},
   "outputs": [
    {
     "data": {
      "text/plain": [
       "'homeostasis plc fluid compartments osmotic equilibrium electrical disequilibrium solute flc interstitial fluid intracellular anions ruid body proteins homeostasis refers result concentrated terms chemical disequilibrium electrically neutral internal environment total amount ionic imbalances stability ice volume concentration gradients stable cell membrane composition ecf steady meaning nith equilibrium body dynamic steady dynamic meaning constantly moving net change transport mechanisms selective permeability substances corn segments net movement accomplished membrane equilibrium total wts plasma interstitial fluid chemical electrical intracellular fluid '"
      ]
     },
     "execution_count": 13,
     "metadata": {},
     "output_type": "execute_result"
    }
   ],
   "source": [
    "with open('sec4') as f:\n",
    "    lines = f.readlines()\n",
    "    \n",
    "linesStr = \" \".join(lines)\n",
    "linesStr = ''.join([i for i in linesStr if not i.isdigit()])\n",
    "linesStr = re.sub(r'\\W+', ' ', linesStr)\n",
    "str2n = nlp(linesStr)\n",
    "linesStr"
   ]
  },
  {
   "cell_type": "code",
   "execution_count": 14,
   "id": "3b70835b",
   "metadata": {},
   "outputs": [
    {
     "data": {
      "text/plain": [
       "0.9445450993346294"
      ]
     },
     "execution_count": 14,
     "metadata": {},
     "output_type": "execute_result"
    }
   ],
   "source": [
    "str2n.similarity(str1n)"
   ]
  },
  {
   "cell_type": "markdown",
   "id": "fd6db4d8",
   "metadata": {},
   "source": [
    "# Section 5"
   ]
  },
  {
   "cell_type": "code",
   "execution_count": 15,
   "id": "4700c261",
   "metadata": {
    "scrolled": true
   },
   "outputs": [
    {
     "data": {
      "text/plain": [
       "plasmalemma extracellular proteins cytoskeleton plasma membrane glycoprotein phosphatidylcholine inositol4 intracellular ions membranes cellular cells lipids phosphocholine cell matrix phosphatidylinositol phospholipids membrane plasmalemma plasma membrane plasmalemma functionally cell membrane membrane proteins extracellular matrix proteins membrane membrane sphingolipids membrane lipid membrane membrane cells extracellular extracellular compartments proteins intracellular proteins lipid cell tissues "
      ]
     },
     "execution_count": 15,
     "metadata": {},
     "output_type": "execute_result"
    }
   ],
   "source": [
    "s = [('plasmalemma', 0.5503),\n",
    " ('extracellular', 0.5483),\n",
    " ('proteins', 0.5316),\n",
    " ('cytoskeleton', 0.4927),\n",
    " ('plasma', 0.4824),\n",
    " ('membrane', 0.4751),\n",
    " ('glycoprotein', 0.47),\n",
    " ('phosphatidylcholine', 0.4689),\n",
    " ('inositol4', 0.4643),\n",
    " ('intracellular', 0.4642),\n",
    " ('ions', 0.4569),\n",
    " ('membranes', 0.452),\n",
    " ('cellular', 0.449),\n",
    " ('cells', 0.4424),\n",
    " ('lipids', 0.4322),\n",
    " ('phosphocholine', 0.4279),\n",
    " ('cell', 0.4247),\n",
    " ('matrix', 0.4219),\n",
    " ('phosphatidylinositol', 0.4218),\n",
    " ('phospholipids', 0.4207),\n",
    "     ('membrane plasmalemma', 0.6989),\n",
    " ('plasma membrane', 0.6695),\n",
    " ('plasmalemma functionally', 0.6588),\n",
    " ('cell membrane', 0.6549),\n",
    " ('membrane proteins', 0.648),\n",
    " ('extracellular matrix', 0.6401),\n",
    " ('proteins membrane', 0.635),\n",
    " ('membrane sphingolipids', 0.6332),\n",
    " ('membrane lipid', 0.6199),\n",
    " ('membrane membrane', 0.613),\n",
    " ('cells extracellular', 0.6121),\n",
    " ('extracellular compartments', 0.6091),\n",
    " ('proteins intracellular', 0.5975),\n",
    " ('proteins lipid', 0.5883),\n",
    " ('cell tissues', 0.587)]\n",
    "\n",
    "str1 = \"\"\n",
    "for x in s:\n",
    "    str1 += (x[0] + \" \") \n",
    "\n",
    "str1n = nlp(str1)\n",
    "str1n"
   ]
  },
  {
   "cell_type": "code",
   "execution_count": 16,
   "id": "c47b3a1d",
   "metadata": {},
   "outputs": [
    {
     "data": {
      "text/plain": [
       "'cells plasma attached head plasma membrane aqueous membrane enable proteins maintaining cell shape functionally responsible physical isolation physical barrier surrounding environment materials controls products communication signals structural specialized junctions stabilizing cells celia plasmalemma contents exchange removal waste entry nutrients release monitor cytoskeleton tissues environment proteins proteins serve cell membrane extracellular matrix aka ions respond lipids ice fire hydrophilic head sphingolipids membrane fluid mosaic model sphingosine types fatty acid tail sugar monomer possess phosphocholine hydrophilic hydrophobic tails water typ lipids membrane metabolic activity bilayer carbohydrate layer cii membrane membranes found embedded surface phospholipid bilayer phospholipid heads phospholipids arranged membrane carbohydrate portion consists sphingomyelin galactocerebroside ratio correlates hidden tails form orient lipid layer extracellular surface galactose extracellular compartments lipids found aqueous intracellular cholesterol molecules dependent source center glycoprotein glycolipid splits interior membrane phospholipids fatty acid glycerol fatty acid nonpolar fatty acid structure typically hydrophobic regions phospholipid molecules common phospholipids nonpolar hydrophobic icon text represent polar water phosphate glycerol ethanolamine phosphate formed phospholipids phosphatidylcholine water common nonpolar choline phosphatidylinositol membrane found idyl serine images elsevier proteins found lipid portion tail attached membranes consist isolation acts environment regulation cellular products molecular signals structural support shape creating creating specialized regions excluded glycerol head activity metabolic polar phosphate phosphatidylinositolphosphate '"
      ]
     },
     "execution_count": 16,
     "metadata": {},
     "output_type": "execute_result"
    }
   ],
   "source": [
    "with open('sec5') as f:\n",
    "    lines = f.readlines()\n",
    "    \n",
    "linesStr = \" \".join(lines)\n",
    "linesStr = ''.join([i for i in linesStr if not i.isdigit()])\n",
    "linesStr = re.sub(r'\\W+', ' ', linesStr)\n",
    "str2n = nlp(linesStr)\n",
    "linesStr"
   ]
  },
  {
   "cell_type": "code",
   "execution_count": 17,
   "id": "70d27220",
   "metadata": {},
   "outputs": [
    {
     "data": {
      "text/plain": [
       "0.9013124431924797"
      ]
     },
     "execution_count": 17,
     "metadata": {},
     "output_type": "execute_result"
    }
   ],
   "source": [
    "str2n.similarity(str1n)"
   ]
  },
  {
   "cell_type": "markdown",
   "id": "779b256a",
   "metadata": {},
   "source": [
    "# Section 6"
   ]
  },
  {
   "cell_type": "code",
   "execution_count": 18,
   "id": "bcc6a581",
   "metadata": {
    "scrolled": true
   },
   "outputs": [
    {
     "data": {
      "text/plain": [
       "lipids lipid cholesterol hydrophobic enzymes proteins extracellular plasma protein intracellular sphingolipids cytoskeletal phospholipids membrane transmembrane phospholipid molecules flexibility soluble avavyeavwwev membrane cholesterol lipids plasma lipids include easily hydrophobic improves membrane cholesterol aids lipid rafts membrane flexibility ll cholesterol proteins extracellular lipid anchored cholesterol cholesterol types lipids lipids forming lipid "
      ]
     },
     "execution_count": 18,
     "metadata": {},
     "output_type": "execute_result"
    }
   ],
   "source": [
    "s = [('lipids', 0.3941),\n",
    " ('lipid', 0.3765),\n",
    " ('cholesterol', 0.344),\n",
    " ('hydrophobic', 0.2814),\n",
    " ('enzymes', 0.2791),\n",
    " ('proteins', 0.2784),\n",
    " ('extracellular', 0.2779),\n",
    " ('plasma', 0.2767),\n",
    " ('protein', 0.2588),\n",
    " ('intracellular', 0.2579),\n",
    " ('sphingolipids', 0.2309),\n",
    " ('cytoskeletal', 0.2246),\n",
    " ('phospholipids', 0.221),\n",
    " ('membrane', 0.2207),\n",
    " ('transmembrane', 0.2029),\n",
    " ('phospholipid', 0.1923),\n",
    " ('molecules', 0.1813),\n",
    " ('flexibility', 0.1751),\n",
    " ('soluble', 0.1693),\n",
    " ('avavyeavwwev', 0.1683),\n",
    "     ('membrane cholesterol', 0.5063),\n",
    " ('lipids plasma', 0.5041),\n",
    " ('lipids include', 0.4657),\n",
    " ('easily hydrophobic', 0.4438),\n",
    " ('improves membrane', 0.4425),\n",
    " ('cholesterol aids', 0.4412),\n",
    " ('lipid rafts', 0.4372),\n",
    " ('membrane flexibility', 0.4133),\n",
    " ('ll cholesterol', 0.4015),\n",
    " ('proteins extracellular', 0.4007),\n",
    " ('lipid anchored', 0.3995),\n",
    " ('cholesterol cholesterol', 0.3959),\n",
    " ('types lipids', 0.3946),\n",
    " ('lipids', 0.3941),\n",
    " ('forming lipid', 0.392)]\n",
    "     \n",
    "\n",
    "str1 = \"\"\n",
    "for x in s:\n",
    "    str1 += (x[0] + \" \") \n",
    "\n",
    "str1n = nlp(str1)\n",
    "str1n"
   ]
  },
  {
   "cell_type": "code",
   "execution_count": 19,
   "id": "6cf08ce4",
   "metadata": {},
   "outputs": [
    {
     "data": {
      "text/plain": [
       "'lipids found types cli plasma membrane cholesterol cholesterol phospholipids membrane impermeable membrane flexibility wide temperature ranges soluble molecules hydrophobic disrupts phospholipid interaction laterally rotate flex rarely flip tic unit images leaflet cii elsevier cholesterol plasma membrane improves membrane interaction helps move laterally cli unit '"
      ]
     },
     "execution_count": 19,
     "metadata": {},
     "output_type": "execute_result"
    }
   ],
   "source": [
    "with open('sec6') as f:\n",
    "    lines = f.readlines()\n",
    "    \n",
    "linesStr = \" \".join(lines)\n",
    "linesStr = ''.join([i for i in linesStr if not i.isdigit()])\n",
    "linesStr = re.sub(r'\\W+', ' ', linesStr)\n",
    "str2n = nlp(linesStr)\n",
    "linesStr"
   ]
  },
  {
   "cell_type": "code",
   "execution_count": 20,
   "id": "7a98d102",
   "metadata": {},
   "outputs": [
    {
     "data": {
      "text/plain": [
       "0.8986909755432311"
      ]
     },
     "execution_count": 20,
     "metadata": {},
     "output_type": "execute_result"
    }
   ],
   "source": [
    "str2n.similarity(str1n)"
   ]
  },
  {
   "cell_type": "markdown",
   "id": "af22f4e5",
   "metadata": {},
   "source": [
    "# Section 7"
   ]
  },
  {
   "cell_type": "code",
   "execution_count": 21,
   "id": "948f98b7",
   "metadata": {
    "scrolled": true
   },
   "outputs": [
    {
     "data": {
      "text/plain": [
       "proteins lipids lipid cytoplasmic protein transmembrane cytoskeletal extracellular intracellular enzymes receptor hydrophobic membrane sphingolipids receptors ligand cytosol molecules gnfracellular phospholipid cytoskeletal proteins membrane proteins binding proteins anchored proteins proteins extracellular proteins molecules transmembrane proteins proteins covalently hydrophobic transmembrane lipids include proteins integral lipid rafts gnfracellular proteins integral proteins proteins attached "
      ]
     },
     "execution_count": 21,
     "metadata": {},
     "output_type": "execute_result"
    }
   ],
   "source": [
    "s = [('proteins', 0.5687),\n",
    " ('lipids', 0.5566),\n",
    " ('lipid', 0.5296),\n",
    " ('cytoplasmic', 0.5228),\n",
    " ('protein', 0.5075),\n",
    " ('transmembrane', 0.4755),\n",
    " ('cytoskeletal', 0.4712),\n",
    " ('extracellular', 0.4672),\n",
    " ('intracellular', 0.4632),\n",
    " ('enzymes', 0.4621),\n",
    " ('receptor', 0.4557),\n",
    " ('hydrophobic', 0.4504),\n",
    " ('membrane', 0.4467),\n",
    " ('sphingolipids', 0.443),\n",
    " ('receptors', 0.4408),\n",
    " ('ligand', 0.4374),\n",
    " ('cytosol', 0.4268),\n",
    " ('molecules', 0.4177),\n",
    " ('gnfracellular', 0.388),\n",
    " ('phospholipid', 0.3814),\n",
    "     ('cytoskeletal proteins', 0.6634),\n",
    " ('membrane proteins', 0.6597),\n",
    " ('binding proteins', 0.6513),\n",
    " ('anchored proteins', 0.641),\n",
    " ('proteins extracellular', 0.6339),\n",
    " ('proteins molecules', 0.6287),\n",
    " ('transmembrane proteins', 0.6207),\n",
    " ('proteins covalently', 0.6187),\n",
    " ('hydrophobic transmembrane', 0.6126),\n",
    " ('lipids include', 0.6096),\n",
    " ('proteins integral', 0.607),\n",
    " ('lipid rafts', 0.601),\n",
    " ('gnfracellular proteins', 0.6005),\n",
    " ('integral proteins', 0.6004),\n",
    " ('proteins attached', 0.5972)]\n",
    "\n",
    "str1 = \"\"\n",
    "for x in s:\n",
    "    str1 += (x[0] + \" \") \n",
    "\n",
    "str1n = nlp(str1)\n",
    "str1n"
   ]
  },
  {
   "cell_type": "code",
   "execution_count": 22,
   "id": "0da64e49",
   "metadata": {},
   "outputs": [
    {
     "data": {
      "text/plain": [
       "'anchor rote domain molecules cell membrane adhesion molecules transmembrane integral proteins binding receptors ligand binding membrane proteins structural binding extracellular intracellular transmembrane proteins membrane possess proteins integral environment hydrophobic segments proteins peripheral protein depending cytoskeletal proteins interaction aka transmembrane segments proteins covalently bound receptor characteristics forming lipid cell adhesion considered integral cell matrix adhesion attached loosely include enzymes found inserted classified andor immobile polar heads source sphingolipids ligand binding domain bilayer fatty acid tails receptors ligand physical contact adapt appropriately gpi linked understand phospholipid cellmatrix adhesion molecule integrin imege air mrin trw extracellular ligand binding function receive chemical messages role alt lack transmembrane domain vesicular transport respond iii body hydrophobic transmembrane region messages play interacting domain binding proteins domain function cytoplasmic domain interacts form physical helical form anchored proteins domain transmembrane possess hydrophobic possess extracellular intracellular loops proteins extend compact unit peripheral proteins lipid rafts lipids include copyright rights reserved form compact crime '"
      ]
     },
     "execution_count": 22,
     "metadata": {},
     "output_type": "execute_result"
    }
   ],
   "source": [
    "with open('sec7') as f:\n",
    "    lines = f.readlines()\n",
    "    \n",
    "linesStr = \" \".join(lines)\n",
    "linesStr = ''.join([i for i in linesStr if not i.isdigit()])\n",
    "linesStr = re.sub(r'\\W+', ' ', linesStr)\n",
    "str2n = nlp(linesStr)\n",
    "linesStr"
   ]
  },
  {
   "cell_type": "code",
   "execution_count": 23,
   "id": "529b5551",
   "metadata": {},
   "outputs": [
    {
     "data": {
      "text/plain": [
       "0.9174767715211795"
      ]
     },
     "execution_count": 23,
     "metadata": {},
     "output_type": "execute_result"
    }
   ],
   "source": [
    "str2n.similarity(str1n)"
   ]
  },
  {
   "cell_type": "markdown",
   "id": "59f93164",
   "metadata": {},
   "source": [
    "# Section 8"
   ]
  },
  {
   "cell_type": "code",
   "execution_count": 24,
   "id": "d6e59a12",
   "metadata": {
    "scrolled": true
   },
   "outputs": [
    {
     "data": {
      "text/plain": [
       "hydrolysis pumps atp proteins membrane membranes molecules pores water molecule solutes energy channels solute transporter ecf transport substrates teeta gradient hydrolysis atp atp solutes energy hydrolysis channel proteins solute pumps membrane pores molecules membranes hydrolysis transport membrane membrane concentration molecule membrane transporter molecules membrane direct pumps pumps use "
      ]
     },
     "execution_count": 24,
     "metadata": {},
     "output_type": "execute_result"
    }
   ],
   "source": [
    "s = [('hydrolysis', 0.4394),\n",
    " ('pumps', 0.4024),\n",
    " ('atp', 0.3796),\n",
    " ('proteins', 0.355),\n",
    " ('membrane', 0.3328),\n",
    " ('membranes', 0.3231),\n",
    " ('molecules', 0.3181),\n",
    " ('pores', 0.2836),\n",
    " ('water', 0.2751),\n",
    " ('molecule', 0.246),\n",
    " ('solutes', 0.2106),\n",
    " ('energy', 0.21),\n",
    " ('channels', 0.2095),\n",
    " ('solute', 0.2069),\n",
    " ('transporter', 0.1972),\n",
    " ('ecf', 0.1966),\n",
    " ('transport', 0.1953),\n",
    " ('substrates', 0.1907),\n",
    " ('teeta', 0.1895),\n",
    " ('gradient', 0.1871),\n",
    "('hydrolysis atp', 0.549),\n",
    " ('atp solutes', 0.5228),\n",
    " ('energy hydrolysis', 0.4898),\n",
    " ('channel proteins', 0.4787),\n",
    " ('solute pumps', 0.4742),\n",
    " ('membrane pores', 0.4537),\n",
    " ('molecules membranes', 0.442),\n",
    " ('hydrolysis', 0.4394),\n",
    " ('transport membrane', 0.434),\n",
    " ('membrane concentration', 0.4314),\n",
    " ('molecule membrane', 0.4247),\n",
    " ('transporter molecules', 0.4088),\n",
    " ('membrane direct', 0.4051),\n",
    " ('pumps', 0.4024),\n",
    " ('pumps use', 0.398)]\n",
    "     \n",
    "\n",
    "str1 = \"\"\n",
    "for x in s:\n",
    "    str1 += (x[0] + \" \") \n",
    "\n",
    "str1n = nlp(str1)\n",
    "str1n"
   ]
  },
  {
   "cell_type": "code",
   "execution_count": 25,
   "id": "2f6b5535",
   "metadata": {},
   "outputs": [
    {
     "data": {
      "text/plain": [
       "'transport molecule icf transporter molecules rapid transport movement move molecules ecf create water filled passages categories channel proteins channels membrane direct connection substrates carrier proteins bind carriers facilitate concentration gradient solute pumps move solutes membrane pores couple hydrolysis atp carry energy cell pore surrounded passes molecules move water filled proteins create '"
      ]
     },
     "execution_count": 25,
     "metadata": {},
     "output_type": "execute_result"
    }
   ],
   "source": [
    "with open('sec8') as f:\n",
    "    lines = f.readlines()\n",
    "    \n",
    "linesStr = \" \".join(lines)\n",
    "linesStr = ''.join([i for i in linesStr if not i.isdigit()])\n",
    "linesStr = re.sub(r'\\W+', ' ', linesStr)\n",
    "str2n = nlp(linesStr)\n",
    "linesStr"
   ]
  },
  {
   "cell_type": "code",
   "execution_count": 26,
   "id": "f6c25159",
   "metadata": {},
   "outputs": [
    {
     "data": {
      "text/plain": [
       "0.9438079241469748"
      ]
     },
     "execution_count": 26,
     "metadata": {},
     "output_type": "execute_result"
    }
   ],
   "source": [
    "str2n.similarity(str1n)"
   ]
  },
  {
   "cell_type": "markdown",
   "id": "c17ab935",
   "metadata": {},
   "source": [
    "# Section 9"
   ]
  },
  {
   "cell_type": "code",
   "execution_count": 27,
   "id": "844d6868",
   "metadata": {
    "scrolled": true
   },
   "outputs": [
    {
     "data": {
      "text/plain": [
       "glycoprotein extracellular proteins enzymes cytoskeleton kinases carbohydrates phospholipase carbohydrat glycolipid protein intracellular lipid cytoplas glycocalyx phospholipids catalyze plasma membrane cells glycoprotein glycolipid kinases enzymes phospholipase intracellular membrane carbohydrates proteins kinases proteins cytoskeleton protein glycoprotein containing proteins carbohydrates extracellular intracellular signaling proteins helps membrane protein lipid glycolipid cells glycocalyx cytoskeleton molecules "
      ]
     },
     "execution_count": 27,
     "metadata": {},
     "output_type": "execute_result"
    }
   ],
   "source": [
    "s = [('glycoprotein', 0.532),\n",
    " ('extracellular', 0.5116),\n",
    " ('proteins', 0.5078),\n",
    " ('enzymes', 0.5057),\n",
    " ('cytoskeleton', 0.4972),\n",
    " ('kinases', 0.4912),\n",
    " ('carbohydrates', 0.481),\n",
    " ('phospholipase', 0.4785),\n",
    " ('carbohydrat', 0.4775),\n",
    " ('glycolipid', 0.4749),\n",
    " ('protein', 0.4695),\n",
    " ('intracellular', 0.4594),\n",
    " ('lipid', 0.4546),\n",
    " ('cytoplas', 0.4538),\n",
    " ('glycocalyx', 0.4399),\n",
    " ('phospholipids', 0.4261),\n",
    " ('catalyze', 0.4109),\n",
    " ('plasma', 0.4102),\n",
    " ('membrane', 0.4019),\n",
    " ('cells', 0.3815),\n",
    "     ('glycoprotein glycolipid', 0.636),\n",
    " ('kinases enzymes', 0.6303),\n",
    " ('phospholipase intracellular', 0.6203),\n",
    " ('membrane carbohydrates', 0.6183),\n",
    " ('proteins kinases', 0.6173),\n",
    " ('proteins cytoskeleton', 0.6171),\n",
    " ('protein glycoprotein', 0.6144),\n",
    " ('containing proteins', 0.614),\n",
    " ('carbohydrates extracellular', 0.6136),\n",
    " ('intracellular signaling', 0.612),\n",
    " ('proteins helps', 0.6078),\n",
    " ('membrane protein', 0.5878),\n",
    " ('lipid glycolipid', 0.5845),\n",
    " ('cells glycocalyx', 0.5815),\n",
    " ('cytoskeleton molecules', 0.5814)]\n",
    "\n",
    "str1 = \"\"\n",
    "for x in s:\n",
    "    str1 += (x[0] + \" \") \n",
    "\n",
    "str1n = nlp(str1)\n",
    "str1n"
   ]
  },
  {
   "cell_type": "code",
   "execution_count": 28,
   "id": "ddcfbdcf",
   "metadata": {},
   "outputs": [
    {
     "data": {
      "text/plain": [
       "'integral cells functional molecule functions membrane carbohydrates plasma membrane form membrane protein peripheral surface examples enzymes catalyze reactions intracellular signaling signals received submembranous cytoskeleton phenyl organize morphologically domains plasma membrane watery environment proteins kinases facing fatty acid lipid compact leaflet phospholipase peripheral proteins membrane bound sugar chains attached specific biological markers glycolipid found glycocalyx cell serve cells identify external surface protective layer protein glycoprotein cytoskeletal molecules proteins cytoplasm phospholipid protein phospholipid molecules membrane molecule nonpolar tails filaments phospholipids functions protein lipid layer extracellular fluid polar heads cholesterol highly specific biological bound sugars cell surface relay signals cytoskeleton includes bilayer proteins helps protein proteins protein acting fluid watery outward facing '"
      ]
     },
     "execution_count": 28,
     "metadata": {},
     "output_type": "execute_result"
    }
   ],
   "source": [
    "with open('sec9') as f:\n",
    "    lines = f.readlines()\n",
    "    \n",
    "linesStr = \" \".join(lines)\n",
    "linesStr = ''.join([i for i in linesStr if not i.isdigit()])\n",
    "linesStr = re.sub(r'\\W+', ' ', linesStr)\n",
    "str2n = nlp(linesStr)\n",
    "linesStr"
   ]
  },
  {
   "cell_type": "code",
   "execution_count": 29,
   "id": "a70bc2df",
   "metadata": {},
   "outputs": [
    {
     "data": {
      "text/plain": [
       "0.9394587731192351"
      ]
     },
     "execution_count": 29,
     "metadata": {},
     "output_type": "execute_result"
    }
   ],
   "source": [
    "str2n.similarity(str1n)"
   ]
  },
  {
   "cell_type": "markdown",
   "id": "3b31d719",
   "metadata": {},
   "source": [
    "# Section 10"
   ]
  },
  {
   "cell_type": "code",
   "execution_count": 30,
   "id": "eade1c57",
   "metadata": {
    "scrolled": true
   },
   "outputs": [
    {
     "data": {
      "text/plain": [
       "fluids circulatory fluid gradients masse flow pressure respiratory bulk moves components higher en causes examples region lower pressure gradients fluids flow flow pressure pressure components causes fluids circulatory respiratory pressure region gradients causes bulk flow components fluid fluids examples circulatory circulatory respiratory bulk flow region "
      ]
     },
     "execution_count": 30,
     "metadata": {},
     "output_type": "execute_result"
    }
   ],
   "source": [
    "s = [('fluids', 0.567),\n",
    " ('circulatory', 0.5641),\n",
    " ('fluid', 0.5484),\n",
    " ('gradients', 0.5355),\n",
    " ('masse', 0.5109),\n",
    " ('flow', 0.5095),\n",
    " ('pressure', 0.5079),\n",
    " ('respiratory', 0.4972),\n",
    " ('bulk', 0.469),\n",
    " ('moves', 0.4415),\n",
    " ('components', 0.4207),\n",
    " ('higher', 0.3917),\n",
    " ('en', 0.3863),\n",
    " ('causes', 0.3805),\n",
    " ('examples', 0.3582),\n",
    " ('region', 0.352),\n",
    " ('lower', 0.2949),\n",
    "    ('pressure gradients', 0.6571),\n",
    " ('fluids flow', 0.6279),\n",
    " ('flow pressure', 0.6217),\n",
    " ('pressure components', 0.6092),\n",
    " ('causes fluids', 0.5958),\n",
    " ('circulatory respiratory', 0.5938),\n",
    " ('pressure region', 0.5879),\n",
    " ('gradients causes', 0.5839),\n",
    " ('bulk flow', 0.5814),\n",
    " ('components fluid', 0.5791),\n",
    " ('fluids', 0.567),\n",
    " ('examples circulatory', 0.5669),\n",
    " ('circulatory', 0.5641),\n",
    " ('respiratory bulk', 0.5566),\n",
    " ('flow region', 0.5529)]\n",
    "     \n",
    "\n",
    "str1 = \"\"\n",
    "for x in s:\n",
    "    str1 += (x[0] + \" \") \n",
    "\n",
    "str1n = nlp(str1)\n",
    "str1n"
   ]
  },
  {
   "cell_type": "code",
   "execution_count": 31,
   "id": "dbea7a07",
   "metadata": {},
   "outputs": [
    {
     "data": {
      "text/plain": [
       "'pressure flow region flow pressure gradients lower pressure fluid moves fluids components mass examples system circulatory system respiratory bulk flow respiratory system '"
      ]
     },
     "execution_count": 31,
     "metadata": {},
     "output_type": "execute_result"
    }
   ],
   "source": [
    "with open('sec10') as f:\n",
    "    lines = f.readlines()\n",
    "    \n",
    "linesStr = \" \".join(lines)\n",
    "linesStr = ''.join([i for i in linesStr if not i.isdigit()])\n",
    "linesStr = re.sub(r'\\W+', ' ', linesStr)\n",
    "str2n = nlp(linesStr)\n",
    "linesStr"
   ]
  },
  {
   "cell_type": "code",
   "execution_count": 32,
   "id": "875a6a15",
   "metadata": {},
   "outputs": [
    {
     "data": {
      "text/plain": [
       "0.9731315151563351"
      ]
     },
     "execution_count": 32,
     "metadata": {},
     "output_type": "execute_result"
    }
   ],
   "source": [
    "str2n.similarity(str1n)"
   ]
  },
  {
   "cell_type": "markdown",
   "id": "66dbc377",
   "metadata": {},
   "source": [
    "# Section 11"
   ]
  },
  {
   "cell_type": "code",
   "execution_count": 33,
   "id": "2de65481",
   "metadata": {
    "scrolled": true
   },
   "outputs": [
    {
     "data": {
      "text/plain": [
       "plasma lipid protein membrane membranes solubility molecules molecular permeability glucose permeable acids barriers energy molecule soluble atp particles water substance permeability plasma plasma membranes membrane selectively plasma membrane membrane properties membrane permeability substance plasma lipid protein determined lipid lipid highly molecule lipid particle membrane solubility molecule composition plasma membrane force "
      ]
     },
     "execution_count": 33,
     "metadata": {},
     "output_type": "execute_result"
    }
   ],
   "source": [
    "s = [('plasma', 0.5742),\n",
    " ('lipid', 0.5553),\n",
    " ('protein', 0.5278),\n",
    " ('membrane', 0.5112),\n",
    " ('membranes', 0.4912),\n",
    " ('solubility', 0.482),\n",
    " ('molecules', 0.4703),\n",
    " ('molecular', 0.4693),\n",
    " ('permeability', 0.4691),\n",
    " ('glucose', 0.4587),\n",
    " ('permeable', 0.4537),\n",
    " ('acids', 0.4533),\n",
    " ('barriers', 0.4301),\n",
    " ('energy', 0.4285),\n",
    " ('molecule', 0.4247),\n",
    " ('soluble', 0.413),\n",
    " ('atp', 0.4083),\n",
    " ('particles', 0.3967),\n",
    " ('water', 0.3932),\n",
    " ('substance', 0.3703),\n",
    "     ('permeability plasma', 0.7007),\n",
    " ('plasma membranes', 0.6901),\n",
    " ('membrane selectively', 0.6706),\n",
    " ('plasma membrane', 0.6655),\n",
    " ('membrane properties', 0.662),\n",
    " ('membrane permeability', 0.6607),\n",
    " ('substance plasma', 0.6359),\n",
    " ('lipid protein', 0.6308),\n",
    " ('determined lipid', 0.6122),\n",
    " ('lipid highly', 0.6068),\n",
    " ('molecule lipid', 0.6033),\n",
    " ('particle membrane', 0.5976),\n",
    " ('solubility molecule', 0.5811),\n",
    " ('composition plasma', 0.5795),\n",
    " ('membrane force', 0.5745)]\n",
    "     \n",
    "\n",
    "str1 = \"\"\n",
    "for x in s:\n",
    "    str1 += (x[0] + \" \") \n",
    "\n",
    "str1n = nlp(str1)\n",
    "str1n"
   ]
  },
  {
   "cell_type": "code",
   "execution_count": 34,
   "id": "7dc4692f",
   "metadata": {},
   "outputs": [
    {
     "data": {
      "text/plain": [
       "'molecules influence permeability particles lipid permeable produce movement require energy membrane force membrane passive substance relative solubility soluble uncharged nonpolar molecules fatty acids soluble water soluble charged molecules glucose easily move size enter difficulty drive properties influence membrane impermeable passage plc membrane permeability selectively permeable plasma membrane energy atp protein composition barriers disallows molecular movement determined permeability relative membranes serve movement active highly soluble water soluble polar molecules '"
      ]
     },
     "execution_count": 34,
     "metadata": {},
     "output_type": "execute_result"
    }
   ],
   "source": [
    "with open('sec11') as f:\n",
    "    lines = f.readlines()\n",
    "    \n",
    "linesStr = \" \".join(lines)\n",
    "linesStr = ''.join([i for i in linesStr if not i.isdigit()])\n",
    "linesStr = re.sub(r'\\W+', ' ', linesStr)\n",
    "str2n = nlp(linesStr)\n",
    "linesStr"
   ]
  },
  {
   "cell_type": "code",
   "execution_count": 35,
   "id": "78e27578",
   "metadata": {},
   "outputs": [
    {
     "data": {
      "text/plain": [
       "0.9393736751700564"
      ]
     },
     "execution_count": 35,
     "metadata": {},
     "output_type": "execute_result"
    }
   ],
   "source": [
    "str2n.similarity(str1n)"
   ]
  },
  {
   "cell_type": "markdown",
   "id": "e87cccea",
   "metadata": {},
   "source": [
    "# Section 12"
   ]
  },
  {
   "cell_type": "code",
   "execution_count": 36,
   "id": "581b0dd0",
   "metadata": {
    "scrolled": true
   },
   "outputs": [
    {
     "data": {
      "text/plain": [
       "diffusion membrane protein molecules gradient gradients vesicular dye distributed facilitated osmosis equilibrium solute molecule transport moving movement faster spread lal membrane diffusion diffusion protein gradient molecules diffusion dye gradients diffusion properties diffusion diffusion properties transport diffusion membrane transport dye molecules diffusion diffusion transport membrane molecules equilibrium net diffusion osmosis diffusion "
      ]
     },
     "execution_count": 36,
     "metadata": {},
     "output_type": "execute_result"
    }
   ],
   "source": [
    "s = [('diffusion', 0.4142),\n",
    " ('membrane', 0.3908),\n",
    " ('protein', 0.3639),\n",
    " ('molecules', 0.3595),\n",
    " ('gradient', 0.3522),\n",
    " ('gradients', 0.3509),\n",
    " ('vesicular', 0.3496),\n",
    " ('dye', 0.3346),\n",
    " ('distributed', 0.3279),\n",
    " ('facilitated', 0.3275),\n",
    " ('osmosis', 0.3223),\n",
    " ('equilibrium', 0.3183),\n",
    " ('solute', 0.314),\n",
    " ('molecule', 0.3139),\n",
    " ('transport', 0.3115),\n",
    " ('moving', 0.3104),\n",
    " ('movement', 0.306),\n",
    " ('faster', 0.3027),\n",
    " ('spread', 0.2984),\n",
    " ('lal', 0.2973),\n",
    "     ('membrane diffusion', 0.573),\n",
    " ('diffusion protein', 0.5724),\n",
    " ('gradient molecules', 0.5504),\n",
    " ('diffusion dye', 0.5498),\n",
    " ('gradients diffusion', 0.547),\n",
    " ('properties diffusion', 0.5331),\n",
    " ('diffusion properties', 0.5216),\n",
    " ('transport diffusion', 0.5192),\n",
    " ('membrane transport', 0.5104),\n",
    " ('dye molecules', 0.5064),\n",
    " ('diffusion diffusion', 0.503),\n",
    " ('transport membrane', 0.5017),\n",
    " ('molecules equilibrium', 0.4897),\n",
    " ('net diffusion', 0.4803),\n",
    " ('osmosis diffusion', 0.4802)]\n",
    "\n",
    "str1 = \"\"\n",
    "for x in s:\n",
    "    str1 += (x[0] + \" \") \n",
    "\n",
    "str1n = nlp(str1)\n",
    "str1n"
   ]
  },
  {
   "cell_type": "code",
   "execution_count": 37,
   "id": "25d8921f",
   "metadata": {},
   "outputs": [
    {
     "data": {
      "text/plain": [
       "'diffusion concentration properties concentration gradient types ficks law molecules lower concentration difference transport diffusion vesicular transport tra osmosis movement diffusion molecules diffusion net diffusion diffusion concentration membrane transport partition net movement equilibrium system faster separates equal process molecules moving shorter distances solute molecule molecules occurs adjacent temperatures cross transport secondary active protein membrane facilitated diffusion active movement thickness membrane surface membrane thickness diffusion carrier reach steady gradually spread substance dependent purpose distributed space magnitude permeability surface composition membrane distance plasma membrane rate protein channel affect cell membrane thickness solubility molecular cell membrane lipid factors affecting rate concentration inside equilibrium occurs lipid layer fluid properties dye molecules extracellular fluid intracellular fluid active transport secondary secondary active transport uniform active transport diffusion active transport passive process cell membrane simple diffusion fluid membrane size membrane lipid solubility molecular size molecules move channel protein cell concentration layer concentration carrier protein inside cell cell factors size cell '"
      ]
     },
     "execution_count": 37,
     "metadata": {},
     "output_type": "execute_result"
    }
   ],
   "source": [
    "with open('sec12') as f:\n",
    "    lines = f.readlines()\n",
    "    \n",
    "linesStr = \" \".join(lines)\n",
    "linesStr = ''.join([i for i in linesStr if not i.isdigit()])\n",
    "linesStr = re.sub(r'\\W+', ' ', linesStr)\n",
    "str2n = nlp(linesStr)\n",
    "linesStr"
   ]
  },
  {
   "cell_type": "code",
   "execution_count": 38,
   "id": "066dcfcc",
   "metadata": {},
   "outputs": [
    {
     "data": {
      "text/plain": [
       "0.9630543168957681"
      ]
     },
     "execution_count": 38,
     "metadata": {},
     "output_type": "execute_result"
    }
   ],
   "source": [
    "str2n.similarity(str1n)"
   ]
  },
  {
   "cell_type": "markdown",
   "id": "fead3361",
   "metadata": {},
   "source": [
    "# Section 13"
   ]
  },
  {
   "cell_type": "code",
   "execution_count": 39,
   "id": "11452388",
   "metadata": {
    "scrolled": true
   },
   "outputs": [
    {
     "data": {
      "text/plain": [
       "ion equilibrium solute solutes membrane membranes gradients proportional gradient extracellular equation cytosol valence chemical equal electrical unidirectional flux minus nernst membrane equilibrium membranes solutes membrane equal equilibrium chemical gradient solute solutes concentration solute transport equilibrium potential proportional concentration diffusion flux valence ion given solute concentration gradients concentration gradient ion insimple "
      ]
     },
     "execution_count": 39,
     "metadata": {},
     "output_type": "execute_result"
    }
   ],
   "source": [
    "s = [('ion', 0.4518),\n",
    " ('equilibrium', 0.4334),\n",
    " ('solute', 0.4328),\n",
    " ('solutes', 0.4279),\n",
    " ('membrane', 0.4254),\n",
    " ('membranes', 0.4098),\n",
    " ('gradients', 0.4036),\n",
    " ('proportional', 0.4001),\n",
    " ('gradient', 0.3977),\n",
    " ('extracellular', 0.3943),\n",
    " ('equation', 0.3872),\n",
    " ('cytosol', 0.3821),\n",
    " ('valence', 0.3712),\n",
    " ('chemical', 0.3703),\n",
    " ('equal', 0.3666),\n",
    " ('electrical', 0.3651),\n",
    " ('unidirectional', 0.3548),\n",
    " ('flux', 0.3535),\n",
    " ('minus', 0.3454),\n",
    " ('nernst', 0.3429),\n",
    "     ('membrane equilibrium', 0.6102),\n",
    " ('membranes solutes', 0.5748),\n",
    " ('membrane equal', 0.5711),\n",
    " ('equilibrium chemical', 0.5675),\n",
    " ('gradient solute', 0.5594),\n",
    " ('solutes concentration', 0.5438),\n",
    " ('solute transport', 0.5256),\n",
    " ('equilibrium potential', 0.5198),\n",
    " ('proportional concentration', 0.507),\n",
    " ('diffusion flux', 0.493),\n",
    " ('valence ion', 0.4918),\n",
    " ('given solute', 0.4831),\n",
    " ('concentration gradients', 0.4806),\n",
    " ('concentration gradient', 0.4746),\n",
    " ('ion insimple', 0.4742)]\n",
    "     \n",
    "\n",
    "str1 = \"\"\n",
    "for x in s:\n",
    "    str1 += (x[0] + \" \") \n",
    "\n",
    "str1n = nlp(str1)\n",
    "str1n"
   ]
  },
  {
   "cell_type": "code",
   "execution_count": 40,
   "id": "523e62c5",
   "metadata": {},
   "outputs": [
    {
     "data": {
      "text/plain": [
       "'flux solute transport coupled transport membrane equilibrium solutes move permeable membrane concentration gradient electrical potential energy nernst equation equilibrium potential uncharged substance directly proportional passive opposite simple diffusion chemical determine rtl equal equals net valence unidirectional flux extracellular space cytosol minus jout ion potential potential energy difference net solute flexi '"
      ]
     },
     "execution_count": 40,
     "metadata": {},
     "output_type": "execute_result"
    }
   ],
   "source": [
    "with open('sec13') as f:\n",
    "    lines = f.readlines()\n",
    "    \n",
    "linesStr = \" \".join(lines)\n",
    "linesStr = ''.join([i for i in linesStr if not i.isdigit()])\n",
    "linesStr = re.sub(r'\\W+', ' ', linesStr)\n",
    "str2n = nlp(linesStr)\n",
    "linesStr"
   ]
  },
  {
   "cell_type": "code",
   "execution_count": 41,
   "id": "ec84231a",
   "metadata": {},
   "outputs": [
    {
     "data": {
      "text/plain": [
       "0.9599620334324901"
      ]
     },
     "execution_count": 41,
     "metadata": {},
     "output_type": "execute_result"
    }
   ],
   "source": [
    "str2n.similarity(str1n)"
   ]
  },
  {
   "cell_type": "markdown",
   "id": "ece72df8",
   "metadata": {},
   "source": [
    "# Section 14"
   ]
  },
  {
   "cell_type": "code",
   "execution_count": 42,
   "id": "7ca67f0c",
   "metadata": {
    "scrolled": true
   },
   "outputs": [
    {
     "data": {
      "text/plain": [
       "glucose intracellular extracellular membrane open ions continuous electrical water organic pores opens gated mechanically voltage mac pore channels molecules 2017 open channels extracellular mac pore open channels intracellular conduits open mechanically gated open gate molecules glucose channels electrical intracellular message message extracellular case water voltage gated gated channels extracellular aes "
      ]
     },
     "execution_count": 42,
     "metadata": {},
     "output_type": "execute_result"
    }
   ],
   "source": [
    "s = [('glucose', 0.4274),\n",
    " ('intracellular', 0.4172),\n",
    " ('extracellular', 0.4021),\n",
    " ('membrane', 0.3918),\n",
    " ('open', 0.3894),\n",
    " ('ions', 0.3815),\n",
    " ('continuous', 0.3662),\n",
    " ('electrical', 0.3626),\n",
    " ('water', 0.3533),\n",
    " ('organic', 0.3407),\n",
    " ('pores', 0.3384),\n",
    " ('opens', 0.3353),\n",
    " ('gated', 0.3337),\n",
    " ('mechanically', 0.3315),\n",
    " ('voltage', 0.3232),\n",
    " ('mac', 0.3179),\n",
    " ('pore', 0.3164),\n",
    " ('channels', 0.3116),\n",
    " ('molecules', 0.3045),\n",
    " ('2017', 0.3037),\n",
    "     ('open channels', 0.5089),\n",
    " ('extracellular mac', 0.4925),\n",
    " ('pore open', 0.4923),\n",
    " ('channels intracellular', 0.485),\n",
    " ('conduits open', 0.4745),\n",
    " ('mechanically gated', 0.4681),\n",
    " ('open gate', 0.4543),\n",
    " ('molecules glucose', 0.446),\n",
    " ('channels electrical', 0.4459),\n",
    " ('intracellular message', 0.4438),\n",
    " ('message extracellular', 0.4402),\n",
    " ('case water', 0.439),\n",
    " ('voltage gated', 0.4336),\n",
    " ('gated channels', 0.4324),\n",
    " ('extracellular aes', 0.4304)]\n",
    "\n",
    "str1 = \"\"\n",
    "for x in s:\n",
    "    str1 += (x[0] + \" \") \n",
    "\n",
    "str1n = nlp(str1)\n",
    "str1n"
   ]
  },
  {
   "cell_type": "code",
   "execution_count": 43,
   "id": "23573489",
   "metadata": {},
   "outputs": [
    {
     "data": {
      "text/plain": [
       "'pore gate amino acids ions electrical pore channels direct conduit acts exists selectivity diameter line channels possess region determined center water pores closed channels electrical charge closes ecf gate forms leak channels gated channels channels spend water channels channels regulate chemically gated channels voltage gated channels mechanically gated channels channel extracellular space channel channel stores stimuli control intracellular message physical forces time carriers bind membrane carrier els extracellular ligand movement types specific substrates shape conformation organic molecules continuous passage slower move molecules taj glucose amino acids carry candies membrane cytosol bind specific changing shape pores closed forms direct ice channels gated pore channel gated channels water channels physical cell mechanically lack iwo irum thi miii iiit iii leaflet extracellular space '"
      ]
     },
     "execution_count": 43,
     "metadata": {},
     "output_type": "execute_result"
    }
   ],
   "source": [
    "with open('sec14') as f:\n",
    "    lines = f.readlines()\n",
    "    \n",
    "linesStr = \" \".join(lines)\n",
    "linesStr = ''.join([i for i in linesStr if not i.isdigit()])\n",
    "linesStr = re.sub(r'\\W+', ' ', linesStr)\n",
    "str2n = nlp(linesStr)\n",
    "linesStr"
   ]
  },
  {
   "cell_type": "code",
   "execution_count": 44,
   "id": "b07efccc",
   "metadata": {},
   "outputs": [
    {
     "data": {
      "text/plain": [
       "0.9506672031135442"
      ]
     },
     "execution_count": 44,
     "metadata": {},
     "output_type": "execute_result"
    }
   ],
   "source": [
    "str2n.similarity(str1n)"
   ]
  },
  {
   "cell_type": "markdown",
   "id": "4c3d1580",
   "metadata": {},
   "source": [
    "# Section 15"
   ]
  },
  {
   "cell_type": "code",
   "execution_count": 45,
   "id": "296124ab",
   "metadata": {
    "scrolled": true
   },
   "outputs": [
    {
     "data": {
      "text/plain": [
       "glucose atpases atpase protein dephosphorylation extracellular glutarate cytosol hydrolyze cations molecules transporters atp transporter affinity plasma exchangers cells molecule conformational glucose transporter binding glucose glucose binding affinity glucose transport glucose glucose transport carrier glucose transported glucose cotransport glucose glucose glucose glucose concentration glucose _splectose glucose amino transporters atpases glucose results "
      ]
     },
     "execution_count": 45,
     "metadata": {},
     "output_type": "execute_result"
    }
   ],
   "source": [
    "s = [('glucose', 0.4591),\n",
    " ('atpases', 0.4011),\n",
    " ('atpase', 0.384),\n",
    " ('protein', 0.359),\n",
    " ('dephosphorylation', 0.3504),\n",
    " ('extracellular', 0.3458),\n",
    " ('glutarate', 0.339),\n",
    " ('cytosol', 0.3154),\n",
    " ('hydrolyze', 0.3125),\n",
    " ('cations', 0.3083),\n",
    " ('molecules', 0.3063),\n",
    " ('transporters', 0.3058),\n",
    " ('atp', 0.2927),\n",
    " ('transporter', 0.288),\n",
    " ('affinity', 0.288),\n",
    " ('plasma', 0.2827),\n",
    " ('exchangers', 0.2809),\n",
    " ('cells', 0.2743),\n",
    " ('molecule', 0.2722),\n",
    " ('conformational', 0.2709),\n",
    "('glucose transporter', 0.5887),\n",
    " ('binding glucose', 0.5707),\n",
    " ('glucose binding', 0.5663),\n",
    " ('affinity glucose', 0.5641),\n",
    " ('transport glucose', 0.5634),\n",
    " ('glucose transport', 0.558),\n",
    " ('carrier glucose', 0.5505),\n",
    " ('transported glucose', 0.5381),\n",
    " ('cotransport glucose', 0.5278),\n",
    " ('glucose glucose', 0.5162),\n",
    " ('glucose concentration', 0.5108),\n",
    " ('glucose _splectose', 0.5041),\n",
    " ('glucose amino', 0.4999),\n",
    " ('transporters atpases', 0.4793),\n",
    " ('glucose results', 0.4724)]\n",
    "     \n",
    "\n",
    "str1 = \"\"\n",
    "for x in s:\n",
    "    str1 += (x[0] + \" \") \n",
    "\n",
    "str1n = nlp(str1)\n",
    "str1n"
   ]
  },
  {
   "cell_type": "code",
   "execution_count": 46,
   "id": "c2bd998b",
   "metadata": {},
   "outputs": [
    {
     "data": {
      "text/plain": [
       "'transport carrier active transport molecules dependent gradient primary active transport downstream binding site affinity types active transport energy secondary active transport transport molecule carrier conformation membrane directly lower concentration gradients created potential energy stored hydrolyze atp form atpases pumps push ultimately concentration gradient binding carrier mediated transport characteristics material determine amount specific transport maximum carrier binding sites carrier competition membrane results substance carrier protein similar molecules supposed presence transport rate glucose saturation limited rate substrate concentration saturated transport primary energy change carrier glucose concentration concentration transport atp adp proportional galactose maximum glucose extracellular substrate '"
      ]
     },
     "execution_count": 46,
     "metadata": {},
     "output_type": "execute_result"
    }
   ],
   "source": [
    "with open('sec15') as f:\n",
    "    lines = f.readlines()\n",
    "    \n",
    "linesStr = \" \".join(lines)\n",
    "linesStr = ''.join([i for i in linesStr if not i.isdigit()])\n",
    "linesStr = re.sub(r'\\W+', ' ', linesStr)\n",
    "str2n = nlp(linesStr)\n",
    "linesStr"
   ]
  },
  {
   "cell_type": "code",
   "execution_count": 47,
   "id": "7f781da9",
   "metadata": {},
   "outputs": [
    {
     "data": {
      "text/plain": [
       "0.8522254343317374"
      ]
     },
     "execution_count": 47,
     "metadata": {},
     "output_type": "execute_result"
    }
   ],
   "source": [
    "str2n.similarity(str1n)"
   ]
  },
  {
   "cell_type": "code",
   "execution_count": null,
   "id": "88910aba",
   "metadata": {},
   "outputs": [],
   "source": []
  }
 ],
 "metadata": {
  "kernelspec": {
   "display_name": "Python 3 (ipykernel)",
   "language": "python",
   "name": "python3"
  },
  "language_info": {
   "codemirror_mode": {
    "name": "ipython",
    "version": 3
   },
   "file_extension": ".py",
   "mimetype": "text/x-python",
   "name": "python",
   "nbconvert_exporter": "python",
   "pygments_lexer": "ipython3",
   "version": "3.9.7"
  }
 },
 "nbformat": 4,
 "nbformat_minor": 5
}
