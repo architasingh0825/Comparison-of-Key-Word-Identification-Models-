{
 "cells": [
  {
   "cell_type": "code",
   "execution_count": 1,
   "id": "98d5e551",
   "metadata": {},
   "outputs": [],
   "source": [
    "import spacy\n",
    "import re\n",
    "import pandas as pd\n",
    "from nltk.stem import PorterStemmer\n",
    "from nltk.tokenize import word_tokenize\n",
    "from sklearn.preprocessing import MultiLabelBinarizer\n",
    "from sklearn.metrics import f1_score\n",
    "ps = PorterStemmer()\n",
    "from sklearn import metrics\n",
    "from sklearn.metrics import f1_score\n",
    "from sklearn.metrics import classification_report"
   ]
  },
  {
   "cell_type": "code",
   "execution_count": 2,
   "id": "28b5d55b",
   "metadata": {},
   "outputs": [],
   "source": [
    "nlp = spacy.load(\"en_core_web_lg\")\n",
    "totalGT = 0"
   ]
  },
  {
   "cell_type": "code",
   "execution_count": 3,
   "id": "ef4faab3",
   "metadata": {},
   "outputs": [],
   "source": [
    "myAlg=[]\n",
    "trueGT=[]"
   ]
  },
  {
   "cell_type": "code",
   "execution_count": 4,
   "id": "97904fbc",
   "metadata": {},
   "outputs": [],
   "source": [
    "tp = 0\n",
    "fn = 0\n",
    "fp = 0\n",
    "tn = 0"
   ]
  },
  {
   "cell_type": "code",
   "execution_count": 5,
   "id": "6039f159",
   "metadata": {},
   "outputs": [],
   "source": [
    "def calculate_confusion_matrix(predicted_keywords, ground_truth_keywords):\n",
    "    tp = len(set(predicted_keywords).intersection(ground_truth_keywords))\n",
    "    fn = len(set(ground_truth_keywords) - set(predicted_keywords))\n",
    "    fp = len(set(predicted_keywords) - set(ground_truth_keywords))\n",
    "    tn = len(set().union(predicted_keywords, ground_truth_keywords)) - (tp + fn + fp)\n",
    "\n",
    "    return tp, fn, fp, tn"
   ]
  },
  {
   "cell_type": "markdown",
   "id": "c5060c5e",
   "metadata": {},
   "source": [
    "# Section 1"
   ]
  },
  {
   "cell_type": "code",
   "execution_count": 6,
   "id": "00c48e40",
   "metadata": {
    "scrolled": true
   },
   "outputs": [
    {
     "data": {
      "text/plain": [
       "quizz class onlin quizz student lectur "
      ]
     },
     "execution_count": 6,
     "metadata": {},
     "output_type": "execute_result"
    }
   ],
   "source": [
    "st = \"online quizzes student lecture quizzes class assignments online\"\n",
    "rooted = \"\"\n",
    "x = st.split(\" \")\n",
    "for i in x:\n",
    "   rooted += ps.stem(i) + \" \"\n",
    "str1n = nlp(rooted)\n",
    "str1n\n",
    "myAlg += st.split(\" \")\n",
    "str1n\n"
   ]
  },
  {
   "cell_type": "code",
   "execution_count": 7,
   "id": "eb73cf41",
   "metadata": {
    "scrolled": true
   },
   "outputs": [
    {
     "data": {
      "text/plain": [
       "introduct human bodi physic function human bodi circulatori system physiolog biolog chemic "
      ]
     },
     "execution_count": 7,
     "metadata": {},
     "output_type": "execute_result"
    }
   ],
   "source": [
    "str1 = \"introduction,human body,physical functions,human body,circulatory system,physiology,biology,chemical\".replace(\",\",\" \")\n",
    "rooted2 = \"\"\n",
    "for i in str1.split(\" \"):\n",
    "   rooted2 += ps.stem(i) + \" \"\n",
    "trueGT += str1.split(\" \")\n",
    "\n",
    "str2n = nlp(rooted2)\n",
    "totalGT += (len(set(rooted2.split(\" \"))) - 1)\n",
    "\n",
    "str2n"
   ]
  },
  {
   "cell_type": "code",
   "execution_count": 8,
   "id": "1985d2e6",
   "metadata": {},
   "outputs": [
    {
     "data": {
      "text/plain": [
       "['']"
      ]
     },
     "execution_count": 8,
     "metadata": {},
     "output_type": "execute_result"
    }
   ],
   "source": [
    "a=[]\n",
    "a += list(set(rooted.split(\" \")) & set(rooted2.split(\" \")))\n",
    "a"
   ]
  },
  {
   "cell_type": "code",
   "execution_count": 9,
   "id": "558a7c63",
   "metadata": {},
   "outputs": [
    {
     "data": {
      "text/plain": [
       "spacy.tokens.doc.Doc"
      ]
     },
     "execution_count": 9,
     "metadata": {},
     "output_type": "execute_result"
    }
   ],
   "source": [
    "type(str1n)"
   ]
  },
  {
   "cell_type": "code",
   "execution_count": 10,
   "id": "5562e08b",
   "metadata": {},
   "outputs": [
    {
     "data": {
      "text/plain": [
       "['quizzes', 'class', 'online', 'quizzes', 'student', 'lecture']"
      ]
     },
     "execution_count": 10,
     "metadata": {},
     "output_type": "execute_result"
    }
   ],
   "source": [
    "myAlg"
   ]
  },
  {
   "cell_type": "code",
   "execution_count": 11,
   "id": "88aa2692",
   "metadata": {},
   "outputs": [
    {
     "data": {
      "text/plain": [
       "['introduction',\n",
       " 'human',\n",
       " 'body',\n",
       " 'physical',\n",
       " 'functions',\n",
       " 'human',\n",
       " 'body',\n",
       " 'circulatory',\n",
       " 'system',\n",
       " 'physiology',\n",
       " 'biology',\n",
       " 'chemical']"
      ]
     },
     "execution_count": 11,
     "metadata": {},
     "output_type": "execute_result"
    }
   ],
   "source": [
    "trueGT"
   ]
  },
  {
   "cell_type": "code",
   "execution_count": 12,
   "id": "daf4dae0",
   "metadata": {},
   "outputs": [],
   "source": [
    "predicted_keywords = [token.text for token in str1n]\n",
    "actual_keywords = [token.text for token in str2n]\n",
    "tp1, fn1, fp1, tn1 = calculate_confusion_matrix(predicted_keywords, actual_keywords)\n",
    "tp += tp1\n",
    "fn += fn1\n",
    "fp += fp1\n",
    "tn += tn1"
   ]
  },
  {
   "cell_type": "markdown",
   "id": "b06608ee",
   "metadata": {},
   "source": [
    "# Section 2"
   ]
  },
  {
   "cell_type": "code",
   "execution_count": 13,
   "id": "77f4cbaa",
   "metadata": {
    "scrolled": true
   },
   "outputs": [],
   "source": [
    "st = \"homeostasis metabolism excretion food lungs heat exhaling homeostasis constant metabolism catabolic heat materials intake food exchanges heat open exchanges food drink po excretion feces exhaling balance law homeostasis mass balance principle mass skin lungs excretion\"\n",
    "rooted3 = \"\"\n",
    "x = st.split(\" \")\n",
    "for i in x:\n",
    "   rooted3 += ps.stem(i) + \" \"\n",
    "str1n = nlp(rooted3)\n",
    "str1n\n",
    "myAlg += st.split(\" \")\n"
   ]
  },
  {
   "cell_type": "code",
   "execution_count": 14,
   "id": "c0d0cb82",
   "metadata": {},
   "outputs": [
    {
     "data": {
      "text/plain": [
       "law mass balanc balanc intak food constant balanc bodi "
      ]
     },
     "execution_count": 14,
     "metadata": {},
     "output_type": "execute_result"
    }
   ],
   "source": [
    "str1 = \"law,mass balance,balance intake,food,constant,balance body\".replace(\",\",\" \")\n",
    "rooted = \"\"\n",
    "for i in str1.split(\" \"):\n",
    "   rooted += ps.stem(i) + \" \"\n",
    "\n",
    "str2n = nlp(rooted)\n",
    "totalGT += len(set(str1.split(\" \")))-1\n",
    "trueGT += str1.split(\" \")\n",
    "\n",
    "str2n"
   ]
  },
  {
   "cell_type": "code",
   "execution_count": 15,
   "id": "62e1f400",
   "metadata": {},
   "outputs": [
    {
     "data": {
      "text/plain": [
       "['', '', 'bodi']"
      ]
     },
     "execution_count": 15,
     "metadata": {},
     "output_type": "execute_result"
    }
   ],
   "source": [
    "a += list(set(rooted.split(\" \")) & set(rooted2.split(\" \")))\n",
    "a"
   ]
  },
  {
   "cell_type": "code",
   "execution_count": 16,
   "id": "5ba754b4",
   "metadata": {},
   "outputs": [],
   "source": [
    "predicted_keywords = [token.text for token in str1n]\n",
    "actual_keywords = [token.text for token in str2n]\n",
    "tp1, fn1, fp1, tn1 = calculate_confusion_matrix(predicted_keywords, actual_keywords)\n",
    "tp += tp1\n",
    "fn += fn1\n",
    "fp += fp1\n",
    "tn += tn1"
   ]
  },
  {
   "cell_type": "markdown",
   "id": "f216614c",
   "metadata": {},
   "source": [
    "# Section 3"
   ]
  },
  {
   "cell_type": "code",
   "execution_count": 17,
   "id": "3127e208",
   "metadata": {
    "scrolled": true
   },
   "outputs": [],
   "source": [
    "st = \"transcellular intracellular extracellular plasma fluid membrane cells compartments water blood inside plasma transcellular cells plasma ecf extracellular _icf intracellular transcellular fluid cells intracellular blood plasma plasma membrane cells fluid extracellular intracellular icf intracellular extracellular fluid plasma fluid intracellular fluid intracellular intracellular\"\n",
    "rooted = \"\"\n",
    "x = st.split(\" \")\n",
    "for i in x:\n",
    "   rooted += ps.stem(i) + \" \"\n",
    "str1n = nlp(rooted)\n",
    "st\n",
    "myAlg += st.split(\" \")\n"
   ]
  },
  {
   "cell_type": "code",
   "execution_count": 18,
   "id": "ae14a2bb",
   "metadata": {},
   "outputs": [
    {
     "data": {
      "text/plain": [
       "fluid blood bodi extracellular intracellular plasma compart ecf extracellular fluid cell plasma total bodi water plasma fluid blood divid "
      ]
     },
     "execution_count": 18,
     "metadata": {},
     "output_type": "execute_result"
    }
   ],
   "source": [
    "str1 = \"fluid,blood,body extracellular,intracellular plasma,compartments,ecf extracellular fluid cells plasma,total body water,plasma fluid,blood,divided\".replace(\",\",\" \")\n",
    "rooted2 = \"\"\n",
    "for i in str1.split(\" \"):\n",
    "   rooted2 += ps.stem(i) + \" \"\n",
    "\n",
    "str2n = nlp(rooted2)\n",
    "totalGT += (len(set(rooted2.split(\" \"))) - 1)\n",
    "trueGT += str1.split(\" \")\n",
    "\n",
    "str2n"
   ]
  },
  {
   "cell_type": "code",
   "execution_count": 19,
   "id": "4dbd1d5b",
   "metadata": {},
   "outputs": [
    {
     "data": {
      "text/plain": [
       "['',\n",
       " '',\n",
       " 'bodi',\n",
       " 'plasma',\n",
       " '',\n",
       " 'intracellular',\n",
       " 'blood',\n",
       " 'extracellular',\n",
       " 'cell',\n",
       " 'ecf',\n",
       " 'water',\n",
       " 'compart',\n",
       " 'fluid']"
      ]
     },
     "execution_count": 19,
     "metadata": {},
     "output_type": "execute_result"
    }
   ],
   "source": [
    "a += list(set(rooted.split(\" \")) & set(rooted2.split(\" \")))\n",
    "a"
   ]
  },
  {
   "cell_type": "code",
   "execution_count": 20,
   "id": "5a6cfe7d",
   "metadata": {},
   "outputs": [],
   "source": [
    "predicted_keywords = [token.text for token in str1n]\n",
    "actual_keywords = [token.text for token in str2n]\n",
    "tp1, fn1, fp1, tn1 = calculate_confusion_matrix(predicted_keywords, actual_keywords)\n",
    "tp += tp1\n",
    "fn += fn1\n",
    "fp += fp1\n",
    "tn += tn1"
   ]
  },
  {
   "cell_type": "markdown",
   "id": "c7000077",
   "metadata": {},
   "source": [
    "# Section 4"
   ]
  },
  {
   "cell_type": "code",
   "execution_count": 21,
   "id": "09a145f6",
   "metadata": {
    "scrolled": true
   },
   "outputs": [],
   "source": [
    "st = \"intracellular solute ionic plasma proteins proteins homeostasis equilibrium extracellular fluid cell equilibrium membrane fluid intracellular concentrations solutes membrane intracellular equilibrium osmotic permeability membrane osmotic equilibrium fluid chemical compartments steady ionic imbalances homeostasis equilibrium plasma volume\"\n",
    "rooted = \"\"\n",
    "x = st.split(\" \")\n",
    "for i in x:\n",
    "   rooted += ps.stem(i) + \" \"\n",
    "str1n = nlp(rooted)\n",
    "str1n\n",
    "myAlg += st.split(\" \")\n"
   ]
  },
  {
   "cell_type": "code",
   "execution_count": 22,
   "id": "071ac4d6",
   "metadata": {},
   "outputs": [
    {
     "data": {
      "text/plain": [
       "homeostasi osmot equilibrium electr neutral homeostasi refer osmot equilibrium composit total amount concentr gradient bodi "
      ]
     },
     "execution_count": 22,
     "metadata": {},
     "output_type": "execute_result"
    }
   ],
   "source": [
    "str1 = \"homeostasis,osmotic equilibrium,electrically neutral homeostasis refers,osmotic equilibrium,composition,total amount,concentration gradients,body\".replace(\",\",\" \")\n",
    "rooted2 = \"\"\n",
    "for i in str1.split(\" \"):\n",
    "   rooted2 += ps.stem(i) + \" \"\n",
    "\n",
    "str2n = nlp(rooted2)\n",
    "totalGT += (len(set(rooted2.split(\" \"))) - 1)\n",
    "trueGT += str1.split(\" \")\n",
    "\n",
    "str2n"
   ]
  },
  {
   "cell_type": "code",
   "execution_count": 23,
   "id": "56f1aaa4",
   "metadata": {},
   "outputs": [
    {
     "data": {
      "text/plain": [
       "['',\n",
       " '',\n",
       " 'bodi',\n",
       " 'plasma',\n",
       " '',\n",
       " 'intracellular',\n",
       " 'blood',\n",
       " 'extracellular',\n",
       " 'cell',\n",
       " 'ecf',\n",
       " 'water',\n",
       " 'compart',\n",
       " 'fluid',\n",
       " '',\n",
       " 'equilibrium',\n",
       " 'concentr',\n",
       " 'osmot',\n",
       " 'homeostasi']"
      ]
     },
     "execution_count": 23,
     "metadata": {},
     "output_type": "execute_result"
    }
   ],
   "source": [
    "a += list(set(rooted.split(\" \")) & set(rooted2.split(\" \")))\n",
    "a"
   ]
  },
  {
   "cell_type": "code",
   "execution_count": 24,
   "id": "bc8ba703",
   "metadata": {},
   "outputs": [],
   "source": [
    "predicted_keywords = [token.text for token in str1n]\n",
    "actual_keywords = [token.text for token in str2n]\n",
    "tp1, fn1, fp1, tn1 = calculate_confusion_matrix(predicted_keywords, actual_keywords)\n",
    "tp += tp1\n",
    "fn += fn1\n",
    "fp += fp1\n",
    "tn += tn1"
   ]
  },
  {
   "cell_type": "markdown",
   "id": "fd6db4d8",
   "metadata": {},
   "source": [
    "# Section 5"
   ]
  },
  {
   "cell_type": "code",
   "execution_count": 25,
   "id": "4700c261",
   "metadata": {
    "scrolled": true
   },
   "outputs": [],
   "source": [
    "\n",
    "\n",
    "st = \"plasmalemma extracellular proteins cytoskeleton plasma membrane glycoprotein phosphatidylcholine inositol4 intracellular ions membranes cellular cells lipids phosphocholine cell matrix phosphatidylinositol phospholipids membrane plasmalemma plasma membrane plasmalemma functionally cell membrane membrane proteins extracellular matrix proteins membrane membrane sphingolipids membrane lipid membrane membrane cells extracellular extracellular compartments proteins intracellular proteins lipid cell tissues\"\n",
    "rooted = \"\"\n",
    "x = st.split(\" \")\n",
    "for i in x:\n",
    "   rooted += ps.stem(i) + \" \"\n",
    "str1n = nlp(rooted)\n",
    "str1n\n",
    "myAlg += st.split(\" \")\n"
   ]
  },
  {
   "cell_type": "code",
   "execution_count": 26,
   "id": "c47b3a1d",
   "metadata": {},
   "outputs": [
    {
     "data": {
      "text/plain": [
       "plasma fluid mosaic model physic barrier environ protein hydrophil head cell membran sugar monom membran enabl extracellular matrix lipid membran special junction plasma hydrophil head physic isol glycerol fatti acid membran membran fluid mosaic model plasma membran maintain cell shape stabil cell protein "
      ]
     },
     "execution_count": 26,
     "metadata": {},
     "output_type": "execute_result"
    }
   ],
   "source": [
    "str1 = \"plasma,fluid mosaic model,physical barrier,environment proteins,hydrophilic,head,cell membrane,sugar monomer membrane enable,extracellular matrix,lipids membrane,specialized junctions,plasma,hydrophilic head,physical isolation,glycerol fatty acid,membrane membranes,fluid mosaic model,plasma membrane,maintaining cell shape,stabilizing cells,proteins\".replace(\",\",\" \")\n",
    "rooted2 = \"\"\n",
    "for i in str1.split(\" \"):\n",
    "   rooted2 += ps.stem(i) + \" \"\n",
    "\n",
    "str2n = nlp(rooted2)\n",
    "totalGT += (len(set(rooted2.split(\" \"))) - 1)\n",
    "trueGT += str1.split(\" \")\n",
    "\n",
    "str2n"
   ]
  },
  {
   "cell_type": "code",
   "execution_count": 27,
   "id": "27980262",
   "metadata": {},
   "outputs": [
    {
     "data": {
      "text/plain": [
       "['',\n",
       " '',\n",
       " 'bodi',\n",
       " 'plasma',\n",
       " '',\n",
       " 'intracellular',\n",
       " 'blood',\n",
       " 'extracellular',\n",
       " 'cell',\n",
       " 'ecf',\n",
       " 'water',\n",
       " 'compart',\n",
       " 'fluid',\n",
       " '',\n",
       " 'equilibrium',\n",
       " 'concentr',\n",
       " 'osmot',\n",
       " 'homeostasi',\n",
       " '',\n",
       " 'plasma',\n",
       " 'membran',\n",
       " 'extracellular',\n",
       " 'protein',\n",
       " 'matrix',\n",
       " 'lipid',\n",
       " 'cell']"
      ]
     },
     "execution_count": 27,
     "metadata": {},
     "output_type": "execute_result"
    }
   ],
   "source": [
    "a += list(set(rooted.split(\" \")) & set(rooted2.split(\" \")))\n",
    "a"
   ]
  },
  {
   "cell_type": "code",
   "execution_count": 28,
   "id": "87dadc78",
   "metadata": {},
   "outputs": [],
   "source": [
    "predicted_keywords = [token.text for token in str1n]\n",
    "actual_keywords = [token.text for token in str2n]\n",
    "tp1, fn1, fp1, tn1 = calculate_confusion_matrix(predicted_keywords, actual_keywords)\n",
    "tp += tp1\n",
    "fn += fn1\n",
    "fp += fp1\n",
    "tn += tn1"
   ]
  },
  {
   "cell_type": "markdown",
   "id": "779b256a",
   "metadata": {},
   "source": [
    "# Section 6"
   ]
  },
  {
   "cell_type": "code",
   "execution_count": 29,
   "id": "bcc6a581",
   "metadata": {
    "scrolled": true
   },
   "outputs": [],
   "source": [
    "st = \"membrane cholesterol lipids plasma lipids include easily hydrophobic improves membrane cholesterol aids lipid rafts membrane flexibility ll cholesterol proteins extracellular\"\n",
    "rooted = \"\"\n",
    "x = st.split(\" \")\n",
    "for i in x:\n",
    "   rooted += ps.stem(i) + \" \"\n",
    "str1n = nlp(rooted)\n",
    "str1n\n",
    "myAlg += st.split(\" \")\n"
   ]
  },
  {
   "cell_type": "code",
   "execution_count": 30,
   "id": "6cf08ce4",
   "metadata": {},
   "outputs": [
    {
     "data": {
      "text/plain": [
       "lipid found membran flexibl membran imperm phospholipid interact plasma membran hydrophob lipid found membran flexibl cholesterol plasma membran cholesterol phospholipid plasma membran cholesterol "
      ]
     },
     "execution_count": 30,
     "metadata": {},
     "output_type": "execute_result"
    }
   ],
   "source": [
    "str1 = \"lipids found,membrane flexibility,membrane impermeable,phospholipid interaction,plasma membrane hydrophobic,lipids found,membrane flexibility,cholesterol,plasma membrane,cholesterol phospholipids,plasma membrane cholesterol\".replace(\",\",\" \")\n",
    "rooted2 = \"\"\n",
    "for i in str1.split(\" \"):\n",
    "   rooted2 += ps.stem(i) + \" \"\n",
    "\n",
    "str2n = nlp(rooted2)\n",
    "totalGT += (len(set(rooted2.split(\" \"))) - 1)\n",
    "trueGT += str1.split(\" \")\n",
    "\n",
    "str2n"
   ]
  },
  {
   "cell_type": "code",
   "execution_count": 31,
   "id": "a54e6213",
   "metadata": {},
   "outputs": [
    {
     "data": {
      "text/plain": [
       "['',\n",
       " '',\n",
       " 'bodi',\n",
       " 'plasma',\n",
       " '',\n",
       " 'intracellular',\n",
       " 'blood',\n",
       " 'extracellular',\n",
       " 'cell',\n",
       " 'ecf',\n",
       " 'water',\n",
       " 'compart',\n",
       " 'fluid',\n",
       " '',\n",
       " 'equilibrium',\n",
       " 'concentr',\n",
       " 'osmot',\n",
       " 'homeostasi',\n",
       " '',\n",
       " 'plasma',\n",
       " 'membran',\n",
       " 'extracellular',\n",
       " 'protein',\n",
       " 'matrix',\n",
       " 'lipid',\n",
       " 'cell',\n",
       " 'plasma',\n",
       " '',\n",
       " 'membran',\n",
       " 'flexibl',\n",
       " 'lipid',\n",
       " 'cholesterol',\n",
       " 'hydrophob']"
      ]
     },
     "execution_count": 31,
     "metadata": {},
     "output_type": "execute_result"
    }
   ],
   "source": [
    "a += list(set(rooted.split(\" \")) & set(rooted2.split(\" \")))\n",
    "a"
   ]
  },
  {
   "cell_type": "code",
   "execution_count": 32,
   "id": "6a6c1437",
   "metadata": {},
   "outputs": [],
   "source": [
    "predicted_keywords = [token.text for token in str1n]\n",
    "actual_keywords = [token.text for token in str2n]\n",
    "tp1, fn1, fp1, tn1 = calculate_confusion_matrix(predicted_keywords, actual_keywords)\n",
    "tp += tp1\n",
    "fn += fn1\n",
    "fp += fp1\n",
    "tn += tn1"
   ]
  },
  {
   "cell_type": "markdown",
   "id": "af22f4e5",
   "metadata": {},
   "source": [
    "# Section 7"
   ]
  },
  {
   "cell_type": "code",
   "execution_count": 82,
   "id": "948f98b7",
   "metadata": {
    "scrolled": true
   },
   "outputs": [],
   "source": [
    "st = \"proteins lipids lipid cytoplasmic protein transmembrane cytoskeletal extracellular intracellular enzymes receptor hydrophobic membrane sphingolipids receptors ligand cytosol molecules cytoskeletal proteins membrane proteins binding proteins anchored proteins proteins extracellular proteins molecules transmembrane proteins proteins covalently hydrophobic transmembrane lipids include proteins integral lipid rafts gnfracellular proteins integral proteins proteins attached\"\n",
    "rooted = \"\"\n",
    "x = st.split(\" \")\n",
    "for i in x:\n",
    "   rooted += ps.stem(i) + \" \"\n",
    "str1n = nlp(rooted)\n",
    "str1n\n",
    "myAlg += st.split(\" \")\n"
   ]
  },
  {
   "cell_type": "code",
   "execution_count": 83,
   "id": "0da64e49",
   "metadata": {},
   "outputs": [
    {
     "data": {
      "text/plain": [
       "membran membran protein ligand bind domain protein depend adhes interact anchor adhes molecul adhes extracellular intracellular ligand bind interact extracellular ligand bind ligand bind domain molecul membran adhes molecul domain membran possess structur bind hydrophob segment "
      ]
     },
     "execution_count": 83,
     "metadata": {},
     "output_type": "execute_result"
    }
   ],
   "source": [
    "str1 = \"membrane,membrane proteins,ligand binding domain,protein depending,adhesion,interaction,anchor,adhesion molecules,adhesion,extracellular intracellular,ligand binding,interaction,extracellular ligand binding,ligand binding domain,molecules,membrane,adhesion molecules,domain,membrane possess,structural binding,hydrophobic segments\".replace(\",\",\" \")\n",
    "rooted2 = \"\"\n",
    "for i in str1.split(\" \"):\n",
    "   rooted2 += ps.stem(i) + \" \"\n",
    "\n",
    "str2n = nlp(rooted2)\n",
    "totalGT += (len(set(rooted2.split(\" \"))) - 1)\n",
    "trueGT += str1.split(\" \")\n",
    "\n",
    "str2n"
   ]
  },
  {
   "cell_type": "code",
   "execution_count": 35,
   "id": "428c8287",
   "metadata": {},
   "outputs": [],
   "source": [
    "a += list(set(rooted.split(\" \")) & set(rooted2.split(\" \")))\n"
   ]
  },
  {
   "cell_type": "code",
   "execution_count": null,
   "id": "5dd87d46",
   "metadata": {},
   "outputs": [],
   "source": []
  },
  {
   "cell_type": "code",
   "execution_count": 85,
   "id": "21cf1e4b",
   "metadata": {},
   "outputs": [
    {
     "data": {
      "text/plain": [
       "['protein',\n",
       " 'lipid',\n",
       " 'lipid',\n",
       " 'cytoplasm',\n",
       " 'protein',\n",
       " 'transmembran',\n",
       " 'cytoskelet',\n",
       " 'extracellular',\n",
       " 'intracellular',\n",
       " 'enzym',\n",
       " 'receptor',\n",
       " 'hydrophob',\n",
       " 'membran',\n",
       " 'sphingolipid',\n",
       " 'receptor',\n",
       " 'ligand',\n",
       " 'cytosol',\n",
       " 'molecul',\n",
       " 'cytoskelet',\n",
       " 'protein',\n",
       " 'membran',\n",
       " 'protein',\n",
       " 'bind',\n",
       " 'protein',\n",
       " 'anchor',\n",
       " 'protein',\n",
       " 'protein',\n",
       " 'extracellular',\n",
       " 'protein',\n",
       " 'molecul',\n",
       " 'transmembran',\n",
       " 'protein',\n",
       " 'protein',\n",
       " 'coval',\n",
       " 'hydrophob',\n",
       " 'transmembran',\n",
       " 'lipid',\n",
       " 'includ',\n",
       " 'protein',\n",
       " 'integr',\n",
       " 'lipid',\n",
       " 'raft',\n",
       " 'gnfracellular',\n",
       " 'protein',\n",
       " 'integr',\n",
       " 'protein',\n",
       " 'protein',\n",
       " 'attach']"
      ]
     },
     "execution_count": 85,
     "metadata": {},
     "output_type": "execute_result"
    }
   ],
   "source": [
    "predicted_keywords = [token.text for token in str1n]\n",
    "actual_keywords = [token.text for token in str2n]\n",
    "tp1, fn1, fp1, tn1 = calculate_confusion_matrix(predicted_keywords, actual_keywords)\n",
    "tp += tp1\n",
    "fn += fn1\n",
    "fp += fp1\n",
    "tn += tn1\n",
    "predicted_keywords"
   ]
  },
  {
   "cell_type": "markdown",
   "id": "59f93164",
   "metadata": {},
   "source": [
    "# Section 8"
   ]
  },
  {
   "cell_type": "code",
   "execution_count": 37,
   "id": "d6e59a12",
   "metadata": {
    "scrolled": true
   },
   "outputs": [],
   "source": [
    "st = \"hydrolysis pumps hydrolysis atp atp solutes energy hydrolysis channel proteins solute pumps membrane pores molecules membranes hydrolysis transport membrane membrane concentration molecule membrane transporter molecules membrane direct pumps\"\n",
    "rooted = \"\"\n",
    "x = st.split(\" \")\n",
    "for i in x:\n",
    "   rooted += ps.stem(i) + \" \"\n",
    "str1n = nlp(rooted)\n",
    "str1n\n",
    "myAlg += st.split(\" \")\n"
   ]
  },
  {
   "cell_type": "code",
   "execution_count": 38,
   "id": "2f6b5535",
   "metadata": {},
   "outputs": [
    {
     "data": {
      "text/plain": [
       "carrier protein bind molecul move transport molecul channel move solut fill passag solut pump concentr gradient molecul move carrier protein bind move molecul protein creat membran carrier facilit "
      ]
     },
     "execution_count": 38,
     "metadata": {},
     "output_type": "execute_result"
    }
   ],
   "source": [
    "str1 = \"carrier proteins bind,molecules move,transporter molecules,channels,move solutes,filled passages,solute pumps,concentration gradient,molecules move,carrier proteins bind,move molecules,proteins create,membrane,carriers facilitate\".replace(\",\",\" \")\n",
    "rooted2 = \"\"\n",
    "for i in str1.split(\" \"):\n",
    "   rooted2 += ps.stem(i) + \" \"\n",
    "\n",
    "str2n = nlp(rooted2)\n",
    "totalGT += (len(set(rooted2.split(\" \"))) - 1)\n",
    "trueGT += str1.split(\" \")\n",
    "\n",
    "str2n"
   ]
  },
  {
   "cell_type": "code",
   "execution_count": 39,
   "id": "8f525aab",
   "metadata": {},
   "outputs": [
    {
     "data": {
      "text/plain": [
       "['',\n",
       " '',\n",
       " 'bodi',\n",
       " 'plasma',\n",
       " '',\n",
       " 'intracellular',\n",
       " 'blood',\n",
       " 'extracellular',\n",
       " 'cell',\n",
       " 'ecf',\n",
       " 'water',\n",
       " 'compart',\n",
       " 'fluid',\n",
       " '',\n",
       " 'equilibrium',\n",
       " 'concentr',\n",
       " 'osmot',\n",
       " 'homeostasi',\n",
       " '',\n",
       " 'plasma',\n",
       " 'membran',\n",
       " 'extracellular',\n",
       " 'protein',\n",
       " 'matrix',\n",
       " 'lipid',\n",
       " 'cell',\n",
       " 'plasma',\n",
       " '',\n",
       " 'membran',\n",
       " 'flexibl',\n",
       " 'lipid',\n",
       " 'cholesterol',\n",
       " 'hydrophob',\n",
       " '',\n",
       " 'intracellular',\n",
       " 'membran',\n",
       " 'extracellular',\n",
       " 'protein',\n",
       " 'anchor',\n",
       " 'bind',\n",
       " 'ligand',\n",
       " 'molecul',\n",
       " 'hydrophob',\n",
       " 'solut',\n",
       " '',\n",
       " 'concentr',\n",
       " 'membran',\n",
       " 'protein',\n",
       " 'transport',\n",
       " 'pump',\n",
       " 'molecul',\n",
       " 'channel']"
      ]
     },
     "execution_count": 39,
     "metadata": {},
     "output_type": "execute_result"
    }
   ],
   "source": [
    "a += list(set(rooted.split(\" \")) & set(rooted2.split(\" \")))\n",
    "a"
   ]
  },
  {
   "cell_type": "code",
   "execution_count": 40,
   "id": "abefb829",
   "metadata": {},
   "outputs": [],
   "source": [
    "predicted_keywords = [token.text for token in str1n]\n",
    "actual_keywords = [token.text for token in str2n]\n",
    "tp1, fn1, fp1, tn1 = calculate_confusion_matrix(predicted_keywords, actual_keywords)\n",
    "tp += tp1\n",
    "fn += fn1\n",
    "fp += fp1\n",
    "tn += tn1"
   ]
  },
  {
   "cell_type": "markdown",
   "id": "c17ab935",
   "metadata": {},
   "source": [
    "# Section 9"
   ]
  },
  {
   "cell_type": "code",
   "execution_count": 41,
   "id": "844d6868",
   "metadata": {
    "scrolled": true
   },
   "outputs": [],
   "source": [
    "st = \"glycoprotein extracellular proteins enzymes cytoskeleton kinases carbohydrates phospholipase carbohydrat glycolipid protein intracellular lipid cytoplas glycocalyx phospholipids catalyze plasma membrane glycoprotein glycolipid kinases enzymes phospholipase intracellular membrane carbohydrates proteins kinases proteins cytoskeleton protein glycoprotein containing proteins carbohydrates extracellular intracellular signaling proteins helps membrane protein lipid glycolipid cells glycocalyx cytoskeleton molecules \" \n",
    "rooted = \"\"\n",
    "x = st.split(\" \")\n",
    "for i in x:\n",
    "   rooted += ps.stem(i) + \" \"\n",
    "str1n = nlp(rooted)\n",
    "str1n\n",
    "myAlg += st.split(\" \")\n"
   ]
  },
  {
   "cell_type": "code",
   "execution_count": 42,
   "id": "ddcfbdcf",
   "metadata": {},
   "outputs": [
    {
     "data": {
      "text/plain": [
       "signal receiv plasma membran function protein peripher protein protein kinas membran bound membran molecul membran carbohydr membran bound fatti acid cytoskeleton includ peripher protein molecul function phospholipid protein membran protein "
      ]
     },
     "execution_count": 42,
     "metadata": {},
     "output_type": "execute_result"
    }
   ],
   "source": [
    "str1 = \"signals received,plasma membrane,functions protein,peripheral proteins,proteins kinases,membrane bound,membrane molecule,membrane carbohydrates,membrane bound,fatty acid,cytoskeleton includes,peripheral proteins,molecule functions,phospholipid protein,membrane protein\".replace(\",\",\" \")\n",
    "rooted2 = \"\"\n",
    "for i in str1.split(\" \"):\n",
    "   rooted2 += ps.stem(i) + \" \"\n",
    "\n",
    "str2n = nlp(rooted2)\n",
    "totalGT += (len(set(rooted2.split(\" \"))) - 1)\n",
    "trueGT += str1.split(\" \")\n",
    "\n",
    "str2n"
   ]
  },
  {
   "cell_type": "code",
   "execution_count": 43,
   "id": "0f8a0c2c",
   "metadata": {},
   "outputs": [
    {
     "data": {
      "text/plain": [
       "['',\n",
       " '',\n",
       " 'bodi',\n",
       " 'plasma',\n",
       " '',\n",
       " 'intracellular',\n",
       " 'blood',\n",
       " 'extracellular',\n",
       " 'cell',\n",
       " 'ecf',\n",
       " 'water',\n",
       " 'compart',\n",
       " 'fluid',\n",
       " '',\n",
       " 'equilibrium',\n",
       " 'concentr',\n",
       " 'osmot',\n",
       " 'homeostasi',\n",
       " '',\n",
       " 'plasma',\n",
       " 'membran',\n",
       " 'extracellular',\n",
       " 'protein',\n",
       " 'matrix',\n",
       " 'lipid',\n",
       " 'cell',\n",
       " 'plasma',\n",
       " '',\n",
       " 'membran',\n",
       " 'flexibl',\n",
       " 'lipid',\n",
       " 'cholesterol',\n",
       " 'hydrophob',\n",
       " '',\n",
       " 'intracellular',\n",
       " 'membran',\n",
       " 'extracellular',\n",
       " 'protein',\n",
       " 'anchor',\n",
       " 'bind',\n",
       " 'ligand',\n",
       " 'molecul',\n",
       " 'hydrophob',\n",
       " 'solut',\n",
       " '',\n",
       " 'concentr',\n",
       " 'membran',\n",
       " 'protein',\n",
       " 'transport',\n",
       " 'pump',\n",
       " 'molecul',\n",
       " 'channel',\n",
       " 'plasma',\n",
       " '',\n",
       " 'carbohydr',\n",
       " 'membran',\n",
       " 'protein',\n",
       " 'cytoskeleton',\n",
       " 'kinas',\n",
       " 'molecul',\n",
       " 'signal',\n",
       " 'phospholipid']"
      ]
     },
     "execution_count": 43,
     "metadata": {},
     "output_type": "execute_result"
    }
   ],
   "source": [
    "a += list(set(rooted.split(\" \")) & set(rooted2.split(\" \")))\n",
    "a"
   ]
  },
  {
   "cell_type": "code",
   "execution_count": 44,
   "id": "0fa3f365",
   "metadata": {},
   "outputs": [],
   "source": [
    "predicted_keywords = [token.text for token in str1n]\n",
    "actual_keywords = [token.text for token in str2n]\n",
    "tp1, fn1, fp1, tn1 = calculate_confusion_matrix(predicted_keywords, actual_keywords)\n",
    "tp += tp1\n",
    "fn += fn1\n",
    "fp += fp1\n",
    "tn += tn1"
   ]
  },
  {
   "cell_type": "markdown",
   "id": "3b31d719",
   "metadata": {},
   "source": [
    "# Section 10"
   ]
  },
  {
   "cell_type": "code",
   "execution_count": 45,
   "id": "eade1c57",
   "metadata": {
    "scrolled": true
   },
   "outputs": [],
   "source": [
    "st = \"fluids circulatory fluid gradients masse flow pressure respiratory bulk moves components pressure gradients fluids flow flow pressure pressure components causes fluids circulatory respiratory pressure region gradients causes bulk flow components fluid fluids examples circulatory circulatory respiratory bulk flow region \"\n",
    "rooted = \"\"\n",
    "x = st.split(\" \")\n",
    "for i in x:\n",
    "   rooted += ps.stem(i) + \" \"\n",
    "str1n = nlp(rooted)\n",
    "str1n\n",
    "myAlg += st.split(\" \")\n",
    "\n"
   ]
  },
  {
   "cell_type": "code",
   "execution_count": 46,
   "id": "dbea7a07",
   "metadata": {},
   "outputs": [
    {
     "data": {
      "text/plain": [
       "flow pressur gradient fluid move bulk flow fluid bulk flow lower pressur flow pressur gradient compon pressur "
      ]
     },
     "execution_count": 46,
     "metadata": {},
     "output_type": "execute_result"
    }
   ],
   "source": [
    "str1 = \"flow pressure gradients,fluid moves,bulk flow,fluids,bulk flow,lower pressure,flow pressure gradients,components,pressure\".replace(\",\",\" \")\n",
    "rooted2 = \"\"\n",
    "for i in str1.split(\" \"):\n",
    "   rooted2 += ps.stem(i) + \" \"\n",
    "\n",
    "str2n = nlp(rooted2)\n",
    "totalGT += (len(set(rooted2.split(\" \"))) - 1)\n",
    "trueGT += str1.split(\" \")\n",
    "\n",
    "str2n"
   ]
  },
  {
   "cell_type": "code",
   "execution_count": 47,
   "id": "079962ea",
   "metadata": {},
   "outputs": [
    {
     "data": {
      "text/plain": [
       "['',\n",
       " '',\n",
       " 'bodi',\n",
       " 'plasma',\n",
       " '',\n",
       " 'intracellular',\n",
       " 'blood',\n",
       " 'extracellular',\n",
       " 'cell',\n",
       " 'ecf',\n",
       " 'water',\n",
       " 'compart',\n",
       " 'fluid',\n",
       " '',\n",
       " 'equilibrium',\n",
       " 'concentr',\n",
       " 'osmot',\n",
       " 'homeostasi',\n",
       " '',\n",
       " 'plasma',\n",
       " 'membran',\n",
       " 'extracellular',\n",
       " 'protein',\n",
       " 'matrix',\n",
       " 'lipid',\n",
       " 'cell',\n",
       " 'plasma',\n",
       " '',\n",
       " 'membran',\n",
       " 'flexibl',\n",
       " 'lipid',\n",
       " 'cholesterol',\n",
       " 'hydrophob',\n",
       " '',\n",
       " 'intracellular',\n",
       " 'membran',\n",
       " 'extracellular',\n",
       " 'protein',\n",
       " 'anchor',\n",
       " 'bind',\n",
       " 'ligand',\n",
       " 'molecul',\n",
       " 'hydrophob',\n",
       " 'solut',\n",
       " '',\n",
       " 'concentr',\n",
       " 'membran',\n",
       " 'protein',\n",
       " 'transport',\n",
       " 'pump',\n",
       " 'molecul',\n",
       " 'channel',\n",
       " 'plasma',\n",
       " '',\n",
       " 'carbohydr',\n",
       " 'membran',\n",
       " 'protein',\n",
       " 'cytoskeleton',\n",
       " 'kinas',\n",
       " 'molecul',\n",
       " 'signal',\n",
       " 'phospholipid',\n",
       " '',\n",
       " 'bulk',\n",
       " 'compon',\n",
       " 'flow',\n",
       " 'move',\n",
       " 'gradient',\n",
       " 'pressur',\n",
       " 'fluid']"
      ]
     },
     "execution_count": 47,
     "metadata": {},
     "output_type": "execute_result"
    }
   ],
   "source": [
    "a += list(set(rooted.split(\" \")) & set(rooted2.split(\" \")))\n",
    "a"
   ]
  },
  {
   "cell_type": "code",
   "execution_count": 48,
   "id": "6ddd2f77",
   "metadata": {},
   "outputs": [],
   "source": [
    "predicted_keywords = [token.text for token in str1n]\n",
    "actual_keywords = [token.text for token in str2n]\n",
    "tp1, fn1, fp1, tn1 = calculate_confusion_matrix(predicted_keywords, actual_keywords)\n",
    "tp += tp1\n",
    "fn += fn1\n",
    "fp += fp1\n",
    "tn += tn1"
   ]
  },
  {
   "cell_type": "markdown",
   "id": "66dbc377",
   "metadata": {},
   "source": [
    "# Section 11"
   ]
  },
  {
   "cell_type": "code",
   "execution_count": 49,
   "id": "2de65481",
   "metadata": {
    "scrolled": true
   },
   "outputs": [],
   "source": [
    "st = \"plasma lipid protein membrane membranes solubility molecules molecular permeability glucose permeable acids barriers energy molecule soluble atp permeability plasma plasma membranes membrane selectively plasma membrane membrane properties membrane permeability substance plasma lipid protein determined lipid lipid highly molecule lipid particle membrane solubility molecule composition plasma membrane force \"\n",
    "rooted = \"\"\n",
    "x = st.split(\" \")\n",
    "for i in x:\n",
    "   rooted += ps.stem(i) + \" \"\n",
    "str1n = nlp(rooted)\n",
    "str1n\n",
    "myAlg += st.split(\" \")\n"
   ]
  },
  {
   "cell_type": "code",
   "execution_count": 50,
   "id": "7dc4692f",
   "metadata": {},
   "outputs": [
    {
     "data": {
      "text/plain": [
       "membran permeabl permeabl plasma membran produc movement requir energi produc movement particl lipid permeabl solubl uncharg membran drive molecul glucos molecul plasma membran solubl charg solubl water "
      ]
     },
     "execution_count": 50,
     "metadata": {},
     "output_type": "execute_result"
    }
   ],
   "source": [
    "str1 = \"membrane permeability,permeable,plasma membrane,produce movement,require energy,produce movement,particles,lipid,permeable,soluble uncharged,membrane,drive,molecules glucose,molecules,plasma membrane,soluble charged,soluble water\".replace(\",\",\" \")\n",
    "rooted2 = \"\"\n",
    "for i in str1.split(\" \"):\n",
    "   rooted2 += ps.stem(i) + \" \"\n",
    "\n",
    "str2n = nlp(rooted2)\n",
    "totalGT += (len(set(rooted2.split(\" \"))) - 1)\n",
    "trueGT += str1.split(\" \")\n",
    "\n",
    "str2n"
   ]
  },
  {
   "cell_type": "code",
   "execution_count": 51,
   "id": "ffa6b316",
   "metadata": {},
   "outputs": [
    {
     "data": {
      "text/plain": [
       "['',\n",
       " '',\n",
       " 'bodi',\n",
       " 'plasma',\n",
       " '',\n",
       " 'intracellular',\n",
       " 'blood',\n",
       " 'extracellular',\n",
       " 'cell',\n",
       " 'ecf',\n",
       " 'water',\n",
       " 'compart',\n",
       " 'fluid',\n",
       " '',\n",
       " 'equilibrium',\n",
       " 'concentr',\n",
       " 'osmot',\n",
       " 'homeostasi',\n",
       " '',\n",
       " 'plasma',\n",
       " 'membran',\n",
       " 'extracellular',\n",
       " 'protein',\n",
       " 'matrix',\n",
       " 'lipid',\n",
       " 'cell',\n",
       " 'plasma',\n",
       " '',\n",
       " 'membran',\n",
       " 'flexibl',\n",
       " 'lipid',\n",
       " 'cholesterol',\n",
       " 'hydrophob',\n",
       " '',\n",
       " 'intracellular',\n",
       " 'membran',\n",
       " 'extracellular',\n",
       " 'protein',\n",
       " 'anchor',\n",
       " 'bind',\n",
       " 'ligand',\n",
       " 'molecul',\n",
       " 'hydrophob',\n",
       " 'solut',\n",
       " '',\n",
       " 'concentr',\n",
       " 'membran',\n",
       " 'protein',\n",
       " 'transport',\n",
       " 'pump',\n",
       " 'molecul',\n",
       " 'channel',\n",
       " 'plasma',\n",
       " '',\n",
       " 'carbohydr',\n",
       " 'membran',\n",
       " 'protein',\n",
       " 'cytoskeleton',\n",
       " 'kinas',\n",
       " 'molecul',\n",
       " 'signal',\n",
       " 'phospholipid',\n",
       " '',\n",
       " 'bulk',\n",
       " 'compon',\n",
       " 'flow',\n",
       " 'move',\n",
       " 'gradient',\n",
       " 'pressur',\n",
       " 'fluid',\n",
       " 'plasma',\n",
       " '',\n",
       " 'glucos',\n",
       " 'solubl',\n",
       " 'membran',\n",
       " 'lipid',\n",
       " 'permeabl',\n",
       " 'particl',\n",
       " 'energi',\n",
       " 'molecul']"
      ]
     },
     "execution_count": 51,
     "metadata": {},
     "output_type": "execute_result"
    }
   ],
   "source": [
    "a += list(set(rooted.split(\" \")) & set(rooted2.split(\" \")))\n",
    "a"
   ]
  },
  {
   "cell_type": "code",
   "execution_count": 52,
   "id": "4641e809",
   "metadata": {},
   "outputs": [],
   "source": [
    "predicted_keywords = [token.text for token in str1n]\n",
    "actual_keywords = [token.text for token in str2n]\n",
    "tp1, fn1, fp1, tn1 = calculate_confusion_matrix(predicted_keywords, actual_keywords)\n",
    "tp += tp1\n",
    "fn += fn1\n",
    "fp += fp1\n",
    "tn += tn1"
   ]
  },
  {
   "cell_type": "markdown",
   "id": "e87cccea",
   "metadata": {},
   "source": [
    "# Section 12"
   ]
  },
  {
   "cell_type": "code",
   "execution_count": 53,
   "id": "581b0dd0",
   "metadata": {
    "scrolled": true
   },
   "outputs": [],
   "source": [
    "st = \"diffusion membrane diffusion diffusion protein gradient molecules diffusion dye gradients diffusion properties diffusion diffusion properties transport diffusion membrane transport dye molecules diffusion diffusion transport membrane molecules equilibrium net diffusion osmosis diffusion\"\n",
    "rooted = \"\"\n",
    "x = st.split(\" \")\n",
    "for i in x:\n",
    "   rooted += ps.stem(i) + \" \"\n",
    "str1n = nlp(rooted)\n",
    "str1n\n",
    "myAlg += st.split(\" \")\n"
   ]
  },
  {
   "cell_type": "code",
   "execution_count": 54,
   "id": "25d8921f",
   "metadata": {},
   "outputs": [
    {
     "data": {
      "text/plain": [
       "diffus concentr diffus movement diffus molecul diffus concentr gradient properti equilibrium differ diffus diffus concentr molecul diffus concentr movement diffus "
      ]
     },
     "execution_count": 54,
     "metadata": {},
     "output_type": "execute_result"
    }
   ],
   "source": [
    "str1 = \"diffusion concentration,diffusion,movement diffusion,molecules diffusion concentration gradient,properties,equilibrium,difference,diffusion,diffusion concentration,molecules diffusion,concentration,movement diffusion\".replace(\",\",\" \")\n",
    "rooted2 = \"\"\n",
    "for i in str1.split(\" \"):\n",
    "   rooted2 += ps.stem(i) + \" \"\n",
    "\n",
    "str2n = nlp(rooted2)\n",
    "totalGT += (len(set(rooted2.split(\" \"))) - 1)\n",
    "trueGT += str1.split(\" \")\n",
    "\n",
    "str2n"
   ]
  },
  {
   "cell_type": "code",
   "execution_count": 55,
   "id": "aca9bf75",
   "metadata": {},
   "outputs": [
    {
     "data": {
      "text/plain": [
       "['',\n",
       " '',\n",
       " 'bodi',\n",
       " 'plasma',\n",
       " '',\n",
       " 'intracellular',\n",
       " 'blood',\n",
       " 'extracellular',\n",
       " 'cell',\n",
       " 'ecf',\n",
       " 'water',\n",
       " 'compart',\n",
       " 'fluid',\n",
       " '',\n",
       " 'equilibrium',\n",
       " 'concentr',\n",
       " 'osmot',\n",
       " 'homeostasi',\n",
       " '',\n",
       " 'plasma',\n",
       " 'membran',\n",
       " 'extracellular',\n",
       " 'protein',\n",
       " 'matrix',\n",
       " 'lipid',\n",
       " 'cell',\n",
       " 'plasma',\n",
       " '',\n",
       " 'membran',\n",
       " 'flexibl',\n",
       " 'lipid',\n",
       " 'cholesterol',\n",
       " 'hydrophob',\n",
       " '',\n",
       " 'intracellular',\n",
       " 'membran',\n",
       " 'extracellular',\n",
       " 'protein',\n",
       " 'anchor',\n",
       " 'bind',\n",
       " 'ligand',\n",
       " 'molecul',\n",
       " 'hydrophob',\n",
       " 'solut',\n",
       " '',\n",
       " 'concentr',\n",
       " 'membran',\n",
       " 'protein',\n",
       " 'transport',\n",
       " 'pump',\n",
       " 'molecul',\n",
       " 'channel',\n",
       " 'plasma',\n",
       " '',\n",
       " 'carbohydr',\n",
       " 'membran',\n",
       " 'protein',\n",
       " 'cytoskeleton',\n",
       " 'kinas',\n",
       " 'molecul',\n",
       " 'signal',\n",
       " 'phospholipid',\n",
       " '',\n",
       " 'bulk',\n",
       " 'compon',\n",
       " 'flow',\n",
       " 'move',\n",
       " 'gradient',\n",
       " 'pressur',\n",
       " 'fluid',\n",
       " 'plasma',\n",
       " '',\n",
       " 'glucos',\n",
       " 'solubl',\n",
       " 'membran',\n",
       " 'lipid',\n",
       " 'permeabl',\n",
       " 'particl',\n",
       " 'energi',\n",
       " 'molecul',\n",
       " '',\n",
       " 'equilibrium',\n",
       " 'diffus',\n",
       " 'gradient',\n",
       " 'properti',\n",
       " 'molecul']"
      ]
     },
     "execution_count": 55,
     "metadata": {},
     "output_type": "execute_result"
    }
   ],
   "source": [
    "a += list(set(rooted.split(\" \")) & set(rooted2.split(\" \")))\n",
    "a"
   ]
  },
  {
   "cell_type": "code",
   "execution_count": 56,
   "id": "e3db7594",
   "metadata": {},
   "outputs": [],
   "source": [
    "predicted_keywords = [token.text for token in str1n]\n",
    "actual_keywords = [token.text for token in str2n]\n",
    "tp1, fn1, fp1, tn1 = calculate_confusion_matrix(predicted_keywords, actual_keywords)\n",
    "tp += tp1\n",
    "fn += fn1\n",
    "fp += fp1\n",
    "tn += tn1"
   ]
  },
  {
   "cell_type": "markdown",
   "id": "fead3361",
   "metadata": {},
   "source": [
    "# Section 13"
   ]
  },
  {
   "cell_type": "code",
   "execution_count": 57,
   "id": "11452388",
   "metadata": {
    "scrolled": true
   },
   "outputs": [],
   "source": [
    "st = \"ion equilibrium solute solutes membrane membranes gradients proportional membrane equilibrium membranes solutes membrane equal equilibrium chemical gradient solute solutes concentration solute transport equilibrium potential proportional concentration diffusion flux valence ion given solute concentration gradients concentration gradient ion insimple \"\n",
    "rooted = \"\"\n",
    "x = st.split(\" \")\n",
    "for i in x:\n",
    "   rooted += ps.stem(i) + \" \"\n",
    "str1n = nlp(rooted)\n",
    "str1n\n",
    "myAlg += st.split(\" \")\n"
   ]
  },
  {
   "cell_type": "code",
   "execution_count": 58,
   "id": "523e62c5",
   "metadata": {},
   "outputs": [
    {
     "data": {
      "text/plain": [
       "concentr gradient potenti energi differ equilibrium potenti net solut permeabl membran membran simpl diffus ion nernst equat potenti energi differ electr potenti energi solut transport solut move "
      ]
     },
     "execution_count": 58,
     "metadata": {},
     "output_type": "execute_result"
    }
   ],
   "source": [
    "str1 = \"concentration gradient,potential energy difference,equilibrium potential net solute,permeable membrane,membrane,simple diffusion,ion,nernst equation,potential energy difference,electrical potential energy,solute transport,solutes move\".replace(\",\",\" \")\n",
    "rooted2 = \"\"\n",
    "for i in str1.split(\" \"):\n",
    "   rooted2 += ps.stem(i) + \" \"\n",
    "\n",
    "str2n = nlp(rooted2)\n",
    "totalGT += (len(set(rooted2.split(\" \"))) - 1)\n",
    "trueGT += str1.split(\" \")\n",
    "\n",
    "str2n"
   ]
  },
  {
   "cell_type": "code",
   "execution_count": 59,
   "id": "3eb5a49c",
   "metadata": {},
   "outputs": [],
   "source": [
    "predicted_keywords = [token.text for token in str1n]\n",
    "actual_keywords = [token.text for token in str2n]\n",
    "tp1, fn1, fp1, tn1 = calculate_confusion_matrix(predicted_keywords, actual_keywords)\n",
    "tp += tp1\n",
    "fn += fn1\n",
    "fp += fp1\n",
    "tn += tn1"
   ]
  },
  {
   "cell_type": "code",
   "execution_count": 60,
   "id": "03c16b10",
   "metadata": {},
   "outputs": [
    {
     "data": {
      "text/plain": [
       "['',\n",
       " '',\n",
       " 'bodi',\n",
       " 'plasma',\n",
       " '',\n",
       " 'intracellular',\n",
       " 'blood',\n",
       " 'extracellular',\n",
       " 'cell',\n",
       " 'ecf',\n",
       " 'water',\n",
       " 'compart',\n",
       " 'fluid',\n",
       " '',\n",
       " 'equilibrium',\n",
       " 'concentr',\n",
       " 'osmot',\n",
       " 'homeostasi',\n",
       " '',\n",
       " 'plasma',\n",
       " 'membran',\n",
       " 'extracellular',\n",
       " 'protein',\n",
       " 'matrix',\n",
       " 'lipid',\n",
       " 'cell',\n",
       " 'plasma',\n",
       " '',\n",
       " 'membran',\n",
       " 'flexibl',\n",
       " 'lipid',\n",
       " 'cholesterol',\n",
       " 'hydrophob',\n",
       " '',\n",
       " 'intracellular',\n",
       " 'membran',\n",
       " 'extracellular',\n",
       " 'protein',\n",
       " 'anchor',\n",
       " 'bind',\n",
       " 'ligand',\n",
       " 'molecul',\n",
       " 'hydrophob',\n",
       " 'solut',\n",
       " '',\n",
       " 'concentr',\n",
       " 'membran',\n",
       " 'protein',\n",
       " 'transport',\n",
       " 'pump',\n",
       " 'molecul',\n",
       " 'channel',\n",
       " 'plasma',\n",
       " '',\n",
       " 'carbohydr',\n",
       " 'membran',\n",
       " 'protein',\n",
       " 'cytoskeleton',\n",
       " 'kinas',\n",
       " 'molecul',\n",
       " 'signal',\n",
       " 'phospholipid',\n",
       " '',\n",
       " 'bulk',\n",
       " 'compon',\n",
       " 'flow',\n",
       " 'move',\n",
       " 'gradient',\n",
       " 'pressur',\n",
       " 'fluid',\n",
       " 'plasma',\n",
       " '',\n",
       " 'glucos',\n",
       " 'solubl',\n",
       " 'membran',\n",
       " 'lipid',\n",
       " 'permeabl',\n",
       " 'particl',\n",
       " 'energi',\n",
       " 'molecul',\n",
       " '',\n",
       " 'equilibrium',\n",
       " 'diffus',\n",
       " 'gradient',\n",
       " 'properti',\n",
       " 'molecul',\n",
       " 'solut',\n",
       " '',\n",
       " 'equilibrium',\n",
       " 'concentr',\n",
       " 'membran',\n",
       " 'potenti',\n",
       " 'transport',\n",
       " 'gradient',\n",
       " 'diffus',\n",
       " 'ion']"
      ]
     },
     "execution_count": 60,
     "metadata": {},
     "output_type": "execute_result"
    }
   ],
   "source": [
    "a += list(set(rooted.split(\" \")) & set(rooted2.split(\" \")))\n",
    "a"
   ]
  },
  {
   "cell_type": "markdown",
   "id": "ece72df8",
   "metadata": {},
   "source": [
    "# Section 14"
   ]
  },
  {
   "cell_type": "code",
   "execution_count": 61,
   "id": "7ca67f0c",
   "metadata": {
    "scrolled": true
   },
   "outputs": [],
   "source": [
    "st = \"glucose intracellular extracellular open channels extracellular mac pore open channels intracellular conduits open mechanically gated open gate molecules glucose channels electrical intracellular message message extracellular case water voltage gated gated channels extracellular aes \"\n",
    "rooted = \"\"\n",
    "x = st.split(\" \")\n",
    "for i in x:\n",
    "   rooted += ps.stem(i) + \" \"\n",
    "str1n = nlp(rooted)\n",
    "str1n\n",
    "myAlg += st.split(\" \")\n"
   ]
  },
  {
   "cell_type": "code",
   "execution_count": 62,
   "id": "23573489",
   "metadata": {},
   "outputs": [
    {
     "data": {
      "text/plain": [
       "water channel channel gate type channel regul gate form membran carrier channel spend water channel organ molecul close select pore region channel physic channel gate electr charg shape conform move molecul pore channel form direct ion leak channel glucos amino acid cell mechan intrace... "
      ]
     },
     "execution_count": 62,
     "metadata": {},
     "output_type": "execute_result"
    }
   ],
   "source": [
    "str1 = \"water channels,channel gated,types,channels regulate,gate forms,membrane carrier channels spend,water channels,organic molecules,closes,selectivity,pore,region,channels physical,channel gated,electrical charge,shape conformation,move molecules,pore channels,forms direct,ions,leak channels,glucose amino acids,cell mechanically,intrace...\".replace(\",\",\" \")\n",
    "rooted2 = \"\"\n",
    "for i in str1.split(\" \"):\n",
    "   rooted2 += ps.stem(i) + \" \"\n",
    "\n",
    "str2n = nlp(rooted2)\n",
    "totalGT += (len(set(rooted2.split(\" \"))) - 1)\n",
    "trueGT += str1.split(\" \")\n",
    "\n",
    "str2n"
   ]
  },
  {
   "cell_type": "code",
   "execution_count": 63,
   "id": "f6614a75",
   "metadata": {},
   "outputs": [],
   "source": [
    "predicted_keywords = [token.text for token in str1n]\n",
    "actual_keywords = [token.text for token in str2n]\n",
    "tp1, fn1, fp1, tn1 = calculate_confusion_matrix(predicted_keywords, actual_keywords)\n",
    "tp += tp1\n",
    "fn += fn1\n",
    "fp += fp1\n",
    "tn += tn1"
   ]
  },
  {
   "cell_type": "code",
   "execution_count": 64,
   "id": "d45b80d2",
   "metadata": {},
   "outputs": [
    {
     "data": {
      "text/plain": [
       "['',\n",
       " '',\n",
       " 'bodi',\n",
       " 'plasma',\n",
       " '',\n",
       " 'intracellular',\n",
       " 'blood',\n",
       " 'extracellular',\n",
       " 'cell',\n",
       " 'ecf',\n",
       " 'water',\n",
       " 'compart',\n",
       " 'fluid',\n",
       " '',\n",
       " 'equilibrium',\n",
       " 'concentr',\n",
       " 'osmot',\n",
       " 'homeostasi',\n",
       " '',\n",
       " 'plasma',\n",
       " 'membran',\n",
       " 'extracellular',\n",
       " 'protein',\n",
       " 'matrix',\n",
       " 'lipid',\n",
       " 'cell',\n",
       " 'plasma',\n",
       " '',\n",
       " 'membran',\n",
       " 'flexibl',\n",
       " 'lipid',\n",
       " 'cholesterol',\n",
       " 'hydrophob',\n",
       " '',\n",
       " 'intracellular',\n",
       " 'membran',\n",
       " 'extracellular',\n",
       " 'protein',\n",
       " 'anchor',\n",
       " 'bind',\n",
       " 'ligand',\n",
       " 'molecul',\n",
       " 'hydrophob',\n",
       " 'solut',\n",
       " '',\n",
       " 'concentr',\n",
       " 'membran',\n",
       " 'protein',\n",
       " 'transport',\n",
       " 'pump',\n",
       " 'molecul',\n",
       " 'channel',\n",
       " 'plasma',\n",
       " '',\n",
       " 'carbohydr',\n",
       " 'membran',\n",
       " 'protein',\n",
       " 'cytoskeleton',\n",
       " 'kinas',\n",
       " 'molecul',\n",
       " 'signal',\n",
       " 'phospholipid',\n",
       " '',\n",
       " 'bulk',\n",
       " 'compon',\n",
       " 'flow',\n",
       " 'move',\n",
       " 'gradient',\n",
       " 'pressur',\n",
       " 'fluid',\n",
       " 'plasma',\n",
       " '',\n",
       " 'glucos',\n",
       " 'solubl',\n",
       " 'membran',\n",
       " 'lipid',\n",
       " 'permeabl',\n",
       " 'particl',\n",
       " 'energi',\n",
       " 'molecul',\n",
       " '',\n",
       " 'equilibrium',\n",
       " 'diffus',\n",
       " 'gradient',\n",
       " 'properti',\n",
       " 'molecul',\n",
       " 'solut',\n",
       " '',\n",
       " 'equilibrium',\n",
       " 'concentr',\n",
       " 'membran',\n",
       " 'potenti',\n",
       " 'transport',\n",
       " 'gradient',\n",
       " 'diffus',\n",
       " 'ion',\n",
       " 'electr',\n",
       " '',\n",
       " 'glucos',\n",
       " 'pore',\n",
       " 'mechan',\n",
       " 'water',\n",
       " 'gate',\n",
       " 'molecul',\n",
       " 'channel']"
      ]
     },
     "execution_count": 64,
     "metadata": {},
     "output_type": "execute_result"
    }
   ],
   "source": [
    "a += list(set(rooted.split(\" \")) & set(rooted2.split(\" \")))\n",
    "a"
   ]
  },
  {
   "cell_type": "markdown",
   "id": "4c3d1580",
   "metadata": {},
   "source": [
    "# Section 15"
   ]
  },
  {
   "cell_type": "code",
   "execution_count": 65,
   "id": "296124ab",
   "metadata": {
    "scrolled": true
   },
   "outputs": [],
   "source": [
    "st = \"glucose atpases glucose transporter binding glucose glucose binding affinity glucose transport glucose glucose transport carrier glucose transported glucose cotransport glucose glucose glucose glucose concentration glucose splectose glucose amino transporters atpases glucose results\"\n",
    "rooted = \"\"\n",
    "x = st.split(\" \")\n",
    "for i in x:\n",
    "   rooted += ps.stem(i) + \" \"\n",
    "str1n = nlp(rooted)\n",
    "str1n\n",
    "myAlg += st.split(\" \")\n"
   ]
  },
  {
   "cell_type": "code",
   "execution_count": 66,
   "id": "aa3218aa",
   "metadata": {},
   "outputs": [],
   "source": [
    "predicted_keywords = [token.text for token in str1n]\n",
    "actual_keywords = [token.text for token in str2n]\n",
    "tp1, fn1, fp1, tn1 = calculate_confusion_matrix(predicted_keywords, actual_keywords)\n",
    "tp += tp1\n",
    "fn += fn1\n",
    "fp += fp1\n",
    "tn += tn1"
   ]
  },
  {
   "cell_type": "code",
   "execution_count": 67,
   "id": "c2bd998b",
   "metadata": {},
   "outputs": [
    {
     "data": {
      "text/plain": [
       "transport transport molecul activ transport activ transport energi carrier conform primari activ transport substrat concentr bind site affin secondari activ transport activ transport energi concentr gradient gradient creat lower concentr "
      ]
     },
     "execution_count": 67,
     "metadata": {},
     "output_type": "execute_result"
    }
   ],
   "source": [
    "str1 = \"transport,transport molecule,active transport,active transport energy carrier conformation,primary active transport,substrate concentration,binding site affinity,secondary active transport,active transport energy,concentration gradient,gradients created,lower concentration\".replace(\",\",\" \")\n",
    "rooted2 = \"\"\n",
    "for i in str1.split(\" \"):\n",
    "   rooted2 += ps.stem(i) + \" \"\n",
    "\n",
    "str2n = nlp(rooted2)\n",
    "totalGT += (len(set(rooted2.split(\" \"))) - 1)\n",
    "trueGT += str1.split(\" \")\n",
    "\n",
    "str2n"
   ]
  },
  {
   "cell_type": "code",
   "execution_count": 68,
   "id": "8042dd9d",
   "metadata": {},
   "outputs": [],
   "source": [
    "a += list(set(rooted.split(\" \")) & set(rooted2.split(\" \")))"
   ]
  },
  {
   "cell_type": "code",
   "execution_count": 69,
   "id": "88910aba",
   "metadata": {},
   "outputs": [],
   "source": [
    "for element in a:\n",
    "    if element == '' or element == ' ':\n",
    "        a.remove(element)\n"
   ]
  },
  {
   "cell_type": "code",
   "execution_count": 70,
   "id": "b0248ce8",
   "metadata": {},
   "outputs": [
    {
     "data": {
      "text/plain": [
       "0.43891402714932126"
      ]
     },
     "execution_count": 70,
     "metadata": {},
     "output_type": "execute_result"
    }
   ],
   "source": [
    "len(a)/totalGT"
   ]
  },
  {
   "cell_type": "code",
   "execution_count": 71,
   "id": "8e84c8df",
   "metadata": {},
   "outputs": [
    {
     "data": {
      "text/plain": [
       "221"
      ]
     },
     "execution_count": 71,
     "metadata": {},
     "output_type": "execute_result"
    }
   ],
   "source": [
    "totalGT"
   ]
  },
  {
   "cell_type": "code",
   "execution_count": 72,
   "id": "359218ae",
   "metadata": {},
   "outputs": [],
   "source": [
    "def calculate_f1_metrics(list1, list2):\n",
    "    common_words = set(list1) & set(list2)\n",
    "    \n",
    "    # Calculate metrics\n",
    "    precision = len(common_words) / len(list1)\n",
    "    recall = len(common_words) / len(list2)\n",
    "    \n",
    "    if precision + recall == 0:\n",
    "        f1_score = 0\n",
    "    else:\n",
    "        f1_score = 2 * (precision * recall) / (precision + recall)\n",
    "    \n",
    "    accuracy = len(common_words) / max(len(list1), len(list2))\n",
    "    \n",
    "    # Return metrics as dictionary\n",
    "    metrics = {\n",
    "        \"Precision\": precision,\n",
    "        \"Recall\": recall,\n",
    "        \"F1 Score\": f1_score,\n",
    "        \"Accuracy\": accuracy\n",
    "    }\n",
    "    \n",
    "    return metrics"
   ]
  },
  {
   "cell_type": "code",
   "execution_count": 73,
   "id": "4e944360",
   "metadata": {},
   "outputs": [
    {
     "data": {
      "text/plain": [
       "['quizzes',\n",
       " 'class',\n",
       " 'online',\n",
       " 'quizzes',\n",
       " 'student',\n",
       " 'lecture',\n",
       " 'homeostasis',\n",
       " 'metabolism',\n",
       " 'excretion',\n",
       " 'food',\n",
       " 'lungs',\n",
       " 'heat',\n",
       " 'exhaling',\n",
       " 'homeostasis',\n",
       " 'constant',\n",
       " 'metabolism',\n",
       " 'catabolic',\n",
       " 'heat',\n",
       " 'materials',\n",
       " 'intake',\n",
       " 'food',\n",
       " 'exchanges',\n",
       " 'heat',\n",
       " 'open',\n",
       " 'exchanges',\n",
       " 'food',\n",
       " 'drink',\n",
       " 'po',\n",
       " 'excretion',\n",
       " 'feces',\n",
       " 'exhaling',\n",
       " 'balance',\n",
       " 'law',\n",
       " 'homeostasis',\n",
       " 'mass',\n",
       " 'balance',\n",
       " 'principle',\n",
       " 'mass',\n",
       " 'skin',\n",
       " 'lungs',\n",
       " 'oo',\n",
       " 'excretion',\n",
       " 'transcellular',\n",
       " 'intracellular',\n",
       " 'extracellular',\n",
       " 'plasma',\n",
       " 'fluid',\n",
       " 'membrane',\n",
       " 'cells',\n",
       " 'compartments',\n",
       " 'water',\n",
       " 'blood',\n",
       " 'inside',\n",
       " 'plasma',\n",
       " 'transcellular',\n",
       " 'cells',\n",
       " 'plasma',\n",
       " 'ecf',\n",
       " 'extracellular',\n",
       " '_icf',\n",
       " 'intracellular',\n",
       " 'transcellular',\n",
       " 'fluid',\n",
       " 'cells',\n",
       " 'intracellular',\n",
       " 'blood',\n",
       " 'plasma',\n",
       " 'plasma',\n",
       " 'membrane',\n",
       " 'cells',\n",
       " 'fluid',\n",
       " 'extracellular',\n",
       " 'intracellular',\n",
       " 'icf',\n",
       " 'intracellular',\n",
       " 'extracellular',\n",
       " 'fluid',\n",
       " 'plasma',\n",
       " 'fluid',\n",
       " 'intracellular',\n",
       " 'fluid',\n",
       " 'intracellular',\n",
       " 'intracellular',\n",
       " 'intracellular',\n",
       " 'solute',\n",
       " 'ionic',\n",
       " 'plasma',\n",
       " 'proteins',\n",
       " 'proteins',\n",
       " 'homeostasis',\n",
       " 'equilibrium',\n",
       " 'extracellular',\n",
       " 'fluid',\n",
       " 'cell',\n",
       " 'equilibrium',\n",
       " 'membrane',\n",
       " 'fluid',\n",
       " 'intracellular',\n",
       " 'concentrations',\n",
       " 'solutes',\n",
       " 'membrane',\n",
       " 'intracellular',\n",
       " 'equilibrium',\n",
       " 'osmotic',\n",
       " 'permeability',\n",
       " 'membrane',\n",
       " 'osmotic',\n",
       " 'equilibrium',\n",
       " 'fluid',\n",
       " 'chemical',\n",
       " 'compartments',\n",
       " 'steady',\n",
       " 'ionic',\n",
       " 'imbalances',\n",
       " 'homeostasis',\n",
       " 'equilibrium',\n",
       " 'plasma',\n",
       " 'volume',\n",
       " 'plasmalemma',\n",
       " 'extracellular',\n",
       " 'proteins',\n",
       " 'cytoskeleton',\n",
       " 'plasma',\n",
       " 'membrane',\n",
       " 'glycoprotein',\n",
       " 'phosphatidylcholine',\n",
       " 'inositol4',\n",
       " 'intracellular',\n",
       " 'ions',\n",
       " 'membranes',\n",
       " 'cellular',\n",
       " 'cells',\n",
       " 'lipids',\n",
       " 'phosphocholine',\n",
       " 'cell',\n",
       " 'matrix',\n",
       " 'phosphatidylinositol',\n",
       " 'phospholipids',\n",
       " 'membrane',\n",
       " 'plasmalemma',\n",
       " 'plasma',\n",
       " 'membrane',\n",
       " 'plasmalemma',\n",
       " 'functionally',\n",
       " 'cell',\n",
       " 'membrane',\n",
       " 'membrane',\n",
       " 'proteins',\n",
       " 'extracellular',\n",
       " 'matrix',\n",
       " 'proteins',\n",
       " 'membrane',\n",
       " 'membrane',\n",
       " 'sphingolipids',\n",
       " 'membrane',\n",
       " 'lipid',\n",
       " 'membrane',\n",
       " 'membrane',\n",
       " 'cells',\n",
       " 'extracellular',\n",
       " 'extracellular',\n",
       " 'compartments',\n",
       " 'proteins',\n",
       " 'intracellular',\n",
       " 'proteins',\n",
       " 'lipid',\n",
       " 'cell',\n",
       " 'tissues',\n",
       " 'membrane',\n",
       " 'cholesterol',\n",
       " 'lipids',\n",
       " 'plasma',\n",
       " 'lipids',\n",
       " 'include',\n",
       " 'easily',\n",
       " 'hydrophobic',\n",
       " 'improves',\n",
       " 'membrane',\n",
       " 'cholesterol',\n",
       " 'aids',\n",
       " 'lipid',\n",
       " 'rafts',\n",
       " 'membrane',\n",
       " 'flexibility',\n",
       " 'll',\n",
       " 'cholesterol',\n",
       " 'proteins',\n",
       " 'extracellular',\n",
       " 'proteins',\n",
       " 'lipids',\n",
       " 'lipid',\n",
       " 'cytoplasmic',\n",
       " 'protein',\n",
       " 'transmembrane',\n",
       " 'cytoskeletal',\n",
       " 'extracellular',\n",
       " 'intracellular',\n",
       " 'enzymes',\n",
       " 'receptor',\n",
       " 'hydrophobic',\n",
       " 'membrane',\n",
       " 'sphingolipids',\n",
       " 'receptors',\n",
       " 'ligand',\n",
       " 'cytosol',\n",
       " 'molecules',\n",
       " 'cytoskeletal',\n",
       " 'proteins',\n",
       " 'membrane',\n",
       " 'proteins',\n",
       " 'binding',\n",
       " 'proteins',\n",
       " 'anchored',\n",
       " 'proteins',\n",
       " 'proteins',\n",
       " 'extracellular',\n",
       " 'proteins',\n",
       " 'molecules',\n",
       " 'transmembrane',\n",
       " 'proteins',\n",
       " 'proteins',\n",
       " 'covalently',\n",
       " 'hydrophobic',\n",
       " 'transmembrane',\n",
       " 'lipids',\n",
       " 'include',\n",
       " 'proteins',\n",
       " 'integral',\n",
       " 'lipid',\n",
       " 'rafts',\n",
       " 'gnfracellular',\n",
       " 'proteins',\n",
       " 'integral',\n",
       " 'proteins',\n",
       " 'proteins',\n",
       " 'attached',\n",
       " 'hydrolysis',\n",
       " 'pumps',\n",
       " 'hydrolysis',\n",
       " 'atp',\n",
       " 'atp',\n",
       " 'solutes',\n",
       " 'energy',\n",
       " 'hydrolysis',\n",
       " 'channel',\n",
       " 'proteins',\n",
       " 'solute',\n",
       " 'pumps',\n",
       " 'membrane',\n",
       " 'pores',\n",
       " 'molecules',\n",
       " 'membranes',\n",
       " 'hydrolysis',\n",
       " 'transport',\n",
       " 'membrane',\n",
       " 'membrane',\n",
       " 'concentration',\n",
       " 'molecule',\n",
       " 'membrane',\n",
       " 'transporter',\n",
       " 'molecules',\n",
       " 'membrane',\n",
       " 'direct',\n",
       " 'pumps',\n",
       " 'glycoprotein',\n",
       " 'extracellular',\n",
       " 'proteins',\n",
       " 'enzymes',\n",
       " 'cytoskeleton',\n",
       " 'kinases',\n",
       " 'carbohydrates',\n",
       " 'phospholipase',\n",
       " 'carbohydrat',\n",
       " 'glycolipid',\n",
       " 'protein',\n",
       " 'intracellular',\n",
       " 'lipid',\n",
       " 'cytoplas',\n",
       " 'glycocalyx',\n",
       " 'phospholipids',\n",
       " 'catalyze',\n",
       " 'plasma',\n",
       " 'membrane',\n",
       " 'glycoprotein',\n",
       " 'glycolipid',\n",
       " 'kinases',\n",
       " 'enzymes',\n",
       " 'phospholipase',\n",
       " 'intracellular',\n",
       " 'membrane',\n",
       " 'carbohydrates',\n",
       " 'proteins',\n",
       " 'kinases',\n",
       " 'proteins',\n",
       " 'cytoskeleton',\n",
       " 'protein',\n",
       " 'glycoprotein',\n",
       " 'containing',\n",
       " 'proteins',\n",
       " 'carbohydrates',\n",
       " 'extracellular',\n",
       " 'intracellular',\n",
       " 'signaling',\n",
       " 'proteins',\n",
       " 'helps',\n",
       " 'membrane',\n",
       " 'protein',\n",
       " 'lipid',\n",
       " 'glycolipid',\n",
       " 'cells',\n",
       " 'glycocalyx',\n",
       " 'cytoskeleton',\n",
       " 'molecules',\n",
       " '',\n",
       " 'fluids',\n",
       " 'circulatory',\n",
       " 'fluid',\n",
       " 'gradients',\n",
       " 'masse',\n",
       " 'flow',\n",
       " 'pressure',\n",
       " 'respiratory',\n",
       " 'bulk',\n",
       " 'moves',\n",
       " 'components',\n",
       " 'pressure',\n",
       " 'gradients',\n",
       " 'fluids',\n",
       " 'flow',\n",
       " 'flow',\n",
       " 'pressure',\n",
       " 'pressure',\n",
       " 'components',\n",
       " 'causes',\n",
       " 'fluids',\n",
       " 'circulatory',\n",
       " 'respiratory',\n",
       " 'pressure',\n",
       " 'region',\n",
       " 'gradients',\n",
       " 'causes',\n",
       " 'bulk',\n",
       " 'flow',\n",
       " 'components',\n",
       " 'fluid',\n",
       " 'fluids',\n",
       " 'examples',\n",
       " 'circulatory',\n",
       " 'circulatory',\n",
       " 'respiratory',\n",
       " 'bulk',\n",
       " 'flow',\n",
       " 'region',\n",
       " '',\n",
       " 'plasma',\n",
       " 'lipid',\n",
       " 'protein',\n",
       " 'membrane',\n",
       " 'membranes',\n",
       " 'solubility',\n",
       " 'molecules',\n",
       " 'molecular',\n",
       " 'permeability',\n",
       " 'glucose',\n",
       " 'permeable',\n",
       " 'acids',\n",
       " 'barriers',\n",
       " 'energy',\n",
       " 'molecule',\n",
       " 'soluble',\n",
       " 'atp',\n",
       " 'permeability',\n",
       " 'plasma',\n",
       " 'plasma',\n",
       " 'membranes',\n",
       " 'membrane',\n",
       " 'selectively',\n",
       " 'plasma',\n",
       " 'membrane',\n",
       " 'membrane',\n",
       " 'properties',\n",
       " 'membrane',\n",
       " 'permeability',\n",
       " 'substance',\n",
       " 'plasma',\n",
       " 'lipid',\n",
       " 'protein',\n",
       " 'determined',\n",
       " 'lipid',\n",
       " 'lipid',\n",
       " 'highly',\n",
       " 'molecule',\n",
       " 'lipid',\n",
       " 'particle',\n",
       " 'membrane',\n",
       " 'solubility',\n",
       " 'molecule',\n",
       " 'composition',\n",
       " 'plasma',\n",
       " 'membrane',\n",
       " 'force',\n",
       " '',\n",
       " 'diffusion',\n",
       " 'membrane',\n",
       " 'diffusion',\n",
       " 'diffusion',\n",
       " 'protein',\n",
       " 'gradient',\n",
       " 'molecules',\n",
       " 'diffusion',\n",
       " 'dye',\n",
       " 'gradients',\n",
       " 'diffusion',\n",
       " 'properties',\n",
       " 'diffusion',\n",
       " 'diffusion',\n",
       " 'properties',\n",
       " 'transport',\n",
       " 'diffusion',\n",
       " 'membrane',\n",
       " 'transport',\n",
       " 'dye',\n",
       " 'molecules',\n",
       " 'diffusion',\n",
       " 'diffusion',\n",
       " 'transport',\n",
       " 'membrane',\n",
       " 'molecules',\n",
       " 'equilibrium',\n",
       " 'net',\n",
       " 'diffusion',\n",
       " 'osmosis',\n",
       " 'diffusion',\n",
       " 'ion',\n",
       " 'equilibrium',\n",
       " 'solute',\n",
       " 'solutes',\n",
       " 'membrane',\n",
       " 'membranes',\n",
       " 'gradients',\n",
       " 'proportional',\n",
       " 'membrane',\n",
       " 'equilibrium',\n",
       " 'membranes',\n",
       " 'solutes',\n",
       " 'membrane',\n",
       " 'equal',\n",
       " 'equilibrium',\n",
       " 'chemical',\n",
       " 'gradient',\n",
       " 'solute',\n",
       " 'solutes',\n",
       " 'concentration',\n",
       " 'solute',\n",
       " 'transport',\n",
       " 'equilibrium',\n",
       " 'potential',\n",
       " 'proportional',\n",
       " 'concentration',\n",
       " 'diffusion',\n",
       " 'flux',\n",
       " 'valence',\n",
       " 'ion',\n",
       " 'given',\n",
       " 'solute',\n",
       " 'concentration',\n",
       " 'gradients',\n",
       " 'concentration',\n",
       " 'gradient',\n",
       " 'ion',\n",
       " 'insimple',\n",
       " '',\n",
       " 'glucose',\n",
       " 'intracellular',\n",
       " 'extracellular',\n",
       " 'open',\n",
       " 'channels',\n",
       " 'extracellular',\n",
       " 'mac',\n",
       " 'pore',\n",
       " 'open',\n",
       " 'channels',\n",
       " 'intracellular',\n",
       " 'conduits',\n",
       " 'open',\n",
       " 'mechanically',\n",
       " 'gated',\n",
       " 'open',\n",
       " 'gate',\n",
       " 'molecules',\n",
       " 'glucose',\n",
       " 'channels',\n",
       " 'electrical',\n",
       " 'intracellular',\n",
       " 'message',\n",
       " 'message',\n",
       " 'extracellular',\n",
       " 'case',\n",
       " 'water',\n",
       " 'voltage',\n",
       " 'gated',\n",
       " 'gated',\n",
       " 'channels',\n",
       " 'extracellular',\n",
       " 'aes',\n",
       " '',\n",
       " 'glucose',\n",
       " 'atpases',\n",
       " 'glucose',\n",
       " 'transporter',\n",
       " 'binding',\n",
       " 'glucose',\n",
       " 'glucose',\n",
       " 'binding',\n",
       " 'affinity',\n",
       " 'glucose',\n",
       " 'transport',\n",
       " 'glucose',\n",
       " 'glucose',\n",
       " 'transport',\n",
       " 'carrier',\n",
       " 'glucose',\n",
       " 'transported',\n",
       " 'glucose',\n",
       " 'cotransport',\n",
       " 'glucose',\n",
       " 'glucose',\n",
       " 'glucose',\n",
       " 'glucose',\n",
       " 'concentration',\n",
       " 'glucose',\n",
       " 'splectose',\n",
       " 'glucose',\n",
       " 'amino',\n",
       " 'transporters',\n",
       " 'atpases',\n",
       " 'glucose',\n",
       " 'results']"
      ]
     },
     "execution_count": 73,
     "metadata": {},
     "output_type": "execute_result"
    }
   ],
   "source": [
    "myAlg"
   ]
  },
  {
   "cell_type": "code",
   "execution_count": 74,
   "id": "c79f190d",
   "metadata": {},
   "outputs": [
    {
     "data": {
      "text/plain": [
       "221"
      ]
     },
     "execution_count": 74,
     "metadata": {},
     "output_type": "execute_result"
    }
   ],
   "source": [
    "totalGT"
   ]
  },
  {
   "cell_type": "code",
   "execution_count": 75,
   "id": "b5a98102",
   "metadata": {},
   "outputs": [
    {
     "data": {
      "text/plain": [
       "{'Precision': 0.20526315789473684,\n",
       " 'Recall': 0.1449814126394052,\n",
       " 'F1 Score': 0.16993464052287582,\n",
       " 'Accuracy': 0.1449814126394052}"
      ]
     },
     "execution_count": 75,
     "metadata": {},
     "output_type": "execute_result"
    }
   ],
   "source": [
    "f1 = calculate_f1_metrics(trueGT, myAlg)\n",
    "f1"
   ]
  },
  {
   "cell_type": "code",
   "execution_count": 76,
   "id": "fb4b9aed",
   "metadata": {},
   "outputs": [
    {
     "data": {
      "text/plain": [
       "['introduction',\n",
       " 'human',\n",
       " 'body',\n",
       " 'physical',\n",
       " 'functions',\n",
       " 'human',\n",
       " 'body',\n",
       " 'circulatory',\n",
       " 'system',\n",
       " 'physiology',\n",
       " 'biology',\n",
       " 'chemical',\n",
       " 'law',\n",
       " 'mass',\n",
       " 'balance',\n",
       " 'balance',\n",
       " 'intake',\n",
       " 'food',\n",
       " 'constant',\n",
       " 'balance',\n",
       " 'body',\n",
       " 'fluid',\n",
       " 'blood',\n",
       " 'body',\n",
       " 'extracellular',\n",
       " 'intracellular',\n",
       " 'plasma',\n",
       " 'compartments',\n",
       " 'ecf',\n",
       " 'extracellular',\n",
       " 'fluid',\n",
       " 'cells',\n",
       " 'plasma',\n",
       " 'total',\n",
       " 'body',\n",
       " 'water',\n",
       " 'plasma',\n",
       " 'fluid',\n",
       " 'blood',\n",
       " 'divided',\n",
       " 'homeostasis',\n",
       " 'osmotic',\n",
       " 'equilibrium',\n",
       " 'electrically',\n",
       " 'neutral',\n",
       " 'homeostasis',\n",
       " 'refers',\n",
       " 'osmotic',\n",
       " 'equilibrium',\n",
       " 'composition',\n",
       " 'total',\n",
       " 'amount',\n",
       " 'concentration',\n",
       " 'gradients',\n",
       " 'body',\n",
       " 'plasma',\n",
       " 'fluid',\n",
       " 'mosaic',\n",
       " 'model',\n",
       " 'physical',\n",
       " 'barrier',\n",
       " 'environment',\n",
       " 'proteins',\n",
       " 'hydrophilic',\n",
       " 'head',\n",
       " 'cell',\n",
       " 'membrane',\n",
       " 'sugar',\n",
       " 'monomer',\n",
       " 'membrane',\n",
       " 'enable',\n",
       " 'extracellular',\n",
       " 'matrix',\n",
       " 'lipids',\n",
       " 'membrane',\n",
       " 'specialized',\n",
       " 'junctions',\n",
       " 'plasma',\n",
       " 'hydrophilic',\n",
       " 'head',\n",
       " 'physical',\n",
       " 'isolation',\n",
       " 'glycerol',\n",
       " 'fatty',\n",
       " 'acid',\n",
       " 'membrane',\n",
       " 'membranes',\n",
       " 'fluid',\n",
       " 'mosaic',\n",
       " 'model',\n",
       " 'plasma',\n",
       " 'membrane',\n",
       " 'maintaining',\n",
       " 'cell',\n",
       " 'shape',\n",
       " 'stabilizing',\n",
       " 'cells',\n",
       " 'proteins',\n",
       " 'lipids',\n",
       " 'found',\n",
       " 'membrane',\n",
       " 'flexibility',\n",
       " 'membrane',\n",
       " 'impermeable',\n",
       " 'phospholipid',\n",
       " 'interaction',\n",
       " 'plasma',\n",
       " 'membrane',\n",
       " 'hydrophobic',\n",
       " 'lipids',\n",
       " 'found',\n",
       " 'membrane',\n",
       " 'flexibility',\n",
       " 'cholesterol',\n",
       " 'plasma',\n",
       " 'membrane',\n",
       " 'cholesterol',\n",
       " 'phospholipids',\n",
       " 'plasma',\n",
       " 'membrane',\n",
       " 'cholesterol',\n",
       " 'membrane',\n",
       " 'membrane',\n",
       " 'proteins',\n",
       " 'ligand',\n",
       " 'binding',\n",
       " 'domain',\n",
       " 'protein',\n",
       " 'depending',\n",
       " 'adhesion',\n",
       " 'interaction',\n",
       " 'anchor',\n",
       " 'adhesion',\n",
       " 'molecules',\n",
       " 'adhesion',\n",
       " 'extracellular',\n",
       " 'intracellular',\n",
       " 'ligand',\n",
       " 'binding',\n",
       " 'interaction',\n",
       " 'extracellular',\n",
       " 'ligand',\n",
       " 'binding',\n",
       " 'ligand',\n",
       " 'binding',\n",
       " 'domain',\n",
       " 'molecules',\n",
       " 'membrane',\n",
       " 'adhesion',\n",
       " 'molecules',\n",
       " 'domain',\n",
       " 'membrane',\n",
       " 'possess',\n",
       " 'structural',\n",
       " 'binding',\n",
       " 'hydrophobic',\n",
       " 'segments',\n",
       " 'carrier',\n",
       " 'proteins',\n",
       " 'bind',\n",
       " 'molecules',\n",
       " 'move',\n",
       " 'transporter',\n",
       " 'molecules',\n",
       " 'channels',\n",
       " 'move',\n",
       " 'solutes',\n",
       " 'filled',\n",
       " 'passages',\n",
       " 'solute',\n",
       " 'pumps',\n",
       " 'concentration',\n",
       " 'gradient',\n",
       " 'molecules',\n",
       " 'move',\n",
       " 'carrier',\n",
       " 'proteins',\n",
       " 'bind',\n",
       " 'move',\n",
       " 'molecules',\n",
       " 'proteins',\n",
       " 'create',\n",
       " 'membrane',\n",
       " 'carriers',\n",
       " 'facilitate',\n",
       " 'signals',\n",
       " 'received',\n",
       " 'plasma',\n",
       " 'membrane',\n",
       " 'functions',\n",
       " 'protein',\n",
       " 'peripheral',\n",
       " 'proteins',\n",
       " 'proteins',\n",
       " 'kinases',\n",
       " 'membrane',\n",
       " 'bound',\n",
       " 'membrane',\n",
       " 'molecule',\n",
       " 'membrane',\n",
       " 'carbohydrates',\n",
       " 'membrane',\n",
       " 'bound',\n",
       " 'fatty',\n",
       " 'acid',\n",
       " 'cytoskeleton',\n",
       " 'includes',\n",
       " 'peripheral',\n",
       " 'proteins',\n",
       " 'molecule',\n",
       " 'functions',\n",
       " 'phospholipid',\n",
       " 'protein',\n",
       " 'membrane',\n",
       " 'protein',\n",
       " 'flow',\n",
       " 'pressure',\n",
       " 'gradients',\n",
       " 'fluid',\n",
       " 'moves',\n",
       " 'bulk',\n",
       " 'flow',\n",
       " 'fluids',\n",
       " 'bulk',\n",
       " 'flow',\n",
       " 'lower',\n",
       " 'pressure',\n",
       " 'flow',\n",
       " 'pressure',\n",
       " 'gradients',\n",
       " 'components',\n",
       " 'pressure',\n",
       " 'membrane',\n",
       " 'permeability',\n",
       " 'permeable',\n",
       " 'plasma',\n",
       " 'membrane',\n",
       " 'produce',\n",
       " 'movement',\n",
       " 'require',\n",
       " 'energy',\n",
       " 'produce',\n",
       " 'movement',\n",
       " 'particles',\n",
       " 'lipid',\n",
       " 'permeable',\n",
       " 'soluble',\n",
       " 'uncharged',\n",
       " 'membrane',\n",
       " 'drive',\n",
       " 'molecules',\n",
       " 'glucose',\n",
       " 'molecules',\n",
       " 'plasma',\n",
       " 'membrane',\n",
       " 'soluble',\n",
       " 'charged',\n",
       " 'soluble',\n",
       " 'water',\n",
       " 'diffusion',\n",
       " 'concentration',\n",
       " 'diffusion',\n",
       " 'movement',\n",
       " 'diffusion',\n",
       " 'molecules',\n",
       " 'diffusion',\n",
       " 'concentration',\n",
       " 'gradient',\n",
       " 'properties',\n",
       " 'equilibrium',\n",
       " 'difference',\n",
       " 'diffusion',\n",
       " 'diffusion',\n",
       " 'concentration',\n",
       " 'molecules',\n",
       " 'diffusion',\n",
       " 'concentration',\n",
       " 'movement',\n",
       " 'diffusion',\n",
       " 'concentration',\n",
       " 'gradient',\n",
       " 'potential',\n",
       " 'energy',\n",
       " 'difference',\n",
       " 'equilibrium',\n",
       " 'potential',\n",
       " 'net',\n",
       " 'solute',\n",
       " 'permeable',\n",
       " 'membrane',\n",
       " 'membrane',\n",
       " 'simple',\n",
       " 'diffusion',\n",
       " 'ion',\n",
       " 'nernst',\n",
       " 'equation',\n",
       " 'potential',\n",
       " 'energy',\n",
       " 'difference',\n",
       " 'electrical',\n",
       " 'potential',\n",
       " 'energy',\n",
       " 'solute',\n",
       " 'transport',\n",
       " 'solutes',\n",
       " 'move',\n",
       " 'water',\n",
       " 'channels',\n",
       " 'channel',\n",
       " 'gated',\n",
       " 'types',\n",
       " 'channels',\n",
       " 'regulate',\n",
       " 'gate',\n",
       " 'forms',\n",
       " 'membrane',\n",
       " 'carrier',\n",
       " 'channels',\n",
       " 'spend',\n",
       " 'water',\n",
       " 'channels',\n",
       " 'organic',\n",
       " 'molecules',\n",
       " 'closes',\n",
       " 'selectivity',\n",
       " 'pore',\n",
       " 'region',\n",
       " 'channels',\n",
       " 'physical',\n",
       " 'channel',\n",
       " 'gated',\n",
       " 'electrical',\n",
       " 'charge',\n",
       " 'shape',\n",
       " 'conformation',\n",
       " 'move',\n",
       " 'molecules',\n",
       " 'pore',\n",
       " 'channels',\n",
       " 'forms',\n",
       " 'direct',\n",
       " 'ions',\n",
       " 'leak',\n",
       " 'channels',\n",
       " 'glucose',\n",
       " 'amino',\n",
       " 'acids',\n",
       " 'cell',\n",
       " 'mechanically',\n",
       " 'intrace...',\n",
       " 'transport',\n",
       " 'transport',\n",
       " 'molecule',\n",
       " 'active',\n",
       " 'transport',\n",
       " 'active',\n",
       " 'transport',\n",
       " 'energy',\n",
       " 'carrier',\n",
       " 'conformation',\n",
       " 'primary',\n",
       " 'active',\n",
       " 'transport',\n",
       " 'substrate',\n",
       " 'concentration',\n",
       " 'binding',\n",
       " 'site',\n",
       " 'affinity',\n",
       " 'secondary',\n",
       " 'active',\n",
       " 'transport',\n",
       " 'active',\n",
       " 'transport',\n",
       " 'energy',\n",
       " 'concentration',\n",
       " 'gradient',\n",
       " 'gradients',\n",
       " 'created',\n",
       " 'lower',\n",
       " 'concentration']"
      ]
     },
     "execution_count": 76,
     "metadata": {},
     "output_type": "execute_result"
    }
   ],
   "source": [
    "trueGT"
   ]
  },
  {
   "cell_type": "code",
   "execution_count": 77,
   "id": "8e26a5ab",
   "metadata": {},
   "outputs": [
    {
     "data": {
      "text/plain": [
       "99"
      ]
     },
     "execution_count": 77,
     "metadata": {},
     "output_type": "execute_result"
    }
   ],
   "source": [
    "tp"
   ]
  },
  {
   "cell_type": "code",
   "execution_count": 78,
   "id": "f46f73ee",
   "metadata": {},
   "outputs": [
    {
     "data": {
      "text/plain": [
       "139"
      ]
     },
     "execution_count": 78,
     "metadata": {},
     "output_type": "execute_result"
    }
   ],
   "source": [
    "fn"
   ]
  },
  {
   "cell_type": "code",
   "execution_count": 79,
   "id": "652c8a0a",
   "metadata": {},
   "outputs": [
    {
     "data": {
      "text/plain": [
       "150"
      ]
     },
     "execution_count": 79,
     "metadata": {},
     "output_type": "execute_result"
    }
   ],
   "source": [
    "fp"
   ]
  },
  {
   "cell_type": "code",
   "execution_count": 80,
   "id": "07ee0345",
   "metadata": {},
   "outputs": [
    {
     "data": {
      "text/plain": [
       "0"
      ]
     },
     "execution_count": 80,
     "metadata": {},
     "output_type": "execute_result"
    }
   ],
   "source": [
    "tn"
   ]
  }
 ],
 "metadata": {
  "kernelspec": {
   "display_name": "Python 3 (ipykernel)",
   "language": "python",
   "name": "python3"
  },
  "language_info": {
   "codemirror_mode": {
    "name": "ipython",
    "version": 3
   },
   "file_extension": ".py",
   "mimetype": "text/x-python",
   "name": "python",
   "nbconvert_exporter": "python",
   "pygments_lexer": "ipython3",
   "version": "3.9.7"
  }
 },
 "nbformat": 4,
 "nbformat_minor": 5
}
