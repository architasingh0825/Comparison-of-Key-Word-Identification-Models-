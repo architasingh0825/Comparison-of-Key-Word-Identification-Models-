{
 "cells": [
  {
   "cell_type": "code",
   "execution_count": 1,
   "id": "7a1d7b3b",
   "metadata": {},
   "outputs": [],
   "source": [
    "import re\n",
    "from keybert import KeyBERT\n",
    "import nltk"
   ]
  },
  {
   "cell_type": "code",
   "execution_count": 2,
   "id": "84f78a2b",
   "metadata": {},
   "outputs": [],
   "source": [
    "#import nltk\n",
    "#import HTMLSession\n",
    "#from rake_nltk import Rake"
   ]
  },
  {
   "cell_type": "code",
   "execution_count": 3,
   "id": "997cdfec",
   "metadata": {},
   "outputs": [],
   "source": [
    "#with open('the_audio.txt') as f:\n",
    " #   lines = f.readlines()"
   ]
  },
  {
   "cell_type": "code",
   "execution_count": 4,
   "id": "e387cff9",
   "metadata": {},
   "outputs": [],
   "source": [
    "with open('output.txt') as f:\n",
    "    lines = f.readlines()"
   ]
  },
  {
   "cell_type": "code",
   "execution_count": 13,
   "id": "248db5a2",
   "metadata": {},
   "outputs": [],
   "source": [
    "linesStr = \" \".join(lines)"
   ]
  },
  {
   "cell_type": "code",
   "execution_count": 5,
   "id": "b22e1245",
   "metadata": {},
   "outputs": [],
   "source": [
    "model = KeyBERT(model = \"distilbert-base-nli-mean-tokens\")"
   ]
  },
  {
   "cell_type": "code",
   "execution_count": 16,
   "id": "6420f6ce",
   "metadata": {},
   "outputs": [
    {
     "data": {
      "application/vnd.jupyter.widget-view+json": {
       "model_id": "3f2a2c3eaf69465b880705210c264dba",
       "version_major": 2,
       "version_minor": 0
      },
      "text/plain": [
       "Downloading:   0%|          | 0.00/1.18k [00:00<?, ?B/s]"
      ]
     },
     "metadata": {},
     "output_type": "display_data"
    },
    {
     "data": {
      "application/vnd.jupyter.widget-view+json": {
       "model_id": "0d26b059824640109b68a469fc2ed72d",
       "version_major": 2,
       "version_minor": 0
      },
      "text/plain": [
       "Downloading:   0%|          | 0.00/190 [00:00<?, ?B/s]"
      ]
     },
     "metadata": {},
     "output_type": "display_data"
    },
    {
     "data": {
      "application/vnd.jupyter.widget-view+json": {
       "model_id": "4775968bc27346b686c729207e10a1cd",
       "version_major": 2,
       "version_minor": 0
      },
      "text/plain": [
       "Downloading:   0%|          | 0.00/10.6k [00:00<?, ?B/s]"
      ]
     },
     "metadata": {},
     "output_type": "display_data"
    },
    {
     "data": {
      "application/vnd.jupyter.widget-view+json": {
       "model_id": "8919f6f358974232a21cab1cd71a6548",
       "version_major": 2,
       "version_minor": 0
      },
      "text/plain": [
       "Downloading:   0%|          | 0.00/612 [00:00<?, ?B/s]"
      ]
     },
     "metadata": {},
     "output_type": "display_data"
    },
    {
     "data": {
      "application/vnd.jupyter.widget-view+json": {
       "model_id": "9013570f01714509bf5cf72cae9e464e",
       "version_major": 2,
       "version_minor": 0
      },
      "text/plain": [
       "Downloading:   0%|          | 0.00/116 [00:00<?, ?B/s]"
      ]
     },
     "metadata": {},
     "output_type": "display_data"
    },
    {
     "data": {
      "application/vnd.jupyter.widget-view+json": {
       "model_id": "6cb38f3675414da781b0b9bbf5f508fd",
       "version_major": 2,
       "version_minor": 0
      },
      "text/plain": [
       "Downloading:   0%|          | 0.00/39.3k [00:00<?, ?B/s]"
      ]
     },
     "metadata": {},
     "output_type": "display_data"
    },
    {
     "data": {
      "application/vnd.jupyter.widget-view+json": {
       "model_id": "33801078f57d4e79b26896772886f6fc",
       "version_major": 2,
       "version_minor": 0
      },
      "text/plain": [
       "Downloading:   0%|          | 0.00/90.9M [00:00<?, ?B/s]"
      ]
     },
     "metadata": {},
     "output_type": "display_data"
    },
    {
     "data": {
      "application/vnd.jupyter.widget-view+json": {
       "model_id": "e7f2ad5e6fa34c81af45020b90a200bb",
       "version_major": 2,
       "version_minor": 0
      },
      "text/plain": [
       "Downloading:   0%|          | 0.00/53.0 [00:00<?, ?B/s]"
      ]
     },
     "metadata": {},
     "output_type": "display_data"
    },
    {
     "data": {
      "application/vnd.jupyter.widget-view+json": {
       "model_id": "69ef496cb33c451e90b7c047663a900c",
       "version_major": 2,
       "version_minor": 0
      },
      "text/plain": [
       "Downloading:   0%|          | 0.00/112 [00:00<?, ?B/s]"
      ]
     },
     "metadata": {},
     "output_type": "display_data"
    },
    {
     "data": {
      "application/vnd.jupyter.widget-view+json": {
       "model_id": "52a7b4179e8d4e83acd859bbe6fd94d1",
       "version_major": 2,
       "version_minor": 0
      },
      "text/plain": [
       "Downloading:   0%|          | 0.00/466k [00:00<?, ?B/s]"
      ]
     },
     "metadata": {},
     "output_type": "display_data"
    },
    {
     "data": {
      "application/vnd.jupyter.widget-view+json": {
       "model_id": "5ffcbcb7fc5947df818dcfba2f32eab3",
       "version_major": 2,
       "version_minor": 0
      },
      "text/plain": [
       "Downloading:   0%|          | 0.00/350 [00:00<?, ?B/s]"
      ]
     },
     "metadata": {},
     "output_type": "display_data"
    },
    {
     "data": {
      "application/vnd.jupyter.widget-view+json": {
       "model_id": "25a7c1d0f155483688036e3ac355fb63",
       "version_major": 2,
       "version_minor": 0
      },
      "text/plain": [
       "Downloading:   0%|          | 0.00/13.2k [00:00<?, ?B/s]"
      ]
     },
     "metadata": {},
     "output_type": "display_data"
    },
    {
     "data": {
      "application/vnd.jupyter.widget-view+json": {
       "model_id": "01c192ae5cad43788c7e56f7a6bebbfd",
       "version_major": 2,
       "version_minor": 0
      },
      "text/plain": [
       "Downloading:   0%|          | 0.00/232k [00:00<?, ?B/s]"
      ]
     },
     "metadata": {},
     "output_type": "display_data"
    },
    {
     "data": {
      "application/vnd.jupyter.widget-view+json": {
       "model_id": "38d88e7ed9da4f15ba2761d7024e7285",
       "version_major": 2,
       "version_minor": 0
      },
      "text/plain": [
       "Downloading:   0%|          | 0.00/349 [00:00<?, ?B/s]"
      ]
     },
     "metadata": {},
     "output_type": "display_data"
    }
   ],
   "source": [
    "kw_model = KeyBERT()"
   ]
  },
  {
   "cell_type": "code",
   "execution_count": 6,
   "id": "8fff3d52",
   "metadata": {},
   "outputs": [],
   "source": [
    "doc1 = \"\"\"\n",
    "30.displacement.working till 4 to buy February.the Bodywork that's really what it boils down to.organism.Oregon, what's there.wow you know what I'm going to do is like a memorize a whole bunch of stuff.putting in detail section.and then again you can take it you can divide it up enough enough.how to make sperm.process for ovulation process.larger.postal system.internal environment.what is Papo.you still gets me and see what happens when.going to medical school and in other professional School.?.but you don't understand understand how it works.let's.all the different system.our structure in frayser Boulevard it also protectors.material.make new things already you come in here with no right.all right it's a long way right so we need to deal with this.your body's job is to try to maintain.you think about your body.the way that we do this principle or concept.find a different way of mass balance for the law of mass action will be used in chemistry.terrible Mall.can your body have to have on that play 40 years ago.okay.Play Back in the pantry.constant ear.it's so easy Wonder think of okay things things on secreting or exporting really.there are things that I'm losing.make something new.they making something new I've also lost something that I already have.it's so those are part of the chemical balances everybody have to deal with.very often we have to remember this as well.so our bodies deals with this Nest balance all the time not just in the tablet.this in many different areas.this is where we could start everything go down to the cellular level.has been divided into area.we have.how about a sweet and I don't like a dorm room suite.right example we have compartmentalization.would you agree.AutoZone.all right space has been divided all.compartment you need from each other is that barrier.it just this interstitial in basically.and that means little compartment in the fluid that move stuff around the bottom.exchanges between the blood plasma and.I just need to have a mechanism.problem that we have some when you start talking about it.always something going on.makeup.interstitial space.measure how much.virturaf chemical equilibrium.refer to as a discipline.Asus osmotically.supposed to be the plasma this is.and you can see for example.inside the cell..well we have an osmotic every single amount of stuff.what that means is that if you look at the body and count number of causes.but that's not internalized electrical.another word for moving because of where they're located.because we can take advantage of this is energy.equilibrium and it is a dynamic steady-state me.that's what that happened when that happens we're starting to affect your equilibrium.Shuffle backwards.regard to donate.you guys are technically Junior so you've already taken vile you one of my album to.you already understand.figure out what's going on.we have a plasma membrane and a plasma membrane.when you were traveling along Route.this is SeaWorld night Shannon.write up next.membrane.physical isolation.just like you have a wall at your house regulate.right out of the doorway.coworx.decide decide based on how that platinum ring works.forget your part of that my remembering right so you can explore the environment around.here I mean like an artifact machine imagines.I need to tell her using the 13 to communicate.hotel right beside remembering.April service Anna basolateral.3:45.a bunch of lipids.are water heating some water heated water expire.listen.a bilayer excluded from the water.when you look at the number of Plaza.what's going on with that sell still have lots of fun.so far all the time.refresh.what you're seeing here you can see here has a two fatty acid Tails this.hydrophobic.and so when you get a whole bunch of these what they do they do a random stuff.if you're this phospholipid around very rarely will you see.alright Spotify..chillers what Sound hearing at 4.but again I'm not going to ask you to know what the structural will let's talk.alright.I do consider.double fatty acids.and then the spa scene.it's always.but you can see if you're in the phosphate group and then there's that.typically.basically.accumulate.least.they're very common flipping this direction..cholesterol.hydrophobic.put myself into a plasma membrane.cholesterol is in the plasma membrane.straight or they can be slightly.figuration.disconfirmation.trans fatty acid tails in basically from getting too stiff.at what temperature's do most molecule stop moving.right and I cool down too fat.butter for the fridge.right.separate.variety.talking about them breaking into major classes.Marshalls.a protein is.till we all graduate.you stopped because.incredibly difficult word know and understand numbers and hashtag.Rosen Inn.who are going to be going on tonight.look at it.Volkswagen advertising.German words.integral proteins are integrated into the plasma membrane.sometimes we have her keys integrated into.integrated through but they'll be anchored down here with son.some proteins and move around on Pleasant membrane Cinemark anchored to Pleasantburg.protein.interact.extra.able to use as a way to communicate.material.r-bar.all right it was using infusion mode.replying to do cell.the pressure.so another words I'm talking to find out what's going on.friends that are.General category.halfway through it.concentrate.aquaporin this is a water for.transport molecules.to the other side so if you're picking something up.cannot open driver.Airport.you're not open to either side and it won't open.so that would be bound up the molecule.remember.concentration.workday brakes.is there moving things against the gradient where these are typically moving down the brakes.we're going to see here in just a moment which is a active form where my planets move something down the gravy but I'm use.downward gradient.your best friend in the short while.that's 1000 times.remembering this is our Jeep.activate speaker.so because it's integrated or associated with that memory.intercellular.play Mystikal case-control insulin pathway.sub membrane cytoskeletal elements.this would be.Credit Union.all the parts of the.anchoring what we do.CFMOTO co-anchoring Mustang Corsa.a bunch of lipids and three different types of angles.cholesterol.and these are carbohydrates.protein for women.beautiful Connecticut.fine marker.so it really is specific to the individual.glycoprotein.any questions so far just kind of Navigator.something out.no question.understand all right.or you probably remember to know.gradient that drives the movement of fluid I Want You to Breathe In For a Moment.what's the biggest.when I have gas.what's the primary.the respiratory system is a really easy way.alright it's hailing stuff at my body want.plasma is remember.there's a lot of stuff.a couple of those things are all moving in particular direction and are moving down for.removing specific things are up and down their concentration.4.Apartments.if a substance cannot pass through the membrane.permeability.alright looking at this molecule what type of molecule is it.important.something is permeable.lyrics to staying alive.that Shelby.around through the water.impermeable.highly soluble.so we're going to get with example.turn down the radio..have those cars.time moving through plasma membrane.remember this also.unless you need something if it's passes for.movement.ATP Leonard.so there are different types of transport necklaces.transport and secondary.transport diffusion.until May.story plot.I don't care.Byron for example.equilibrium.environment.are you done.permeable membrane.so there is no concentration concentration.directions.concentration never moving in the opposite direction and we're actually moving to.which is the direction I'm going.keep moving in all directions.directions.equilibrium.higher temperatures.kinetic energy.refer to the energy stored in the molecule so they're moving more frequently.score.smaller moves faster.has barrier.these are in the state some facts.tomorrow.marble baseball.you can see here you're looking at a property in the mall so the drunk working at the property.membrane.so.find the door door.distance.you know.alright.they want to move down that.with that with the keyboard.what was keeping it over there is still attracting an ion back in the directions.alternative directions.basically talking about the movement.many things can pass through no problem always 120 extra.so we're going to see.real Snapchat.so here's our ion when the channel is closed.all of them have this door gate.Tommy's channels.Easter always.cornerbacks.so we have open Channel that's always open.something you do that.concentration.this is where.refreshment modalities.mobile.different type of saying the mode.example.I like that.idea.so if you are a nasty Channel.if you are a cation channel of a bearing type.WhatsApp.basically you select what degree to find to you once you bind is this your open one side.open to the external environment is fine right.confirmation I'm not open to either.12.another word.or dog or cat or whatever you want.that's kind of what's going on here.can you go back to the confirmation.what are using carry me to transport the whole bunch of characteristics.so if your glucose carrier.specificity is one factor that.is there any more than one thing.A-1 Mulch.increase number of X can't exceed that bastard right.number of muscles.blindsight.transport this deals with using energy.the first time actually required energy to be directly use this is primary active transport so you actually have an 80th.release the energy energy causes confirmation change to move materials.directions to 11.water.energy trying to move into your directions so whatever.how long until you're in the process of them move something into directions.uphill.comment.attracted.outside gradient.accident because of confirmation.sodium.potassium and I'm building up concentration and direction that it doesn't want to go.but has no choice because.he can't go because it's more.elaborate.concentration gradient.positive confirmation.or should be.so this one doesn't.imbalanced equilibrium.memorize everything.directions.so using the same direction directions.appreciated.is similar.secondary active.in the same directions Sim alright so basically what we're doing is an exchange account.B2 carpet ball.body in ourselves work that they do.able to maintain.a great day guys.\n",
    "\"\"\""
   ]
  },
  {
   "cell_type": "code",
   "execution_count": 32,
   "id": "ba171d77",
   "metadata": {},
   "outputs": [],
   "source": [
    "linesStr += doc1"
   ]
  },
  {
   "cell_type": "code",
   "execution_count": 7,
   "id": "61e37758",
   "metadata": {},
   "outputs": [],
   "source": [
    "#\n",
    "#%%time\n",
    "#model.extract_keywords(\n",
    "#    doc1,\n",
    "#    top_n=50,\n",
    "#    keyphrase_ngram_range=(1,1),\n",
    "#    use_maxsum=True,\n",
    "    #use_maxsum eliminates similar keyphrases\n",
    "#    nr_candidates=50\n",
    "#)"
   ]
  },
  {
   "cell_type": "code",
   "execution_count": 15,
   "id": "4d36805a",
   "metadata": {},
   "outputs": [
    {
     "name": "stdout",
     "output_type": "stream",
     "text": [
      "Wall time: 2.66 s\n"
     ]
    },
    {
     "data": {
      "text/plain": [
       "[('plasma', -0.0665),\n",
       " ('sugars', -0.0652),\n",
       " ('competition', -0.0636),\n",
       " ('urinary', -0.0602),\n",
       " ('matrix', -0.0596),\n",
       " ('carbohydrates', -0.0596),\n",
       " ('ligand', -0.0591),\n",
       " ('cytoskeleton', -0.0587),\n",
       " ('glycoprotein', -0.0586),\n",
       " ('sugar', -0.0584),\n",
       " ('hydrolysis', -0.0552),\n",
       " ('carbohydrate', -0.0552),\n",
       " ('glycolipid', -0.0546),\n",
       " ('proton', -0.0517),\n",
       " ('lipids', -0.0513),\n",
       " ('reading', -0.0503),\n",
       " ('glucose', -0.0404),\n",
       " ('1020', -0.0377),\n",
       " ('biomolecules', -0.0366),\n",
       " ('quiz', -0.0364),\n",
       " ('dna', -0.0313),\n",
       " ('student', -0.0264),\n",
       " ('cholesterol', -0.0228),\n",
       " ('organ', -0.0216),\n",
       " ('nbcn1', -0.018),\n",
       " ('prereading', -0.0103),\n",
       " ('plasmalemma', -0.0048),\n",
       " ('enzymes', -0.0015),\n",
       " ('cellmatrix', 0.002),\n",
       " ('hco3exit', 0.0047),\n",
       " ('pathology', 0.0055),\n",
       " ('napi', 0.0102),\n",
       " ('pm', 0.0103),\n",
       " ('atp', 0.0105),\n",
       " ('2017', 0.012),\n",
       " ('ethanolamine', 0.0312),\n",
       " ('sphingomyelin', 0.0376),\n",
       " ('monday', 0.038),\n",
       " ('class', 0.0387),\n",
       " ('atpases', 0.0475),\n",
       " ('website', 0.0481),\n",
       " ('atpase', 0.0575),\n",
       " ('biology', 0.061),\n",
       " ('quizzes', 0.0677),\n",
       " ('30am', 0.0714),\n",
       " ('ligandbinding', 0.086),\n",
       " ('lecture', 0.0884),\n",
       " ('email', 0.0999),\n",
       " ('online', 0.1162),\n",
       " ('matrixbinding', 0.1293)]"
      ]
     },
     "execution_count": 15,
     "metadata": {},
     "output_type": "execute_result"
    }
   ],
   "source": [
    "%%time\n",
    "model.extract_keywords(\n",
    "    linesStr,\n",
    "    top_n=50,\n",
    "    keyphrase_ngram_range=(1,1),\n",
    "    use_maxsum=True,\n",
    "    #use_maxsum eliminates similar keyphrases\n",
    "    nr_candidates=50\n",
    ")"
   ]
  },
  {
   "cell_type": "code",
   "execution_count": 19,
   "id": "03035720",
   "metadata": {},
   "outputs": [
    {
     "data": {
      "text/plain": [
       "[('membrane', 0.4676),\n",
       " ('membranes', 0.4429),\n",
       " ('physiology', 0.4328),\n",
       " ('intracellular', 0.4309),\n",
       " ('cells', 0.4174)]"
      ]
     },
     "execution_count": 19,
     "metadata": {},
     "output_type": "execute_result"
    }
   ],
   "source": [
    "keywords = kw_model.extract_keywords(linesStr)\n",
    "keywords"
   ]
  },
  {
   "cell_type": "code",
   "execution_count": 34,
   "id": "53e4a1d7",
   "metadata": {},
   "outputs": [
    {
     "data": {
      "text/plain": [
       "'Orientation summary\\n Go to Blackboard\\n Familiarize yourself with the organization of the website\\n Read through the orientation slides\\n Familiarize yourself with what is required of you\\n Take the Orientation Quiz\\n Orientation assignment due on Fri 2/1 @ 11:59 pm.\\n \\n ¢ Buy the book, start reading.\\n Reading assignments and online quizzes before each\\n class (see orientation)\\n \\n new student Lecture 3 prereading quiz\\n \\n Opens at 6 pm, Monday (2/21)\\n \\n 10 Q’s, 30 min, 2 attempt\\n \\n Due @ 10:30am\\n \\n Questions?\\n \\n Watch the 1 recorded video via Blackboard\\n Do the Orientation Quiz and get a 100\\n Email me (info on website) as a last resort\\n \\n The plasma membrane\\n \\n aka, the cell membrane or\\n plasmalemma\\n \\n Functionally responsible for:\\n \\n Physical isolation acts as a physical\\n barrier between the contents of the\\n cell and the surrounding environment\\n \\n Regulation of exchange of materials —\\n controls the removal of waste, the\\n entry of nutrients and ions, & the\\n release of cellular products\\n \\n Communication between the cell & its\\n environment proteins found within\\n the membrane enable the cell to\\n monitor changes in the environment\\n and respond to molecular signals\\n \\n Structural support proteins serve as\\n a cytoskeleton maintaining cell shape,\\n creating specialized junctions between\\n cells and the extracellular matrix thus\\n stabilizing cells within tissues\\n \\n Cell A\\n \\n Cell B\\n \\n 43,000x 216,000x\\n 3 types of lipids found in the plasma\\n membrane: phospholipids\\n \\n : This icon is used in this text\\n Ethanolamine i to represent this and other\\n ie phospholipid molecules.\\n cH,\\n |\\n Phosphate i Inan aqueous environment,\\n oi 2 D PHOSPHOLIPID BILAYER polar hydrophilic mens\\n groups orient toward the\\n 3\" polar water...\\n \\n ...and nonpolar\\n (hydrophobic) tails orient\\n away from the water.\\n \\n Glycerol 4 ¢H—~ CH CH, nunuall\\n ry RRR\\n Ce ei J\\n \\n acid ¢ Structure\\n Polar phosphate/glycerol head (hydrophilic)\\n Nonpolar fatty acid tail (hydrophobic)\\n Typically arrange themselves to have\\n hydrophobic regions excluded from\\n water\\n \\n 2\\n Fel\\n \\n 3 types of lipids found in the plasma\\n membrane: sphingolipids\\n \\n Possess a fatty\\n ; | | oom Kon =a cid tail\\n \\n : cw | attached toa\\n  sphingosine\\n \\n D SPHINGOMYELIN E GALACTOCEREBROSIDE\\n ( (enor\\n \\n ¢ Head can bea\\n phosphocholine\\n or a sugar\\n monomer\\n \\n 3 types of lipids found in the plasma\\n membrane: sphingolipids\\n \\n Possess a fatty\\n ; | | oom Kon =a cid tail\\n \\n : cw | attached toa\\n  sphingosine\\n \\n D SPHINGOMYELIN E GALACTOCEREBROSIDE\\n ( (tenor\\n \\n ¢ Head can beat\\n phosphocholine\\n or a sugar\\n monomer\\n \\n 3 types of lipids found in the plasma\\n membrane: cholesterol\\n \\n Cholesterol\\n \\n \\n Cholesterol aids\\n in stiffening the\\n \\n membrane and\\n can flip easily.\\n \\n Very hydrophobic\\n Disrupts phospholipid interaction\\n \\n Helps to make the plasma membrane impermeable to H20\\n soluble molecules\\n Improves membrane flexibility over wide temperature ranges\\n \\n Phospholipids can\\n move laterally, rotate,\\n \\n or flex. Rarely do they\\n flip to the other leaflet.\\n \\n 3 types of lipids found in the plasma\\n membrane: cholesterol\\n \\n Cholesterol\\n \\n \\n Cholesterol aids\\n in stiffening the\\n \\n membrane and\\n can flip easily.\\n \\n Very hydrophobic\\n Disrupts phospholipid interaction\\n \\n Helps to make the plasma membrane impermeable to H20\\n soluble molecules\\n Improves membrane flexibility over wide temperature ranges\\n \\n Phospholipids can\\n move laterally, rotate,\\n \\n or flex. Rarely do they\\n flip to the other leaflet.\\n \\n Images © 2017 Elsevier, inc.\\n \\n Membrane proteins\\n \\n Peripheral proteins\\n \\n Attached loosely to the integral\\n proteins or polar heads of the lipids\\n \\n Include enzymes & structural binding\\n proteins\\n ¢ Integral, aka transmembrane\\n proteins\\n Extend across the membrane\\n \\n Possess hydrophobic segments that\\n anchor it in the membrane\\n \\n Classified by the number of\\n transmembrane segments they possess\\n \\n Extracellular & intracellular loops are\\n available for interaction with other\\n proteins and/or molecules\\n \\n F EE Some are anchored to cytoskeletal\\n J proteins making them immobile\\n Lipid anchored proteins\\n \\n Covalently bound to fatty acid tails and\\n found inserted in the bilayer\\n \\n Usually associated with sphingolipids\\n forming lipid rafts\\n \\n Sometimes considered integral protein\\n (depending on source)\\n \\n Peripheral protein vie Integral proteins\\n \\n Extracellular space\\n \\n Cytosol\\n Membrane proteins\\n \\n Peripheral proteins\\n \\n Attached loosely to the integral\\n proteins or polar heads of the lipids\\n \\n Include enzymes & structural binding\\n proteins\\n ¢ Integral, aka transmembrane\\n proteins\\n Extend across the membrane\\n \\n Possess hydrophobic segments that\\n anchor it in the membrane\\n \\n Classified by the number of\\n transmembrane segments they possess\\n \\n Extracellular & intracellular loops are\\n available for interaction with other\\n proteins and/or molecules\\n \\n F EE Some are anchored to cytoskeletal\\n J proteins making them immobile\\n Lipid anchored proteins\\n \\n Covalently bound to fatty acid tails and\\n found inserted in the bilayer\\n \\n Usually associated with sphingolipids\\n forming lipid rafts\\n \\n Sometimes considered integral protein\\n (depending on source)\\n \\n Peripheral protein vie Integral proteins\\n \\n Extracellular space\\n \\n Cytosol\\n Physiology\\n \\n The scientific study of the normal function of\\n living things\\n Focus on how organisms, organ systems, organs,\\n cells, and biomolecules carry out the chemical or\\n physical functions that exist in a living system\\n \\n ¢ A subdiscipline of biology\\n \\n Huge field, subdivided into multiple categories\\n Central theme of homeostasis\\n ¢ What is pathology?\\n Ligand binding receptors\\n \\n A LIGANDBINDING RECEPTOR\\n \\n 7 Characteristics\\n ~ Extracellular ligand\\n eerie binding domain\\n LBs Hydrophobic\\n b) transmembrane region\\n . Intracellular interacting\\n \\n domain\\n ¢ Function\\n The cytoplasmic domain) (CA  Receive and respond to\\n chemical messages\\n \\n Play an important role in\\n vesicular transport\\n \\n The helical domains\\n form a compact unit\\n in the membrane\\n \\n Copyright © 2017 by Elsevier, Inc. All rights reserved,\\n \\n Adhesion molecules\\n \\n B  CELLMATRIX ADHESION MOLECULE (INTEGRIN)\\n \\n ir\\n \\n Matrixbinding domain\\n \\n Extracellular matrix\\n \\n Transmembrane\\n segments\\n \\n TORT ANG\\n IANA\\n \\n The cytoplasmic\\n domains are linked\\n \\n to intracellular\\n proteins.\\n \\n Structural protein\\n \\n Allows the cell to form a\\n physical contact with its\\n environment\\n \\n Allow it to understand it’s\\n environment so that it may\\n adapt appropriately\\n \\n May be cellmatrix adhesion\\n or cellcell adhesion.\\n \\n Some may be GPI linked\\n (anchored to a phospholipid)\\n and lack a transmembrane\\n domain\\n \\n Transporter molecules\\n \\n ¢ Move molecules across membranes\\n Two general categories\\n \\n Channel proteins create water\\n filled passages between the ECF and\\n ICF. Allow rapid transport across the\\n membrane\\n \\n Pores\\n Channels\\n \\n Carrier proteins bind to substrates\\n and carry them from one side of the\\n membrane to the next. No direct\\n connection between ECF and ICF.\\n Can move larger molecules\\n \\n Carriers facilitate the movement of a\\n molecule across the membrane down\\n its concentration gradient OR couple\\n the transport of a molecule with the\\n movement of another solute\\n \\n Pumps Use the energy from the\\n hydrolysis of ATP to move solutes\\n into/out of the cell against their\\n concentration gradient\\n \\n ‘Copyright © 2017 by\\n \\n Other membrane molecule functions\\n \\n C G PROTEIN ACTING VIA A PHOSPHOLIPASE\\n Phospholipase PIP, «DAG ¢ Intracellular signaling\\n \\n Usually associated with inner leaflet\\n via a prenyl or fatty acid group\\n \\n Help to relay signals received at the\\n cell surface\\n \\n Examples: G proteins, kinases\\n Enzymes\\n Catalyze reactions on the inner side\\n of the plasma membane\\n Form submembranous cytoskeleton\\n Includes both integral and peripheral\\n proteins\\n Helps to organize the plasma\\n membrane into morphologically and\\n le functional different domains.\\n IA\\n \\n Ls x 5\\n \\n ii wide\\n NVAWNIRIA\\n \\n Other membrane molecule functions\\n \\n C G PROTEIN ACTING VIA A PHOSPHOLIPASE\\n Phospholipase PIP, «DAG ¢ Intracellular signaling\\n \\n Usually associated with inner leaflet\\n via a prenyl or fatty acid group\\n \\n Help to relay signals received at the\\n cell surface\\n \\n Examples: G proteins, kinases\\n Enzymes\\n Catalyze reactions on the inner side\\n of the plasma membane\\n Form submembranous cytoskeleton\\n Includes both integral and peripheral\\n proteins\\n Helps to organize the plasma\\n membrane into morphologically and\\n le functional different domains.\\n IA\\n \\n Ls x 5\\n \\n ii wide\\n NVAWNIRIA\\n \\n Membrane carbohydrates\\n \\n Extracellular fluid\\n (watery environment)\\n \\n Glycoprotein Glycolipid\\n Cholesterol\\n \\n Outwardfacing\\n \\n Carbohydrate layer of\\n \\n of glycocalyx phospholipids \\n Polar heads of ea\\n phospholipid 4\\n molecules\\n Bimolecular}\\\\.\\n lipid layer y,\\n containing\\n proteins\\n \\n Inwardfacing\\n layer of\\n phospholipids\\n \\n Nonpolar tails Peripheral Integral Filaments of\\n of phospholipid protein proteins cytoskeleton\\n molecules Cytoplasi\\n \\n m\\n (watery environment)\\n \\n ¢ Sugar chains attached to either a membrane protein (glycoprotein)\\n ora lipid (glycolipid)\\n Found only on the external surface of a cell\\n \\n ¢ Serve as highly specific biological markers that help cells identify\\n other cells\\n \\n ¢ The glycocalyx is a protective layer of membrane bound sugars\\n Bulk flow\\n \\n Pressure gradients causes fluids to flow from a\\n region of higher pressure to a region of lower\\n pressure\\n \\n ¢ All the components of the fluid moves en\\n masse\\n \\n Examples:\\n \\n Circulatory system\\n \\n Respiratory system\\n Bulk flow\\n \\n Pressure gradients causes fluids to flow from a\\n region of higher pressure to a region of lower\\n pressure\\n \\n ¢ All the components of the fluid moves en\\n masse\\n \\n Examples:\\n \\n Circulatory system\\n \\n Respiratory system\\n Bulk flow\\n \\n Pressure gradients causes fluids to flow from a\\n region of higher pressure to a region of lower\\n pressure\\n \\n ¢ All the components of the fluid moves en\\n masse\\n \\n Examples:\\n \\n Circulatory system\\n \\n Respiratory system\\n What properties influence\\n permeability?\\n \\n ¢ Relative solubility of a molecule in lipid\\n \\n Highly soluble: uncharged (O, & CO,)\\n and nonpolar molecules (fatty acids)\\n \\n Not soluble (watersoluble): charged\\n (Na& K*) and polar molecules (glucose)\\n \\n ¢ Size of the molecule\\n \\n Large molecules either enter with\\n difficulty or not at all\\n \\n Small molecules can easily move across\\n the membrane\\n \\n ¢ Force something needs to drive the\\n particle across the membrane\\n Passive: does not require energy (ATP) to\\n produce movement\\n \\n Active: does require energy (ATP) to\\n produce movement\\n \\n What are some of the things that the\\n human body does?\\n \\n Lymphatic Res| aspire rato ory Diges Urinary Reproductive\\n Sys! ert System Systet\\n What properties influence\\n permeability?\\n \\n ¢ Relative solubility of a molecule in lipid\\n \\n Highly soluble: uncharged (O, & CO,)\\n and nonpolar molecules (fatty acids)\\n \\n Not soluble (watersoluble): charged\\n (Na& K*) and polar molecules (glucose)\\n \\n ¢ Size of the molecule\\n \\n Large molecules either enter with\\n difficulty or not at all\\n \\n Small molecules can easily move across\\n the membrane\\n \\n ¢ Force something needs to drive the\\n particle across the membrane\\n Passive: does not require energy (ATP) to\\n produce movement\\n \\n Active: does require energy (ATP) to\\n produce movement\\n \\n Types of membrane transport\\n \\n Diffusion\\n \\n ¢ Protein Membrane\\n Transport\\n Facilitated diffusion\\n \\n Active transport\\n \\n ain a Secondary active transport\\n Vesicular transport\\n Osmosis\\n \\n Diffusion\\n \\n Diffusion of dye molecules | Equi\\n down their concentration gradient \"the cor\\n \\n librium occurs when\\n yncentration is uniform.\\n \\n The movement of molecules from an area of higher concentration\\n to an area lower concentration\\n \\n Purpose is to reach steady state between the two different\\n concentrations\\n \\n The movement of molecules causes them to gradually spread out until\\n they are evenly distributed throughout the available space\\n Properties of diffusion\\n \\n Diffusion is a passive process\\n \\n Concentration gradient Molecules move from an area of higher\\n concentration to an area of lower\\n concentration\\n \\n The difference between two adjacent areas is\\n called the concentration gradient\\n \\n *« Net movement of molecules occurs until the\\n concentration is equal everywhere\\n (equilibrium)\\n \\n Molecules are still moving at equilibrium but\\n there is no net movement\\n \\n Diffusion is faster\\n \\n Along higher concentration gradients\\n ——> Diffusion from area A Over shorter distances\\n to area B At higher temperatures\\n = Diffusion fromerea B For smaller molecules\\n to area A Diffusion can take place in an open system or\\n a partition that separates two systems\\n \\n The partition must allow the diffusing molecule to\\n (a) cross\\n \\n @ = Solute molecule\\n \\n Net diffusion\\n \\n Properties of diffusion\\n \\n Diffusion is a passive process\\n \\n Concentration gradient Molecules move from an area of higher\\n concentration to an area of lower\\n concentration\\n \\n The difference between two adjacent areas is\\n called the concentration gradient\\n \\n *« Net movement of molecules occurs until the\\n concentration is equal everywhere\\n (equilibrium)\\n \\n Molecules are still moving at equilibrium but\\n there is no net movement\\n \\n Diffusion is faster\\n \\n Along higher concentration gradients\\n ——> Diffusion from area A Over shorter distances\\n to area B At higher temperatures\\n = Diffusion fromerea B For smaller molecules\\n to area A Diffusion can take place in an open system or\\n a partition that separates two systems\\n \\n The partition must allow the diffusing molecule to\\n (a) cross\\n \\n @ = Solute molecule\\n \\n Net diffusion\\n \\n Fick’s Law of Diffusion\\n \\n Extracellular fluid\\n \\n Membrane Lipid\\n surface area solubility\\n \\n Molecular\\n \\n o\\'s\\n \\n Composition\\n of lipid layer\\n \\n Intracellular fluid\\n \\n Concentration\\n outside cell\\n \\n Membrane\\n thickness\\n \\n Concentration\\n gradient\\n \\n |\\n \\n Concentration\\n inside cell\\n \\n Factors affecting\\n rate of diffusion\\n through a cell\\n membrane:\\n ¢ Lipid solubility\\n Molecular size\\n Cell membrane\\n thickness\\n Concentration\\n gradient\\n Membrane\\n surface area\\n Composition\\n of lipid layer\\n \\n ¢ Properties of a membrane that affect the rate of diffusion\\n \\n The magnitude of the concentration gradient\\n The permeability of the membrane to the substance (dependent\\n \\n on the composition of the plasma membrane)\\n \\n The surface area\\n \\n diffusion must take place)\\n \\n The thickness of the membrane (distance through which\\n \\n Solute transport across membranes\\n \\n Solutes move down their concentration\\n gradients in passive, noncoupled transport\\n across a permeable membrane\\n \\n ¢ At equilibrium, the chemical and electrical\\n potential energy difference across the\\n \\n os , membrane are equal but opposite\\n Unidirectional flux in (>)\\n minus flux out (~)... [Xin\\n \\n RTIn Dour ZFVin\\n \\n X]>—>\\n ote The Nernst equation allows us to determine\\n the equilibrium potential (E,) for a given\\n \\n solute :\\n B=: RT 1 lin =. 60 Ind Jin\\n Extracellular space Cytosol ZF [X]out zy [x] out\\n Ww\\n Ay Where z, is the valence of the ion\\n Vin im ——¢ Insimple diffusion the flux of an uncharged\\n \\n substance is directly proportional to its\\n concentration gradient\\n \\n Pores and Channels\\n \\n A PORE (NONGATED CHANNEL) Pore is always open (no gate), forms a\\n direct conduit between the ECF and ICF\\n \\n ¢ Channels possess a region that acts like a\\n \\n Pores are conduits\\n that are always open.\\n \\n Closed channels\\n Called gated channels\\n ¢ Regulate the movement of ions through them\\n \\n ¢ Different types of stimuli control whether the\\n ES : Channels are conduits that gate opens or closes\\n \\n are gated by a “door.” . .\\n ~~ Chemicallygated channels intracellular\\n as | message or extracellular ligand\\n CE)\\n \\n Voltagegated channels electrical state of\\n the cell\\n \\n Mechanicallygated channels physical forces\\n ¢ Selectivity is determined by the diameter\\n of the center pore and the electrical\\n charge of the amino acids that line the\\n oe channel\\n \\n gate that exists in an open or closed state\\n ie Open channels\\n ¢ Spend most of their time with their gate open\\n 3 Often called leak channels or in the case of\\n Extracellular 2S $yioco! water channels, “water pores”\\n space amet\\n \\n Pores and Channels\\n \\n A PORE (NONGATED CHANNEL) Pore is always open (no gate), forms a\\n direct conduit between the ECF and ICF\\n \\n ¢ Channels possess a region that acts like a\\n \\n Pores are conduits\\n that are always open.\\n \\n Closed channels\\n Called gated channels\\n ¢ Regulate the movement of ions through them\\n \\n ¢ Different types of stimuli control whether the\\n ES : Channels are conduits that gate opens or closes\\n \\n are gated by a “door.” . .\\n ~~ Chemicallygated channels intracellular\\n as | message or extracellular ligand\\n CE)\\n \\n Voltagegated channels electrical state of\\n the cell\\n \\n Mechanicallygated channels physical forces\\n ¢ Selectivity is determined by the diameter\\n of the center pore and the electrical\\n charge of the amino acids that line the\\n oe channel\\n \\n gate that exists in an open or closed state\\n ie Open channels\\n ¢ Spend most of their time with their gate open\\n 3 Often called leak channels or in the case of\\n Extracellular 2S $yioco! water channels, “water pores”\\n space amet\\n \\n Pores and Channels\\n \\n A PORE (NONGATED CHANNEL) Pore is always open (no gate), forms a\\n direct conduit between the ECF and ICF\\n \\n ¢ Channels possess a region that acts like a\\n \\n Pores are conduits\\n that are always open.\\n \\n Closed channels\\n Called gated channels\\n ¢ Regulate the movement of ions through them\\n \\n ¢ Different types of stimuli control whether the\\n ES : Channels are conduits that gate opens or closes\\n \\n are gated by a “door.” . .\\n ~~ Chemicallygated channels intracellular\\n as | message or extracellular ligand\\n CE)\\n \\n Voltagegated channels electrical state of\\n the cell\\n \\n Mechanicallygated channels physical forces\\n ¢ Selectivity is determined by the diameter\\n of the center pore and the electrical\\n charge of the amino acids that line the\\n oe channel\\n \\n gate that exists in an open or closed state\\n ie Open channels\\n ¢ Spend most of their time with their gate open\\n 3 Often called leak channels or in the case of\\n Extracellular 2S $yioco! water channels, “water pores”\\n space amet\\n \\n The Law of Mass Balance\\n \\n co The body is an open system that\\n exchanges heat and materials with the\\n Termin nt outside environment\\n | j ¢ Aprimary function of the body is the\\n 4 maintenance of homeostasis a\\n \\n constant internal environment\\n ic | ¢ Functions on the principle of mass\\n —balance\\n \\n For any amount of substance in the body\\n to remain constant, any gain must be\\n (trough intestine, (by kaneys, ver, offset by an equal loss\\n \\n lungs, skin) lungs, skin)\\n ° } Gain = intake (via food and drink) as well\\n \\n > Booy  as materials produced\\n ( \\\\ Loss = usually accomplished through\\n poe oe excretion (think urine, feces, exhaling,\\n \\n sweating) but also through metabolism\\n (catabolic activity to break down &\\n Mass baiance = Exstng  monmote. ~ “mute anabolic to make something new)\\n \\n ly load production removal\\n \\n Law of Mass Balance\\n © CARRIER\\n \\n Copyright © 2017 by Elsevier, In. All rights reserved.\\n \\n Carriers\\n \\n Bind specific substrates\\n and carry them across a\\n membrane by changing\\n shape (conformation)\\n \\n Small organic\\n molecules (e.g. glucose,\\n amino acids)\\n \\n lons (e.g. Nat, K*)\\n \\n Move molecules much\\n \\n slower than channels\\n \\n Never create a\\n continuous passage\\n between the two sides\\n of the membrane\\n \\n a\\n Carriermediated Transport\\n \\n Glucose only\\n \\n  Glucose and\\n “galactose (1 mM)\\n \\n Glucose transport rate\\n \\n 5 10 15\\n Glucose concentration (mM)\\n \\n Transport maximum\\n \\n Rate of transport into cell —>\\n \\n Extracellular substrate concentration —>\\n \\n Transport rate is proportional to substrate\\n concentration until the carriers are saturated.\\n \\n The characteristics that determine\\n what kind and amount of material to\\n be transported\\n \\n Specificity each carrier protein is\\n specific to the molecule it is supposed to\\n transport. Only very like/similar\\n molecules (in some cases) may bind to\\n the same carrier.\\n \\n Competition if the carrier can bind\\n more than one substance, then the rate\\n of transport is dependent on the\\n presence of the number of molecules of\\n both substances\\n \\n Saturation a limited number of carrier\\n binding sites are available within a\\n membrane. Results in the transport\\n maximum\\n Active transport\\n \\n ¢ Use of a carrier to transport a molecule across a membrane\\n against its gradient\\n \\n ¢ Binding site affinity is greater on the downstream side (lower\\n concentration)\\n \\n Two types of active transport\\n \\n Primary active transport energy in the form of ATP is directly used\\n to change carrier conformation and binding site affinity.\\n \\n Many of the transporters are ATPases: hydrolyze ATP > ADP + P;\\n Transporters are often called “pumps”\\n \\n Secondary active transport uses potential energy stored in the\\n concentration gradient of one molecule to push other molecules\\n against their concentration gradient. Ultimately is dependent on the\\n gradients created by primary active transport.\\n Active Transport: Na*Kpump\\n \\n ¢ Transports Naout of cell and Kinto cell\\n (against their gradients)\\n \\n Mechanism of action\\n AtPase activity changes conformation and\\n increases the affinity for Na*\\n Na+ binding induces carrier conformation\\n change so that Nais transported to ECF\\n Dephosphorylation changes conformation\\n so that carrier has a greater affinity for K*\\n \\n \"\\\\?\\n \\n i\\n SW\\n \\n i\\n M\\n \\n a)\\n \\n e. Kbinding restores original conformation to\\n allow Kinto ICF\\n = ¢ Establishes a Naand Kgradient across\\n ES the plasma membrane of all cells. This is\\n EA especially critical in nerves and muscles.\\n =)\\n \\n ¢ Regulates cell volume by controlling\\n solute concentrations inside the cell\\n \\n Potential energy stored in the new\\n concentration gradients serve as the\\n energy source for the cotransport of\\n glucose and amino acids\\n \\n Cotransporters\\n \\n A Na/GLUCOSE COTRANS G NalK/Cl DNa/HCO, COTRANS\\n PORTER (SGLT12) COTRANSPORTER (NKCC) PORTER (NBCet, €2)\\n Extracellular Cytosol\\n \\n space (ve)\\n \\n 1020. (ve)\\n ¢ 7 —\\n \\n Glucose 2@\\n \\n B Na/AMINO ACID H Na/Cl E Na/HCO, COTRANS\\n COTRANSPORTER COTRANSPORTER (NCC) PORTER (NBCet, 2)\\n = = 2 —\\n ‘Amino acid\\n © Na/PHOSPHATE 1 KCl F NaHCO, COTRANS\\n COTRANSPORTER (NaPi)  COTRANSPORTER (KCC) PORTER (NBCn1, n2)\\n \\n = = oF\\n \\n Secondary active transporters\\n ¢ All solutes move in the same direction\\n \\n J H/OLIGOPEPTIDE\\n COTRANSPORTER (PepT)\\n \\n )\\n —\\n \\n 000)\\n Peptide\\n \\n K H/MONOCARBOXYLATE\\n COTRANSPORTER (MCT)\\n \\n ©,\\n a:\\n \\n Monocarboxylate\\n \\n L H/DIVALENT METAL ION\\n COTRANSPORTER (DMT)\\n \\n Move 1 solute uphill (against concentration gradient), while moving\\n other solute(s) downhill (down concentration gradient)\\n Regulation of intracellular ion\\n concentrations\\n \\n In most cells, [CI] is modestly above equilibrium because The NaH exchanger and Na‘driven\\n | Cl uptake via the CIHCO, exchanger and Na/K/Cl CIHCO, keep intracellular pH and\\n cotransporter balances passive CI’ efflux through channels. [HCO3] above their equilibrium values.\\n \\n ©) ji S/sc\\n \\n CI channel CELHCO; Na/K/2Cl K/CI Proton CI channel NaH Na’driven Na/HCO3\\n exchanger cotransporter cotransporter channel for HCO3exit exchanger CIHCOs cotransporter\\n exchanger\\n \\n 8] x\\n Vtype a\\n H® pump |\\n \\n Copyright © 2017 by Elsevier, Inc. All rights reserved\\n \\n The Law of Mass Balance\\n \\n co The body is an open system that\\n exchanges heat and materials with the\\n Termin nt outside environment\\n | j ¢ Aprimary function of the body is the\\n 4 maintenance of homeostasis a\\n \\n constant internal environment\\n ic | ¢ Functions on the principle of mass\\n —balance\\n \\n For any amount of substance in the body\\n to remain constant, any gain must be\\n (trough intestine, (by kaneys, ver, offset by an equal loss\\n \\n lungs, skin) lungs, skin)\\n ° } Gain = intake (via food and drink) as well\\n \\n > Booy  as materials produced\\n ( \\\\ Loss = usually accomplished through\\n poe oe excretion (think urine, feces, exhaling,\\n \\n sweating) but also through metabolism\\n (catabolic activity to break down &\\n Mass baiance = Exstng  monmote. ~ “mute anabolic to make something new)\\n \\n ly load production removal\\n \\n Law of Mass Balance\\n The three fluid compartments of the\\n \\n EXTRACELLULAR,\\n \\n Capitay <H]\\n endothetrn\\n \\n Epieta |)\\n cals\\n \\n TOTAL BODY WATER = 42 ters\\n \\n Body can be divided into two\\n primary compartments: cells &\\n fluid\\n —ICF (intracellular fluid) fluid\\n that is found inside the cells\\n ECF (extracellular fluid) fluid\\n that is found outside the cells\\n Compartments are separated\\n by a barrier plasma\\n membrane\\n ECF is further divided by a\\n “wall” of cells that separates\\n fluid that circulates and that\\n which directly surrounds the\\n cells\\n Plasma fluid portion of the\\n blood\\n \\n Interstitial fluid fluid that\\n surrounds the cells\\n The three fluid compartments of the\\n \\n EXTRACELLULAR,\\n \\n Capitay <H]\\n endothetrn\\n \\n Epieta |)\\n cals\\n \\n TOTAL BODY WATER = 42 ters\\n \\n Body can be divided into two\\n primary compartments: cells &\\n fluid\\n —ICF (intracellular fluid) fluid\\n that is found inside the cells\\n ECF (extracellular fluid) fluid\\n that is found outside the cells\\n Compartments are separated\\n by a barrier plasma\\n membrane\\n ECF is further divided by a\\n “wall” of cells that separates\\n fluid that circulates and that\\n which directly surrounds the\\n cells\\n Plasma fluid portion of the\\n blood\\n \\n Interstitial fluid fluid that\\n surrounds the cells\\n Homeostasis # Equilibrium\\n \\n EXTRACELLULAR INTRACELLULAR\\n \\n CO}\\n Sieh rane Homeostasis refers to the stability of\\n i the body’s internal environment (e.g.\\n ee ——i a 2 the ECF & ICF)\\n i t cage While these compartments are relatively\\n N an stable in terms of composition they differ\\n \\n from one another in terms of\\n concentrations of solutes\\n \\n Asaresult there are concentration\\n gradients between the two\\n compartments\\n \\n Our bodies are in a state of osmotic\\n equilibrium (total amount of solute per\\n \\n =\\n \\n THUNSCELYAR FLUO ]\\n \\n 200 []P Plasma volume of fluid on either side of the\\n [Jt intersttia fluid cell membrane) but are in a state of\\n Z 160 [] © intracettutar uid chemical disequilibrium (certain\\n i | | | solutes are more concentrated in one\\n i  of the two compartments)\\n Eso Our bodies are electrically neutral, but\\n H w as result of ionic imbalances are in a\\n or iy state of electrical disequilibrium\\n Pic Pic Pic Pic Pic\\n Nat K+ cr HCO,” Large anions\\n \\n and proteins\\n Homeostasis # Equilibrium\\n \\n EXTRACELLULAR INTRACELLULAR\\n \\n CO}\\n Sieh rane Homeostasis refers to the stability of\\n i the body’s internal environment (e.g.\\n ee ——i a 2 the ECF & ICF)\\n i t cage While these compartments are relatively\\n N an stable in terms of composition they differ\\n \\n from one another in terms of\\n concentrations of solutes\\n \\n Asaresult there are concentration\\n gradients between the two\\n compartments\\n \\n Our bodies are in a state of osmotic\\n equilibrium (total amount of solute per\\n \\n =\\n \\n THUNSCELYAR FLUO ]\\n \\n 200 []P Plasma volume of fluid on either side of the\\n [Jt intersttia fluid cell membrane) but are in a state of\\n Z 160 [] © intracettutar uid chemical disequilibrium (certain\\n i | | | solutes are more concentrated in one\\n i  of the two compartments)\\n Eso Our bodies are electrically neutral, but\\n H w as result of ionic imbalances are in a\\n or iy state of electrical disequilibrium\\n Pic Pic Pic Pic Pic\\n Nat K+ cr HCO,” Large anions\\n \\n and proteins\\n Physiology\\n \\n The scientific study of the normal function of\\n living things\\n Focus on how organisms, organ systems, organs,\\n cells, and biomolecules carry out the chemical or\\n physical functions that exist in a living system\\n \\n ¢ Asubdiscipline of biology\\n \\n Huge field, subdivided into multiple categories\\n Central theme of homeostasis\\n ¢ What is pathology?\\n The plasma membrane\\n \\n aka, the cell membrane or\\n plasmalemma\\n \\n Functionally responsible for:\\n \\n Physical isolation acts as a physical\\n barrier between the contents of the\\n cell and the surrounding environment\\n \\n Regulation of exchange of materials —\\n controls the removal of waste, the\\n entry of nutrients and ions, & the\\n release of cellular products\\n \\n Communication between the cell & its\\n environment proteins found within\\n the membrane enable the cell to\\n monitor changes in the environment\\n and respond to molecular signals\\n \\n Structural support proteins serve as\\n a cytoskeleton maintaining cell shape,\\n creating specialized junctions between\\n cells and the extracellular matrix thus\\n stabilizing cells within tissues\\n \\n Cell A\\n \\n Cell B\\n \\n 43,000x 216,000x\\n The plasma membrane\\n \\n aka, the cell membrane or\\n plasmalemma\\n \\n Functionally responsible for:\\n \\n Physical isolation acts as a physical\\n barrier between the contents of the\\n cell and the surrounding environment\\n \\n Regulation of exchange of materials —\\n controls the removal of waste, the\\n entry of nutrients and ions, & the\\n release of cellular products\\n \\n Communication between the cell & its\\n environment proteins found within\\n the membrane enable the cell to\\n monitor changes in the environment\\n and respond to molecular signals\\n \\n Structural support proteins serve as\\n a cytoskeleton maintaining cell shape,\\n creating specialized junctions between\\n cells and the extracellular matrix thus\\n stabilizing cells within tissues\\n \\n Cell A\\n \\n Cell B\\n \\n \\n\\n30.displacement.working till 4 to buy February.the Bodywork that\\'s really what it boils down to.organism.Oregon, what\\'s there.wow you know what I\\'m going to do is like a memorize a whole bunch of stuff.putting in detail section.and then again you can take it you can divide it up enough enough.how to make sperm.process for ovulation process.larger.postal system.internal environment.what is Papo.you still gets me and see what happens when.going to medical school and in other professional School.?.but you don\\'t understand understand how it works.let\\'s.all the different system.our structure in frayser Boulevard it also protectors.material.make new things already you come in here with no right.all right it\\'s a long way right so we need to deal with this.your body\\'s job is to try to maintain.you think about your body.the way that we do this principle or concept.find a different way of mass balance for the law of mass action will be used in chemistry.terrible Mall.can your body have to have on that play 40 years ago.okay.Play Back in the pantry.constant ear.it\\'s so easy Wonder think of okay things things on secreting or exporting really.there are things that I\\'m losing.make something new.they making something new I\\'ve also lost something that I already have.it\\'s so those are part of the chemical balances everybody have to deal with.very often we have to remember this as well.so our bodies deals with this Nest balance all the time not just in the tablet.this in many different areas.this is where we could start everything go down to the cellular level.has been divided into area.we have.how about a sweet and I don\\'t like a dorm room suite.right example we have compartmentalization.would you agree.AutoZone.all right space has been divided all.compartment you need from each other is that barrier.it just this interstitial in basically.and that means little compartment in the fluid that move stuff around the bottom.exchanges between the blood plasma and.I just need to have a mechanism.problem that we have some when you start talking about it.always something going on.makeup.interstitial space.measure how much.virturaf chemical equilibrium.refer to as a discipline.Asus osmotically.supposed to be the plasma this is.and you can see for example.inside the cell..well we have an osmotic every single amount of stuff.what that means is that if you look at the body and count number of causes.but that\\'s not internalized electrical.another word for moving because of where they\\'re located.because we can take advantage of this is energy.equilibrium and it is a dynamic steady-state me.that\\'s what that happened when that happens we\\'re starting to affect your equilibrium.Shuffle backwards.regard to donate.you guys are technically Junior so you\\'ve already taken vile you one of my album to.you already understand.figure out what\\'s going on.we have a plasma membrane and a plasma membrane.when you were traveling along Route.this is SeaWorld night Shannon.write up next.membrane.physical isolation.just like you have a wall at your house regulate.right out of the doorway.coworx.decide decide based on how that platinum ring works.forget your part of that my remembering right so you can explore the environment around.here I mean like an artifact machine imagines.I need to tell her using the 13 to communicate.hotel right beside remembering.April service Anna basolateral.3:45.a bunch of lipids.are water heating some water heated water expire.listen.a bilayer excluded from the water.when you look at the number of Plaza.what\\'s going on with that sell still have lots of fun.so far all the time.refresh.what you\\'re seeing here you can see here has a two fatty acid Tails this.hydrophobic.and so when you get a whole bunch of these what they do they do a random stuff.if you\\'re this phospholipid around very rarely will you see.alright Spotify..chillers what Sound hearing at 4.but again I\\'m not going to ask you to know what the structural will let\\'s talk.alright.I do consider.double fatty acids.and then the spa scene.it\\'s always.but you can see if you\\'re in the phosphate group and then there\\'s that.typically.basically.accumulate.least.they\\'re very common flipping this direction..cholesterol.hydrophobic.put myself into a plasma membrane.cholesterol is in the plasma membrane.straight or they can be slightly.figuration.disconfirmation.trans fatty acid tails in basically from getting too stiff.at what temperature\\'s do most molecule stop moving.right and I cool down too fat.butter for the fridge.right.separate.variety.talking about them breaking into major classes.Marshalls.a protein is.till we all graduate.you stopped because.incredibly difficult word know and understand numbers and hashtag.Rosen Inn.who are going to be going on tonight.look at it.Volkswagen advertising.German words.integral proteins are integrated into the plasma membrane.sometimes we have her keys integrated into.integrated through but they\\'ll be anchored down here with son.some proteins and move around on Pleasant membrane Cinemark anchored to Pleasantburg.protein.interact.extra.able to use as a way to communicate.material.r-bar.all right it was using infusion mode.replying to do cell.the pressure.so another words I\\'m talking to find out what\\'s going on.friends that are.General category.halfway through it.concentrate.aquaporin this is a water for.transport molecules.to the other side so if you\\'re picking something up.cannot open driver.Airport.you\\'re not open to either side and it won\\'t open.so that would be bound up the molecule.remember.concentration.workday brakes.is there moving things against the gradient where these are typically moving down the brakes.we\\'re going to see here in just a moment which is a active form where my planets move something down the gravy but I\\'m use.downward gradient.your best friend in the short while.that\\'s 1000 times.remembering this is our Jeep.activate speaker.so because it\\'s integrated or associated with that memory.intercellular.play Mystikal case-control insulin pathway.sub membrane cytoskeletal elements.this would be.Credit Union.all the parts of the.anchoring what we do.CFMOTO co-anchoring Mustang Corsa.a bunch of lipids and three different types of angles.cholesterol.and these are carbohydrates.protein for women.beautiful Connecticut.fine marker.so it really is specific to the individual.glycoprotein.any questions so far just kind of Navigator.something out.no question.understand all right.or you probably remember to know.gradient that drives the movement of fluid I Want You to Breathe In For a Moment.what\\'s the biggest.when I have gas.what\\'s the primary.the respiratory system is a really easy way.alright it\\'s hailing stuff at my body want.plasma is remember.there\\'s a lot of stuff.a couple of those things are all moving in particular direction and are moving down for.removing specific things are up and down their concentration.4.Apartments.if a substance cannot pass through the membrane.permeability.alright looking at this molecule what type of molecule is it.important.something is permeable.lyrics to staying alive.that Shelby.around through the water.impermeable.highly soluble.so we\\'re going to get with example.turn down the radio..have those cars.time moving through plasma membrane.remember this also.unless you need something if it\\'s passes for.movement.ATP Leonard.so there are different types of transport necklaces.transport and secondary.transport diffusion.until May.story plot.I don\\'t care.Byron for example.equilibrium.environment.are you done.permeable membrane.so there is no concentration concentration.directions.concentration never moving in the opposite direction and we\\'re actually moving to.which is the direction I\\'m going.keep moving in all directions.directions.equilibrium.higher temperatures.kinetic energy.refer to the energy stored in the molecule so they\\'re moving more frequently.score.smaller moves faster.has barrier.these are in the state some facts.tomorrow.marble baseball.you can see here you\\'re looking at a property in the mall so the drunk working at the property.membrane.so.find the door door.distance.you know.alright.they want to move down that.with that with the keyboard.what was keeping it over there is still attracting an ion back in the directions.alternative directions.basically talking about the movement.many things can pass through no problem always 120 extra.so we\\'re going to see.real Snapchat.so here\\'s our ion when the channel is closed.all of them have this door gate.Tommy\\'s channels.Easter always.cornerbacks.so we have open Channel that\\'s always open.something you do that.concentration.this is where.refreshment modalities.mobile.different type of saying the mode.example.I like that.idea.so if you are a nasty Channel.if you are a cation channel of a bearing type.WhatsApp.basically you select what degree to find to you once you bind is this your open one side.open to the external environment is fine right.confirmation I\\'m not open to either.12.another word.or dog or cat or whatever you want.that\\'s kind of what\\'s going on here.can you go back to the confirmation.what are using carry me to transport the whole bunch of characteristics.so if your glucose carrier.specificity is one factor that.is there any more than one thing.A-1 Mulch.increase number of X can\\'t exceed that bastard right.number of muscles.blindsight.transport this deals with using energy.the first time actually required energy to be directly use this is primary active transport so you actually have an 80th.release the energy energy causes confirmation change to move materials.directions to 11.water.energy trying to move into your directions so whatever.how long until you\\'re in the process of them move something into directions.uphill.comment.attracted.outside gradient.accident because of confirmation.sodium.potassium and I\\'m building up concentration and direction that it doesn\\'t want to go.but has no choice because.he can\\'t go because it\\'s more.elaborate.concentration gradient.positive confirmation.or should be.so this one doesn\\'t.imbalanced equilibrium.memorize everything.directions.so using the same direction directions.appreciated.is similar.secondary active.in the same directions Sim alright so basically what we\\'re doing is an exchange account.B2 carpet ball.body in ourselves work that they do.able to maintain.a great day guys.\\n'"
      ]
     },
     "execution_count": 34,
     "metadata": {},
     "output_type": "execute_result"
    }
   ],
   "source": [
    "linesStr"
   ]
  },
  {
   "cell_type": "code",
   "execution_count": 33,
   "id": "d39342c5",
   "metadata": {},
   "outputs": [
    {
     "data": {
      "text/plain": [
       "[('chemistry', 0.1573),\n",
       " ('hco3exit', 0.16),\n",
       " ('bilayer', 0.1601),\n",
       " ('physical', 0.1606),\n",
       " ('characteristics', 0.1612),\n",
       " ('metabolism', 0.1615),\n",
       " ('enzymes', 0.1617),\n",
       " ('basolateral', 0.162),\n",
       " ('substances', 0.1629),\n",
       " ('surface', 0.1631),\n",
       " ('inwardfacing', 0.1649),\n",
       " ('protective', 0.1655),\n",
       " ('directions', 0.1655),\n",
       " ('glucose', 0.1666),\n",
       " ('cytosol', 0.1667),\n",
       " ('cholesterol', 0.1675),\n",
       " ('transport', 0.1675),\n",
       " ('barrier', 0.1686),\n",
       " ('movement', 0.1695),\n",
       " ('phospholipase', 0.1707),\n",
       " ('organ', 0.171),\n",
       " ('separates', 0.1722),\n",
       " ('potassium', 0.1726),\n",
       " ('blackboard', 0.1789),\n",
       " ('phosphocholine', 0.1794),\n",
       " ('lipid', 0.1812),\n",
       " ('protein', 0.1818),\n",
       " ('molecule', 0.1833),\n",
       " ('interacting', 0.1838),\n",
       " ('diffusion', 0.1847),\n",
       " ('lipids', 0.1847),\n",
       " ('interstitial', 0.185),\n",
       " ('fluids', 0.1863),\n",
       " ('regulates', 0.1865),\n",
       " ('filaments', 0.1869),\n",
       " ('stability', 0.1888),\n",
       " ('activity', 0.1896),\n",
       " ('sphingolipids', 0.1897),\n",
       " ('concentrations', 0.1921),\n",
       " ('ions', 0.1938),\n",
       " ('permeability', 0.1944),\n",
       " ('dephosphorylation', 0.1949),\n",
       " ('peptide', 0.195),\n",
       " ('pathway', 0.1969),\n",
       " ('circulates', 0.1976),\n",
       " ('glycoprotein', 0.2007),\n",
       " ('ligand', 0.2044),\n",
       " ('hydrophobic', 0.2064),\n",
       " ('compartment', 0.2096),\n",
       " ('molecular', 0.2096),\n",
       " ('biomolecules', 0.21),\n",
       " ('concentration', 0.2118),\n",
       " ('substrates', 0.2133),\n",
       " ('molecules', 0.2152),\n",
       " ('ligandbinding', 0.2161),\n",
       " ('mechanism', 0.2175),\n",
       " ('transports', 0.2212),\n",
       " ('signaling', 0.2284),\n",
       " ('bimolecular', 0.2285),\n",
       " ('ionic', 0.2297),\n",
       " ('atpases', 0.23),\n",
       " ('cytoplasmic', 0.2312),\n",
       " ('atpase', 0.2352),\n",
       " ('biological', 0.2356),\n",
       " ('substrate', 0.2371),\n",
       " ('cellmatrix', 0.2377),\n",
       " ('circulatory', 0.239),\n",
       " ('nutrients', 0.245),\n",
       " ('receptors', 0.2452),\n",
       " ('peripheral', 0.2456),\n",
       " ('isolation', 0.2485),\n",
       " ('adhesion', 0.2504),\n",
       " ('receptor', 0.2542),\n",
       " ('homeostasis', 0.2546),\n",
       " ('proteins', 0.2594),\n",
       " ('osmosis', 0.2608),\n",
       " ('phospholipids', 0.2614),\n",
       " ('plasma', 0.2668),\n",
       " ('plasmalemma', 0.2669),\n",
       " ('cytoskeletal', 0.2686),\n",
       " ('phospholipid', 0.2752),\n",
       " ('atp', 0.2791),\n",
       " ('compartments', 0.2849),\n",
       " ('cellular', 0.2896),\n",
       " ('orientation', 0.2928),\n",
       " ('biology', 0.3008),\n",
       " ('vesicular', 0.3057),\n",
       " ('kinases', 0.3109),\n",
       " ('cellcell', 0.315),\n",
       " ('cytoskeleton', 0.338),\n",
       " ('compartmentalization', 0.3456),\n",
       " ('transmembrane', 0.3541),\n",
       " ('extracellular', 0.366),\n",
       " ('cell', 0.3858),\n",
       " ('cells', 0.4174),\n",
       " ('intracellular', 0.4309),\n",
       " ('intercellular', 0.4312),\n",
       " ('physiology', 0.4328),\n",
       " ('membranes', 0.4429),\n",
       " ('membrane', 0.4676)]"
      ]
     },
     "execution_count": 33,
     "metadata": {},
     "output_type": "execute_result"
    }
   ],
   "source": [
    " kw_model.extract_keywords(linesStr, top_n=100,keyphrase_ngram_range=(1, 1),  use_maxsum=True, stop_words=None, nr_candidates=100)"
   ]
  },
  {
   "cell_type": "code",
   "execution_count": null,
   "id": "2999e83c",
   "metadata": {},
   "outputs": [],
   "source": []
  }
 ],
 "metadata": {
  "kernelspec": {
   "display_name": "Python 3 (ipykernel)",
   "language": "python",
   "name": "python3"
  },
  "language_info": {
   "codemirror_mode": {
    "name": "ipython",
    "version": 3
   },
   "file_extension": ".py",
   "mimetype": "text/x-python",
   "name": "python",
   "nbconvert_exporter": "python",
   "pygments_lexer": "ipython3",
   "version": "3.9.7"
  }
 },
 "nbformat": 4,
 "nbformat_minor": 5
}
