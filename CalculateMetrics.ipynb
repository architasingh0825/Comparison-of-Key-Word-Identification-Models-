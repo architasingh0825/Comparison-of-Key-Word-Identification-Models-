{
 "cells": [
  {
   "cell_type": "code",
   "execution_count": 1,
   "id": "d2154a8a",
   "metadata": {},
   "outputs": [],
   "source": [
    "def calculate_metrics(tp, tn, fp, fn):\n",
    "    # Calculate precision\n",
    "    precision = tp / (tp + fp) if (tp + fp) > 0 else 0\n",
    "\n",
    "    # Calculate recall (sensitivity)\n",
    "    recall = tp / (tp + fn) if (tp + fn) > 0 else 0\n",
    "\n",
    "    # Calculate F1-score\n",
    "    f1_score = 2 * (precision * recall) / (precision + recall) if (precision + recall) > 0 else 0\n",
    "\n",
    "    # Calculate accuracy\n",
    "    accuracy = (tp + tn) / (tp + tn + fp + fn) if (tp + tn + fp + fn) > 0 else 0\n",
    "\n",
    "    return precision, recall, f1_score, accuracy"
   ]
  },
  {
   "cell_type": "code",
   "execution_count": 2,
   "id": "3e8347b5",
   "metadata": {},
   "outputs": [
    {
     "name": "stdout",
     "output_type": "stream",
     "text": [
      "Partial Confusion Matrix: KeyBert’s Algorithm Using Only OCR\n",
      "Precision: 0.10038610038610038\n",
      "Recall (Sensitivity): 0.14689265536723164\n",
      "F1-score: 0.11926605504587157\n",
      "Accuracy: 0.9164127122333479\n"
     ]
    }
   ],
   "source": [
    "print('Partial Confusion Matrix: KeyBert’s Algorithm Using Only OCR')\n",
    "tp = 26\n",
    "tn = 4184\n",
    "fp = 233\n",
    "fn = 151\n",
    "\n",
    "precision, recall, f1_score, accuracy = calculate_metrics(tp, tn, fp, fn)\n",
    "\n",
    "print(\"Precision:\", precision)\n",
    "print(\"Recall (Sensitivity):\", recall)\n",
    "print(\"F1-score:\", f1_score)\n",
    "print(\"Accuracy:\", accuracy)"
   ]
  },
  {
   "cell_type": "code",
   "execution_count": 3,
   "id": "6dd5d904",
   "metadata": {},
   "outputs": [
    {
     "name": "stdout",
     "output_type": "stream",
     "text": [
      "Strict Confusion Matrix: KeyBert’s Algorithm Using Only OCR\n",
      "Precision: 0.10756972111553785\n",
      "Recall (Sensitivity): 0.15254237288135594\n",
      "F1-score: 0.12616822429906543\n",
      "Accuracy: 0.9185894645189377\n"
     ]
    }
   ],
   "source": [
    "print('Strict Confusion Matrix: KeyBert’s Algorithm Using Only OCR')\n",
    "tp = 27\n",
    "tn = 4193\n",
    "fp = 224\n",
    "fn = 150\n",
    "\n",
    "precision, recall, f1_score, accuracy = calculate_metrics(tp, tn, fp, fn)\n",
    "\n",
    "print(\"Precision:\", precision)\n",
    "print(\"Recall (Sensitivity):\", recall)\n",
    "print(\"F1-score:\", f1_score)\n",
    "print(\"Accuracy:\", accuracy)"
   ]
  },
  {
   "cell_type": "code",
   "execution_count": 4,
   "id": "7cdf22b2",
   "metadata": {},
   "outputs": [
    {
     "name": "stdout",
     "output_type": "stream",
     "text": [
      "Partial Confusion Matrix: KeyBert’s Algorithm Using OCR and Speech Transcript\n",
      "Precision: 0.875\n",
      "Recall (Sensitivity): 0.7777777777777778\n",
      "F1-score: 0.823529411764706\n",
      "Accuracy: 0.8333333333333334\n"
     ]
    }
   ],
   "source": [
    "print('Partial Confusion Matrix: KeyBert’s Algorithm Using OCR and Speech Transcript')\n",
    "tp = 70\n",
    "tn = 80\n",
    "fp = 10\n",
    "fn = 20\n",
    "\n",
    "precision, recall, f1_score, accuracy = calculate_metrics(tp, tn, fp, fn)\n",
    "\n",
    "print(\"Precision:\", precision)\n",
    "print(\"Recall (Sensitivity):\", recall)\n",
    "print(\"F1-score:\", f1_score)\n",
    "print(\"Accuracy:\", accuracy)"
   ]
  },
  {
   "cell_type": "code",
   "execution_count": 5,
   "id": "ada93521",
   "metadata": {},
   "outputs": [
    {
     "name": "stdout",
     "output_type": "stream",
     "text": [
      "Strict Confusion Matrix: KeyBert’s Algorithm Using OCR and Speech Transcript\n",
      "Precision: 0.875\n",
      "Recall (Sensitivity): 0.7777777777777778\n",
      "F1-score: 0.823529411764706\n",
      "Accuracy: 0.8333333333333334\n"
     ]
    }
   ],
   "source": [
    "print('Strict Confusion Matrix: KeyBert’s Algorithm Using OCR and Speech Transcript')\n",
    "tp = 70\n",
    "tn = 80\n",
    "fp = 10\n",
    "fn = 20\n",
    "\n",
    "precision, recall, f1_score, accuracy = calculate_metrics(tp, tn, fp, fn)\n",
    "\n",
    "print(\"Precision:\", precision)\n",
    "print(\"Recall (Sensitivity):\", recall)\n",
    "print(\"F1-score:\", f1_score)\n",
    "print(\"Accuracy:\", accuracy)"
   ]
  },
  {
   "cell_type": "code",
   "execution_count": 6,
   "id": "d5ae660d",
   "metadata": {},
   "outputs": [
    {
     "name": "stdout",
     "output_type": "stream",
     "text": [
      "Partial Confusion Matrix: Videopoint’s Algorithm\n",
      "Precision: 0.3324175824175824\n",
      "Recall (Sensitivity): 0.6836158192090396\n",
      "F1-score: 0.44731977818853974\n",
      "Accuracy: 0.934915106660862\n"
     ]
    }
   ],
   "source": [
    "print('Partial Confusion Matrix: Videopoint’s Algorithm')\n",
    "tp = 121\n",
    "tn = 4174\n",
    "fp = 243\n",
    "fn = 56\n",
    "\n",
    "precision, recall, f1_score, accuracy = calculate_metrics(tp, tn, fp, fn)\n",
    "\n",
    "print(\"Precision:\", precision)\n",
    "print(\"Recall (Sensitivity):\", recall)\n",
    "print(\"F1-score:\", f1_score)\n",
    "print(\"Accuracy:\", accuracy)"
   ]
  },
  {
   "cell_type": "code",
   "execution_count": 7,
   "id": "506692f8",
   "metadata": {},
   "outputs": [
    {
     "name": "stdout",
     "output_type": "stream",
     "text": [
      "Strict Confusion Matrix: Videopoint’s Algorithm\n",
      "Precision: 0.08791208791208792\n",
      "Recall (Sensitivity): 0.1807909604519774\n",
      "F1-score: 0.11829944547134934\n",
      "Accuracy: 0.8961689159773618\n"
     ]
    }
   ],
   "source": [
    "print('Strict Confusion Matrix: Videopoint’s Algorithm')\n",
    "tp = 32\n",
    "tn = 4085\n",
    "fp = 332\n",
    "fn = 145\n",
    "\n",
    "precision, recall, f1_score, accuracy = calculate_metrics(tp, tn, fp, fn)\n",
    "\n",
    "print(\"Precision:\", precision)\n",
    "print(\"Recall (Sensitivity):\", recall)\n",
    "print(\"F1-score:\", f1_score)\n",
    "print(\"Accuracy:\", accuracy)"
   ]
  }
 ],
 "metadata": {
  "kernelspec": {
   "display_name": "Python 3 (ipykernel)",
   "language": "python",
   "name": "python3"
  },
  "language_info": {
   "codemirror_mode": {
    "name": "ipython",
    "version": 3
   },
   "file_extension": ".py",
   "mimetype": "text/x-python",
   "name": "python",
   "nbconvert_exporter": "python",
   "pygments_lexer": "ipython3",
   "version": "3.9.7"
  }
 },
 "nbformat": 4,
 "nbformat_minor": 5
}
