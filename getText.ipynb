{
 "cells": [
  {
   "cell_type": "code",
   "execution_count": 1,
   "id": "916cabbf",
   "metadata": {},
   "outputs": [
    {
     "name": "stdout",
     "output_type": "stream",
     "text": [
      "Requirement already satisfied: opencv-python in c:\\users\\jsrar\\anaconda3\\lib\\site-packages (4.6.0.66)\n",
      "Requirement already satisfied: numpy>=1.17.3 in c:\\users\\jsrar\\anaconda3\\lib\\site-packages (from opencv-python) (1.20.3)\n",
      "Note: you may need to restart the kernel to use updated packages.\n"
     ]
    }
   ],
   "source": [
    "pip install opencv-python\n"
   ]
  },
  {
   "cell_type": "code",
   "execution_count": 2,
   "id": "66225f92",
   "metadata": {},
   "outputs": [],
   "source": [
    "from __future__ import unicode_literals\n",
    "from PIL import Image\n",
    "import pytesseract\n",
    "\n",
    "import os\n",
    "import cv2\n",
    "import shutil"
   ]
  },
  {
   "cell_type": "code",
   "execution_count": 3,
   "id": "958f118b",
   "metadata": {},
   "outputs": [
    {
     "ename": "NameError",
     "evalue": "name 'KeyBERT' is not defined",
     "output_type": "error",
     "traceback": [
      "\u001b[1;31m---------------------------------------------------------------------------\u001b[0m",
      "\u001b[1;31mNameError\u001b[0m                                 Traceback (most recent call last)",
      "\u001b[1;32m~\\AppData\\Local\\Temp/ipykernel_50112/252516657.py\u001b[0m in \u001b[0;36m<module>\u001b[1;34m\u001b[0m\n\u001b[1;32m----> 1\u001b[1;33m \u001b[0mmodel\u001b[0m \u001b[1;33m=\u001b[0m \u001b[0mKeyBERT\u001b[0m\u001b[1;33m(\u001b[0m\u001b[0mmodel\u001b[0m \u001b[1;33m=\u001b[0m \u001b[1;34m\"distilbert-base-nli-mean-tokens\"\u001b[0m\u001b[1;33m)\u001b[0m\u001b[1;33m\u001b[0m\u001b[1;33m\u001b[0m\u001b[0m\n\u001b[0m",
      "\u001b[1;31mNameError\u001b[0m: name 'KeyBERT' is not defined"
     ]
    }
   ],
   "source": [
    "model = KeyBERT(model = \"distilbert-base-nli-mean-tokens\")"
   ]
  },
  {
   "cell_type": "code",
   "execution_count": null,
   "id": "ecf5ec0d",
   "metadata": {},
   "outputs": [],
   "source": [
    "#path for image files\n",
    "image_frames = 'image_frames'\n",
    "trimmed = 'image_frames/trimmed'\n",
    "untrimmed = 'image_frames/untrimmed'\n",
    "\n",
    "op = []\n"
   ]
  },
  {
   "cell_type": "code",
   "execution_count": null,
   "id": "d1f6c26f",
   "metadata": {},
   "outputs": [],
   "source": [
    "def files():\n",
    "    try:\n",
    "        shutil.rmtree(image_frames)\n",
    "    except OSError:\n",
    "        pass\n",
    "    if not os.path.exists(image_frames):\n",
    "        os.makedirs(image_frames)\n",
    "        os.makedirs(trimmed)\n",
    "        os.makedirs(untrimmed)\n",
    "        \n",
    "    #specify source video path\n",
    "    src_vid = cv2.VideoCapture('LectureVid.mp4')\n",
    "    return(src_vid)"
   ]
  },
  {
   "cell_type": "code",
   "execution_count": null,
   "id": "c5bb2971",
   "metadata": {},
   "outputs": [],
   "source": [
    "def process(src_vid):\n",
    "    #Use an index to integer-name the files\n",
    "    index = 0\n",
    "    while src_vid.isOpened():\n",
    "        ret, frame = src_vid.read()\n",
    "        if not ret:\n",
    "            break\n",
    "        #name each frame and save as png\n",
    "        name = untrimmed + \"/\" + str(index) + '.png'\n",
    "        \n",
    "        #save every 100th frame\n",
    "        if index % 875 == 0:\n",
    "            print('Extracting frames...' + name)\n",
    "            cv2.imwrite(name, frame)\n",
    "        index= index + 1\n",
    "        if cv2.waitKey(10) & 0xFF == ord('q'):\n",
    "            break\n",
    "    src_vid.release()\n",
    "    cv2.destroyAllWindows()"
   ]
  },
  {
   "cell_type": "code",
   "execution_count": null,
   "id": "e9896b7c",
   "metadata": {},
   "outputs": [],
   "source": [
    "def get_text():\n",
    "    print(\"getting text from images\")\n",
    "    #do image to text on each png and save text to file\n",
    "    for i in os.listdir(untrimmed):\n",
    "        #print(str(i))\n",
    "        my_example = Image.open(untrimmed + \"/\" + i)\n",
    "        txt = pytesseract.image_to_string(my_example, lang = 'eng')\n",
    "        with open(\"output.txt\",\"a\") as f:\n",
    "            f.write(txt)"
   ]
  },
  {
   "cell_type": "code",
   "execution_count": null,
   "id": "6502d21e",
   "metadata": {},
   "outputs": [],
   "source": [
    "def get_text():\n",
    "    print(\"getting text from images\")\n",
    "    #do image to text on each png and save text to file\n",
    "    for i in os.listdir(untrimmed):\n",
    "        #print(str(i))\n",
    "        my_example = Image.open(untrimmed + \"/\" + i)\n",
    "        txt = pytesseract.image_to_string(my_example, lang = 'eng')\n",
    "        with open(\"output.txt\",\"a\") as f:\n",
    "            f.write(txt)\n",
    "        \n",
    "        "
   ]
  },
  {
   "cell_type": "code",
   "execution_count": null,
   "id": "0690810a",
   "metadata": {},
   "outputs": [],
   "source": []
  },
  {
   "cell_type": "code",
   "execution_count": null,
   "id": "5d1cd873",
   "metadata": {},
   "outputs": [],
   "source": [
    "def crop_images():\n",
    "    #crop the images with PIL to keep for reference/remove empty space\n",
    "    for i in os.listdir(untrimmed):\n",
    "        im = Image.open(untrimmed + \"/\" + i)\n",
    "        new_path = (trimmed + \"/\" + i + \"_.png\")\n",
    "        box = (400, 0, 900, 720)\n",
    "        region = im.crop(box)\n",
    "        region.save(new_path, \"PNG\")\n",
    "        "
   ]
  },
  {
   "cell_type": "code",
   "execution_count": null,
   "id": "b577c590",
   "metadata": {},
   "outputs": [],
   "source": [
    "if __name__ == '__main__':\n",
    "    vid = files()\n",
    "    process(vid)\n",
    "    get_text()\n",
    "    crop_images()\n"
   ]
  },
  {
   "cell_type": "code",
   "execution_count": null,
   "id": "d7c3d4ef",
   "metadata": {},
   "outputs": [],
   "source": []
  }
 ],
 "metadata": {
  "kernelspec": {
   "display_name": "Python 3 (ipykernel)",
   "language": "python",
   "name": "python3"
  },
  "language_info": {
   "codemirror_mode": {
    "name": "ipython",
    "version": 3
   },
   "file_extension": ".py",
   "mimetype": "text/x-python",
   "name": "python",
   "nbconvert_exporter": "python",
   "pygments_lexer": "ipython3",
   "version": "3.9.7"
  }
 },
 "nbformat": 4,
 "nbformat_minor": 5
}
